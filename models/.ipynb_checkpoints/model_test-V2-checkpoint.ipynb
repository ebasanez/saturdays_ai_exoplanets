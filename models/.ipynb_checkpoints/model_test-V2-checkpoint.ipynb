{
 "cells": [
  {
   "cell_type": "markdown",
   "metadata": {
    "colab_type": "text",
    "id": "-iZLRJQnho35"
   },
   "source": [
    "CNN Model"
   ]
  },
  {
   "cell_type": "code",
   "execution_count": 1,
   "metadata": {
    "colab": {
     "base_uri": "https://localhost:8080/",
     "height": 122
    },
    "colab_type": "code",
    "id": "LRWks0qN37il",
    "outputId": "3aa97435-2680-4ad1-ce4f-4cbaad03641f"
   },
   "outputs": [
    {
     "name": "stdout",
     "output_type": "stream",
     "text": [
      "Go to this URL in a browser: https://accounts.google.com/o/oauth2/auth?client_id=947318989803-6bn6qk8qdgf4n4g3pfee6491hc0brc4i.apps.googleusercontent.com&redirect_uri=urn%3aietf%3awg%3aoauth%3a2.0%3aoob&response_type=code&scope=email%20https%3a%2f%2fwww.googleapis.com%2fauth%2fdocs.test%20https%3a%2f%2fwww.googleapis.com%2fauth%2fdrive%20https%3a%2f%2fwww.googleapis.com%2fauth%2fdrive.photos.readonly%20https%3a%2f%2fwww.googleapis.com%2fauth%2fpeopleapi.readonly\n",
      "\n",
      "Enter your authorization code:\n",
      "··········\n",
      "Mounted at /content/drive\n"
     ]
    }
   ],
   "source": [
    "from google.colab import drive\n",
    "drive.mount('/content/drive')"
   ]
  },
  {
   "cell_type": "code",
   "execution_count": 0,
   "metadata": {
    "colab": {},
    "colab_type": "code",
    "id": "1CWnYvbuho39"
   },
   "outputs": [],
   "source": [
    "# conda install pytorch torchvision -c pytorch\n",
    "\n",
    "\n",
    "# Imports\n",
    "import numpy as np\n",
    "import matplotlib.pyplot as plt\n",
    "from sklearn.model_selection import train_test_split\n",
    "from bokeh.plotting import figure, show\n",
    "from bokeh.io import output_notebook\n",
    "from pathlib import Path\n",
    "\n",
    "import torch\n",
    "import torch.nn.functional as F\n",
    "from torch.utils.data import TensorDataset\n",
    "from torch.utils.data import DataLoader\n",
    "from torch import nn"
   ]
  },
  {
   "cell_type": "code",
   "execution_count": 137,
   "metadata": {
    "colab": {
     "base_uri": "https://localhost:8080/",
     "height": 34
    },
    "colab_type": "code",
    "id": "-XFoq-jOho4B",
    "outputId": "112fb3aa-5151-4091-89c8-b68278dc41c8"
   },
   "outputs": [
    {
     "name": "stdout",
     "output_type": "stream",
     "text": [
      "Using cuda\n"
     ]
    }
   ],
   "source": [
    "# Check whether GPU is available and choose a device to run the model on\n",
    "gpu_available = torch.cuda.is_available()\n",
    "device_name = \"cuda\" if gpu_available else \"cpu\"\n",
    "device = torch.device(device_name)\n",
    "\n",
    "print(f\"Using {device_name}\")"
   ]
  },
  {
   "cell_type": "markdown",
   "metadata": {
    "colab_type": "text",
    "id": "5hAanMBq_Pzf"
   },
   "source": [
    "Load the real lightcurve data"
   ]
  },
  {
   "cell_type": "code",
   "execution_count": 0,
   "metadata": {
    "colab": {},
    "colab_type": "code",
    "id": "71HOXpx_BMQ3"
   },
   "outputs": [],
   "source": [
    "# Load data\n",
    "\n",
    "project_folder = Path(\"/content/drive/My Drive/self-learning/ai_saturdays/project/saturdays_ai_exoplanets\")\n",
    "data_folder = project_folder/\"data\"\n",
    "\n",
    "X_filename = \"X_fold_noCentroid_noNans.npy\"\n",
    "y_filename = \"y_fold_noCentroid_noNans.npy\"\n",
    "z_filename = \"z_fold_noCentroid_noNans.npy\"\n",
    "\n",
    "datanpy    = np.load(data_folder/X_filename)\n",
    "labelsnpy  = np.load(data_folder/y_filename)\n",
    "namesnpy   = np.load(data_folder/z_filename)\n",
    "\n",
    "augmentation = False\n",
    "\n",
    "if augmentation:\n",
    "    datanpy_reverse = np.flip(datanpy, 1)\n",
    "    datanpy = np.concatenate([datanpy, datanpy_reverse], axis=0)\n",
    "    labelsnpy = np.concatenate([labelsnpy, labelsnpy])\n",
    "    namesnpy = np.concatenate([namesnpy, namesnpy])\n",
    "\n",
    "\n",
    "\n",
    "\n",
    "nof_planets  = (labelsnpy == 1).sum()  # Number of actual planets\n",
    "nof_falsepos = (labelsnpy == 0).sum()  # Number of false positives\n",
    "\n",
    "len_global_lightcurves = 2049  # Length of first column of input array, should be odd\n",
    "len_local_lightcurves  =  257  # Length of second column of input array, should be odd\n",
    "len_extra_parameters   =    0  # Length of extra parameters for the model input\n",
    "\n",
    "X = torch.from_numpy(datanpy).float().unsqueeze(1).to(device, dtype=torch.float)\n",
    "y = torch.from_numpy(labelsnpy).int().to(device, dtype=torch.long)"
   ]
  },
  {
   "cell_type": "code",
   "execution_count": 219,
   "metadata": {
    "colab": {
     "base_uri": "https://localhost:8080/",
     "height": 34
    },
    "colab_type": "code",
    "id": "XVAOUZ3IO7Mu",
    "outputId": "08512ae1-bc98-4cca-f88f-3b24214a6a83"
   },
   "outputs": [
    {
     "data": {
      "text/plain": [
       "(7115, 2306)"
      ]
     },
     "execution_count": 219,
     "metadata": {
      "tags": []
     },
     "output_type": "execute_result"
    }
   ],
   "source": [
    "datanpy.shape"
   ]
  },
  {
   "cell_type": "markdown",
   "metadata": {
    "colab_type": "text",
    "id": "PJxmff83ZX-n"
   },
   "source": [
    "Let's plot a true positive case from the dataset."
   ]
  },
  {
   "cell_type": "code",
   "execution_count": 0,
   "metadata": {
    "colab": {},
    "colab_type": "code",
    "id": "8NNzdcJo3vKa"
   },
   "outputs": [],
   "source": [
    "def plot_lightcurves(tensor, status=\"\", object_name=\"\", color=\"blue\"):\n",
    "    if status == 1:\n",
    "        label = \"planet\"\n",
    "    elif status == 0:\n",
    "        label = \"false positive\"\n",
    "    else:\n",
    "        label = \"\"\n",
    "\n",
    "    output_notebook()\n",
    "    global_transit_plot = figure(title=f\"Global folded lightcurve for {label} {object_name}\",\n",
    "                                 x_axis_label=(\"Normalized time\"), \n",
    "                                 y_axis_label=(\"Normalized light intensity\"), \n",
    "                                 plot_width=800, plot_height=350)\n",
    "    global_transit_plot.scatter(\n",
    "        x=np.linspace(0, 1, len_global_lightcurves), \n",
    "        y=tensor[0, :len_global_lightcurves].cpu().numpy().flatten(),\n",
    "        color=color\n",
    "                                )\n",
    "\n",
    "    local_transit_plot = figure(title=f\"Local folded lightcurve for {label} {object_name}\",\n",
    "                                x_axis_label=(\"Normalized time\"), \n",
    "                                y_axis_label=(\"Normalized light intensity\"), \n",
    "                                plot_width=800, plot_height=350)\n",
    "    local_transit_plot.scatter(\n",
    "        x=np.linspace(0, 1, len_local_lightcurves), \n",
    "        y=tensor[0, len_global_lightcurves:].cpu().numpy().flatten(),\n",
    "        color=color\n",
    "                               )\n",
    "\n",
    "\n",
    "    show(global_transit_plot)\n",
    "    show(local_transit_plot)"
   ]
  },
  {
   "cell_type": "code",
   "execution_count": 221,
   "metadata": {
    "colab": {
     "base_uri": "https://localhost:8080/",
     "height": 717
    },
    "colab_type": "code",
    "id": "9wBhfwuX3vKd",
    "outputId": "72d32376-5ce1-43b9-8cb6-f65dcc7b4bd0"
   },
   "outputs": [
    {
     "data": {
      "application/javascript": [
       "\n",
       "(function(root) {\n",
       "  function now() {\n",
       "    return new Date();\n",
       "  }\n",
       "\n",
       "  var force = true;\n",
       "\n",
       "  if (typeof (root._bokeh_onload_callbacks) === \"undefined\" || force === true) {\n",
       "    root._bokeh_onload_callbacks = [];\n",
       "    root._bokeh_is_loading = undefined;\n",
       "  }\n",
       "\n",
       "  var JS_MIME_TYPE = 'application/javascript';\n",
       "  var HTML_MIME_TYPE = 'text/html';\n",
       "  var EXEC_MIME_TYPE = 'application/vnd.bokehjs_exec.v0+json';\n",
       "  var CLASS_NAME = 'output_bokeh rendered_html';\n",
       "\n",
       "  /**\n",
       "   * Render data to the DOM node\n",
       "   */\n",
       "  function render(props, node) {\n",
       "    var script = document.createElement(\"script\");\n",
       "    node.appendChild(script);\n",
       "  }\n",
       "\n",
       "  /**\n",
       "   * Handle when an output is cleared or removed\n",
       "   */\n",
       "  function handleClearOutput(event, handle) {\n",
       "    var cell = handle.cell;\n",
       "\n",
       "    var id = cell.output_area._bokeh_element_id;\n",
       "    var server_id = cell.output_area._bokeh_server_id;\n",
       "    // Clean up Bokeh references\n",
       "    if (id != null && id in Bokeh.index) {\n",
       "      Bokeh.index[id].model.document.clear();\n",
       "      delete Bokeh.index[id];\n",
       "    }\n",
       "\n",
       "    if (server_id !== undefined) {\n",
       "      // Clean up Bokeh references\n",
       "      var cmd = \"from bokeh.io.state import curstate; print(curstate().uuid_to_server['\" + server_id + \"'].get_sessions()[0].document.roots[0]._id)\";\n",
       "      cell.notebook.kernel.execute(cmd, {\n",
       "        iopub: {\n",
       "          output: function(msg) {\n",
       "            var id = msg.content.text.trim();\n",
       "            if (id in Bokeh.index) {\n",
       "              Bokeh.index[id].model.document.clear();\n",
       "              delete Bokeh.index[id];\n",
       "            }\n",
       "          }\n",
       "        }\n",
       "      });\n",
       "      // Destroy server and session\n",
       "      var cmd = \"import bokeh.io.notebook as ion; ion.destroy_server('\" + server_id + \"')\";\n",
       "      cell.notebook.kernel.execute(cmd);\n",
       "    }\n",
       "  }\n",
       "\n",
       "  /**\n",
       "   * Handle when a new output is added\n",
       "   */\n",
       "  function handleAddOutput(event, handle) {\n",
       "    var output_area = handle.output_area;\n",
       "    var output = handle.output;\n",
       "\n",
       "    // limit handleAddOutput to display_data with EXEC_MIME_TYPE content only\n",
       "    if ((output.output_type != \"display_data\") || (!output.data.hasOwnProperty(EXEC_MIME_TYPE))) {\n",
       "      return\n",
       "    }\n",
       "\n",
       "    var toinsert = output_area.element.find(\".\" + CLASS_NAME.split(' ')[0]);\n",
       "\n",
       "    if (output.metadata[EXEC_MIME_TYPE][\"id\"] !== undefined) {\n",
       "      toinsert[toinsert.length - 1].firstChild.textContent = output.data[JS_MIME_TYPE];\n",
       "      // store reference to embed id on output_area\n",
       "      output_area._bokeh_element_id = output.metadata[EXEC_MIME_TYPE][\"id\"];\n",
       "    }\n",
       "    if (output.metadata[EXEC_MIME_TYPE][\"server_id\"] !== undefined) {\n",
       "      var bk_div = document.createElement(\"div\");\n",
       "      bk_div.innerHTML = output.data[HTML_MIME_TYPE];\n",
       "      var script_attrs = bk_div.children[0].attributes;\n",
       "      for (var i = 0; i < script_attrs.length; i++) {\n",
       "        toinsert[toinsert.length - 1].firstChild.setAttribute(script_attrs[i].name, script_attrs[i].value);\n",
       "      }\n",
       "      // store reference to server id on output_area\n",
       "      output_area._bokeh_server_id = output.metadata[EXEC_MIME_TYPE][\"server_id\"];\n",
       "    }\n",
       "  }\n",
       "\n",
       "  function register_renderer(events, OutputArea) {\n",
       "\n",
       "    function append_mime(data, metadata, element) {\n",
       "      // create a DOM node to render to\n",
       "      var toinsert = this.create_output_subarea(\n",
       "        metadata,\n",
       "        CLASS_NAME,\n",
       "        EXEC_MIME_TYPE\n",
       "      );\n",
       "      this.keyboard_manager.register_events(toinsert);\n",
       "      // Render to node\n",
       "      var props = {data: data, metadata: metadata[EXEC_MIME_TYPE]};\n",
       "      render(props, toinsert[toinsert.length - 1]);\n",
       "      element.append(toinsert);\n",
       "      return toinsert\n",
       "    }\n",
       "\n",
       "    /* Handle when an output is cleared or removed */\n",
       "    events.on('clear_output.CodeCell', handleClearOutput);\n",
       "    events.on('delete.Cell', handleClearOutput);\n",
       "\n",
       "    /* Handle when a new output is added */\n",
       "    events.on('output_added.OutputArea', handleAddOutput);\n",
       "\n",
       "    /**\n",
       "     * Register the mime type and append_mime function with output_area\n",
       "     */\n",
       "    OutputArea.prototype.register_mime_type(EXEC_MIME_TYPE, append_mime, {\n",
       "      /* Is output safe? */\n",
       "      safe: true,\n",
       "      /* Index of renderer in `output_area.display_order` */\n",
       "      index: 0\n",
       "    });\n",
       "  }\n",
       "\n",
       "  // register the mime type if in Jupyter Notebook environment and previously unregistered\n",
       "  if (root.Jupyter !== undefined) {\n",
       "    var events = require('base/js/events');\n",
       "    var OutputArea = require('notebook/js/outputarea').OutputArea;\n",
       "\n",
       "    if (OutputArea.prototype.mime_types().indexOf(EXEC_MIME_TYPE) == -1) {\n",
       "      register_renderer(events, OutputArea);\n",
       "    }\n",
       "  }\n",
       "\n",
       "  \n",
       "  if (typeof (root._bokeh_timeout) === \"undefined\" || force === true) {\n",
       "    root._bokeh_timeout = Date.now() + 5000;\n",
       "    root._bokeh_failed_load = false;\n",
       "  }\n",
       "\n",
       "  var NB_LOAD_WARNING = {'data': {'text/html':\n",
       "     \"<div style='background-color: #fdd'>\\n\"+\n",
       "     \"<p>\\n\"+\n",
       "     \"BokehJS does not appear to have successfully loaded. If loading BokehJS from CDN, this \\n\"+\n",
       "     \"may be due to a slow or bad network connection. Possible fixes:\\n\"+\n",
       "     \"</p>\\n\"+\n",
       "     \"<ul>\\n\"+\n",
       "     \"<li>re-rerun `output_notebook()` to attempt to load from CDN again, or</li>\\n\"+\n",
       "     \"<li>use INLINE resources instead, as so:</li>\\n\"+\n",
       "     \"</ul>\\n\"+\n",
       "     \"<code>\\n\"+\n",
       "     \"from bokeh.resources import INLINE\\n\"+\n",
       "     \"output_notebook(resources=INLINE)\\n\"+\n",
       "     \"</code>\\n\"+\n",
       "     \"</div>\"}};\n",
       "\n",
       "  function display_loaded() {\n",
       "    var el = document.getElementById(null);\n",
       "    if (el != null) {\n",
       "      el.textContent = \"BokehJS is loading...\";\n",
       "    }\n",
       "    if (root.Bokeh !== undefined) {\n",
       "      if (el != null) {\n",
       "        el.textContent = \"BokehJS \" + root.Bokeh.version + \" successfully loaded.\";\n",
       "      }\n",
       "    } else if (Date.now() < root._bokeh_timeout) {\n",
       "      setTimeout(display_loaded, 100)\n",
       "    }\n",
       "  }\n",
       "\n",
       "\n",
       "  function run_callbacks() {\n",
       "    try {\n",
       "      root._bokeh_onload_callbacks.forEach(function(callback) { callback() });\n",
       "    }\n",
       "    finally {\n",
       "      delete root._bokeh_onload_callbacks\n",
       "    }\n",
       "    console.info(\"Bokeh: all callbacks have finished\");\n",
       "  }\n",
       "\n",
       "  function load_libs(js_urls, callback) {\n",
       "    root._bokeh_onload_callbacks.push(callback);\n",
       "    if (root._bokeh_is_loading > 0) {\n",
       "      console.log(\"Bokeh: BokehJS is being loaded, scheduling callback at\", now());\n",
       "      return null;\n",
       "    }\n",
       "    if (js_urls == null || js_urls.length === 0) {\n",
       "      run_callbacks();\n",
       "      return null;\n",
       "    }\n",
       "    console.log(\"Bokeh: BokehJS not loaded, scheduling load and callback at\", now());\n",
       "    root._bokeh_is_loading = js_urls.length;\n",
       "    for (var i = 0; i < js_urls.length; i++) {\n",
       "      var url = js_urls[i];\n",
       "      var s = document.createElement('script');\n",
       "      s.src = url;\n",
       "      s.async = false;\n",
       "      s.onreadystatechange = s.onload = function() {\n",
       "        root._bokeh_is_loading--;\n",
       "        if (root._bokeh_is_loading === 0) {\n",
       "          console.log(\"Bokeh: all BokehJS libraries loaded\");\n",
       "          run_callbacks()\n",
       "        }\n",
       "      };\n",
       "      s.onerror = function() {\n",
       "        console.warn(\"failed to load library \" + url);\n",
       "      };\n",
       "      console.log(\"Bokeh: injecting script tag for BokehJS library: \", url);\n",
       "      document.getElementsByTagName(\"head\")[0].appendChild(s);\n",
       "    }\n",
       "  };\n",
       "\n",
       "  var js_urls = [\"https://cdn.pydata.org/bokeh/release/bokeh-1.0.4.min.js\", \"https://cdn.pydata.org/bokeh/release/bokeh-widgets-1.0.4.min.js\", \"https://cdn.pydata.org/bokeh/release/bokeh-tables-1.0.4.min.js\", \"https://cdn.pydata.org/bokeh/release/bokeh-gl-1.0.4.min.js\"];\n",
       "\n",
       "  var inline_js = [\n",
       "    function(Bokeh) {\n",
       "      Bokeh.set_log_level(\"info\");\n",
       "    },\n",
       "    \n",
       "    function(Bokeh) {\n",
       "      \n",
       "    },\n",
       "    function(Bokeh) {\n",
       "      console.log(\"Bokeh: injecting CSS: https://cdn.pydata.org/bokeh/release/bokeh-1.0.4.min.css\");\n",
       "      Bokeh.embed.inject_css(\"https://cdn.pydata.org/bokeh/release/bokeh-1.0.4.min.css\");\n",
       "      console.log(\"Bokeh: injecting CSS: https://cdn.pydata.org/bokeh/release/bokeh-widgets-1.0.4.min.css\");\n",
       "      Bokeh.embed.inject_css(\"https://cdn.pydata.org/bokeh/release/bokeh-widgets-1.0.4.min.css\");\n",
       "      console.log(\"Bokeh: injecting CSS: https://cdn.pydata.org/bokeh/release/bokeh-tables-1.0.4.min.css\");\n",
       "      Bokeh.embed.inject_css(\"https://cdn.pydata.org/bokeh/release/bokeh-tables-1.0.4.min.css\");\n",
       "    }\n",
       "  ];\n",
       "\n",
       "  function run_inline_js() {\n",
       "    \n",
       "    if ((root.Bokeh !== undefined) || (force === true)) {\n",
       "      for (var i = 0; i < inline_js.length; i++) {\n",
       "        inline_js[i].call(root, root.Bokeh);\n",
       "      }} else if (Date.now() < root._bokeh_timeout) {\n",
       "      setTimeout(run_inline_js, 100);\n",
       "    } else if (!root._bokeh_failed_load) {\n",
       "      console.log(\"Bokeh: BokehJS failed to load within specified timeout.\");\n",
       "      root._bokeh_failed_load = true;\n",
       "    } else if (force !== true) {\n",
       "      var cell = $(document.getElementById(null)).parents('.cell').data().cell;\n",
       "      cell.output_area.append_execute_result(NB_LOAD_WARNING)\n",
       "    }\n",
       "\n",
       "  }\n",
       "\n",
       "  if (root._bokeh_is_loading === 0) {\n",
       "    console.log(\"Bokeh: BokehJS loaded, going straight to plotting\");\n",
       "    run_inline_js();\n",
       "  } else {\n",
       "    load_libs(js_urls, function() {\n",
       "      console.log(\"Bokeh: BokehJS plotting callback run at\", now());\n",
       "      run_inline_js();\n",
       "    });\n",
       "  }\n",
       "}(window));"
      ],
      "application/vnd.bokehjs_load.v0+json": "\n(function(root) {\n  function now() {\n    return new Date();\n  }\n\n  var force = true;\n\n  if (typeof (root._bokeh_onload_callbacks) === \"undefined\" || force === true) {\n    root._bokeh_onload_callbacks = [];\n    root._bokeh_is_loading = undefined;\n  }\n\n  \n\n  \n  if (typeof (root._bokeh_timeout) === \"undefined\" || force === true) {\n    root._bokeh_timeout = Date.now() + 5000;\n    root._bokeh_failed_load = false;\n  }\n\n  var NB_LOAD_WARNING = {'data': {'text/html':\n     \"<div style='background-color: #fdd'>\\n\"+\n     \"<p>\\n\"+\n     \"BokehJS does not appear to have successfully loaded. If loading BokehJS from CDN, this \\n\"+\n     \"may be due to a slow or bad network connection. Possible fixes:\\n\"+\n     \"</p>\\n\"+\n     \"<ul>\\n\"+\n     \"<li>re-rerun `output_notebook()` to attempt to load from CDN again, or</li>\\n\"+\n     \"<li>use INLINE resources instead, as so:</li>\\n\"+\n     \"</ul>\\n\"+\n     \"<code>\\n\"+\n     \"from bokeh.resources import INLINE\\n\"+\n     \"output_notebook(resources=INLINE)\\n\"+\n     \"</code>\\n\"+\n     \"</div>\"}};\n\n  function display_loaded() {\n    var el = document.getElementById(null);\n    if (el != null) {\n      el.textContent = \"BokehJS is loading...\";\n    }\n    if (root.Bokeh !== undefined) {\n      if (el != null) {\n        el.textContent = \"BokehJS \" + root.Bokeh.version + \" successfully loaded.\";\n      }\n    } else if (Date.now() < root._bokeh_timeout) {\n      setTimeout(display_loaded, 100)\n    }\n  }\n\n\n  function run_callbacks() {\n    try {\n      root._bokeh_onload_callbacks.forEach(function(callback) { callback() });\n    }\n    finally {\n      delete root._bokeh_onload_callbacks\n    }\n    console.info(\"Bokeh: all callbacks have finished\");\n  }\n\n  function load_libs(js_urls, callback) {\n    root._bokeh_onload_callbacks.push(callback);\n    if (root._bokeh_is_loading > 0) {\n      console.log(\"Bokeh: BokehJS is being loaded, scheduling callback at\", now());\n      return null;\n    }\n    if (js_urls == null || js_urls.length === 0) {\n      run_callbacks();\n      return null;\n    }\n    console.log(\"Bokeh: BokehJS not loaded, scheduling load and callback at\", now());\n    root._bokeh_is_loading = js_urls.length;\n    for (var i = 0; i < js_urls.length; i++) {\n      var url = js_urls[i];\n      var s = document.createElement('script');\n      s.src = url;\n      s.async = false;\n      s.onreadystatechange = s.onload = function() {\n        root._bokeh_is_loading--;\n        if (root._bokeh_is_loading === 0) {\n          console.log(\"Bokeh: all BokehJS libraries loaded\");\n          run_callbacks()\n        }\n      };\n      s.onerror = function() {\n        console.warn(\"failed to load library \" + url);\n      };\n      console.log(\"Bokeh: injecting script tag for BokehJS library: \", url);\n      document.getElementsByTagName(\"head\")[0].appendChild(s);\n    }\n  };\n\n  var js_urls = [\"https://cdn.pydata.org/bokeh/release/bokeh-1.0.4.min.js\", \"https://cdn.pydata.org/bokeh/release/bokeh-widgets-1.0.4.min.js\", \"https://cdn.pydata.org/bokeh/release/bokeh-tables-1.0.4.min.js\", \"https://cdn.pydata.org/bokeh/release/bokeh-gl-1.0.4.min.js\"];\n\n  var inline_js = [\n    function(Bokeh) {\n      Bokeh.set_log_level(\"info\");\n    },\n    \n    function(Bokeh) {\n      \n    },\n    function(Bokeh) {\n      console.log(\"Bokeh: injecting CSS: https://cdn.pydata.org/bokeh/release/bokeh-1.0.4.min.css\");\n      Bokeh.embed.inject_css(\"https://cdn.pydata.org/bokeh/release/bokeh-1.0.4.min.css\");\n      console.log(\"Bokeh: injecting CSS: https://cdn.pydata.org/bokeh/release/bokeh-widgets-1.0.4.min.css\");\n      Bokeh.embed.inject_css(\"https://cdn.pydata.org/bokeh/release/bokeh-widgets-1.0.4.min.css\");\n      console.log(\"Bokeh: injecting CSS: https://cdn.pydata.org/bokeh/release/bokeh-tables-1.0.4.min.css\");\n      Bokeh.embed.inject_css(\"https://cdn.pydata.org/bokeh/release/bokeh-tables-1.0.4.min.css\");\n    }\n  ];\n\n  function run_inline_js() {\n    \n    if ((root.Bokeh !== undefined) || (force === true)) {\n      for (var i = 0; i < inline_js.length; i++) {\n        inline_js[i].call(root, root.Bokeh);\n      }} else if (Date.now() < root._bokeh_timeout) {\n      setTimeout(run_inline_js, 100);\n    } else if (!root._bokeh_failed_load) {\n      console.log(\"Bokeh: BokehJS failed to load within specified timeout.\");\n      root._bokeh_failed_load = true;\n    } else if (force !== true) {\n      var cell = $(document.getElementById(null)).parents('.cell').data().cell;\n      cell.output_area.append_execute_result(NB_LOAD_WARNING)\n    }\n\n  }\n\n  if (root._bokeh_is_loading === 0) {\n    console.log(\"Bokeh: BokehJS loaded, going straight to plotting\");\n    run_inline_js();\n  } else {\n    load_libs(js_urls, function() {\n      console.log(\"Bokeh: BokehJS plotting callback run at\", now());\n      run_inline_js();\n    });\n  }\n}(window));"
     },
     "metadata": {
      "tags": []
     },
     "output_type": "display_data"
    },
    {
     "data": {
      "text/html": [
       "\n",
       "\n",
       "\n",
       "\n",
       "\n",
       "\n",
       "  <div class=\"bk-root\" id=\"4993478a-7606-4c73-9a17-fa370e6f843f\" data-root-id=\"6618\"></div>\n"
      ]
     },
     "metadata": {
      "tags": []
     },
     "output_type": "display_data"
    },
    {
     "data": {
      "application/javascript": [
       "(function(root) {\n",
       "  function embed_document(root) {\n",
       "    \n",
       "  var docs_json = {\"9ed548c6-3607-438a-931b-e197028ae0c5\":{\"roots\":{\"references\":[{\"attributes\":{\"below\":[{\"id\":\"6628\",\"type\":\"LinearAxis\"}],\"left\":[{\"id\":\"6633\",\"type\":\"LinearAxis\"}],\"plot_height\":350,\"plot_width\":800,\"renderers\":[{\"id\":\"6628\",\"type\":\"LinearAxis\"},{\"id\":\"6632\",\"type\":\"Grid\"},{\"id\":\"6633\",\"type\":\"LinearAxis\"},{\"id\":\"6637\",\"type\":\"Grid\"},{\"id\":\"6646\",\"type\":\"BoxAnnotation\"},{\"id\":\"6656\",\"type\":\"GlyphRenderer\"}],\"title\":{\"id\":\"6617\",\"type\":\"Title\"},\"toolbar\":{\"id\":\"6644\",\"type\":\"Toolbar\"},\"x_range\":{\"id\":\"6620\",\"type\":\"DataRange1d\"},\"x_scale\":{\"id\":\"6624\",\"type\":\"LinearScale\"},\"y_range\":{\"id\":\"6622\",\"type\":\"DataRange1d\"},\"y_scale\":{\"id\":\"6626\",\"type\":\"LinearScale\"}},\"id\":\"6618\",\"subtype\":\"Figure\",\"type\":\"Plot\"},{\"attributes\":{},\"id\":\"6642\",\"type\":\"ResetTool\"},{\"attributes\":{},\"id\":\"6950\",\"type\":\"BasicTickFormatter\"},{\"attributes\":{\"fill_alpha\":{\"value\":0.1},\"fill_color\":{\"value\":\"#1f77b4\"},\"line_alpha\":{\"value\":0.1},\"line_color\":{\"value\":\"#1f77b4\"},\"x\":{\"field\":\"x\"},\"y\":{\"field\":\"y\"}},\"id\":\"6655\",\"type\":\"Scatter\"},{\"attributes\":{},\"id\":\"6952\",\"type\":\"BasicTickFormatter\"},{\"attributes\":{\"axis_label\":\"Normalized time\",\"formatter\":{\"id\":\"6950\",\"type\":\"BasicTickFormatter\"},\"plot\":{\"id\":\"6618\",\"subtype\":\"Figure\",\"type\":\"Plot\"},\"ticker\":{\"id\":\"6629\",\"type\":\"BasicTicker\"}},\"id\":\"6628\",\"type\":\"LinearAxis\"},{\"attributes\":{},\"id\":\"6629\",\"type\":\"BasicTicker\"},{\"attributes\":{\"plot\":null,\"text\":\"Global folded lightcurve for planet K00752.01\"},\"id\":\"6617\",\"type\":\"Title\"},{\"attributes\":{\"source\":{\"id\":\"6653\",\"type\":\"ColumnDataSource\"}},\"id\":\"6657\",\"type\":\"CDSView\"},{\"attributes\":{\"callback\":null},\"id\":\"6622\",\"type\":\"DataRange1d\"},{\"attributes\":{},\"id\":\"6641\",\"type\":\"SaveTool\"},{\"attributes\":{\"callback\":null,\"data\":{\"x\":{\"__ndarray__\":\"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\",\"dtype\":\"float64\",\"shape\":[2049]},\"y\":{\"__ndarray__\":\"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\",\"dtype\":\"float32\",\"shape\":[2049]}},\"selected\":{\"id\":\"6954\",\"type\":\"Selection\"},\"selection_policy\":{\"id\":\"6953\",\"type\":\"UnionRenderers\"}},\"id\":\"6653\",\"type\":\"ColumnDataSource\"},{\"attributes\":{\"dimension\":1,\"plot\":{\"id\":\"6618\",\"subtype\":\"Figure\",\"type\":\"Plot\"},\"ticker\":{\"id\":\"6634\",\"type\":\"BasicTicker\"}},\"id\":\"6637\",\"type\":\"Grid\"},{\"attributes\":{\"overlay\":{\"id\":\"6646\",\"type\":\"BoxAnnotation\"}},\"id\":\"6640\",\"type\":\"BoxZoomTool\"},{\"attributes\":{\"bottom_units\":\"screen\",\"fill_alpha\":{\"value\":0.5},\"fill_color\":{\"value\":\"lightgrey\"},\"left_units\":\"screen\",\"level\":\"overlay\",\"line_alpha\":{\"value\":1.0},\"line_color\":{\"value\":\"black\"},\"line_dash\":[4,4],\"line_width\":{\"value\":2},\"plot\":null,\"render_mode\":\"css\",\"right_units\":\"screen\",\"top_units\":\"screen\"},\"id\":\"6646\",\"type\":\"BoxAnnotation\"},{\"attributes\":{\"active_drag\":\"auto\",\"active_inspect\":\"auto\",\"active_multi\":null,\"active_scroll\":\"auto\",\"active_tap\":\"auto\",\"tools\":[{\"id\":\"6638\",\"type\":\"PanTool\"},{\"id\":\"6639\",\"type\":\"WheelZoomTool\"},{\"id\":\"6640\",\"type\":\"BoxZoomTool\"},{\"id\":\"6641\",\"type\":\"SaveTool\"},{\"id\":\"6642\",\"type\":\"ResetTool\"},{\"id\":\"6643\",\"type\":\"HelpTool\"}]},\"id\":\"6644\",\"type\":\"Toolbar\"},{\"attributes\":{},\"id\":\"6954\",\"type\":\"Selection\"},{\"attributes\":{},\"id\":\"6634\",\"type\":\"BasicTicker\"},{\"attributes\":{\"callback\":null},\"id\":\"6620\",\"type\":\"DataRange1d\"},{\"attributes\":{},\"id\":\"6953\",\"type\":\"UnionRenderers\"},{\"attributes\":{},\"id\":\"6626\",\"type\":\"LinearScale\"},{\"attributes\":{\"data_source\":{\"id\":\"6653\",\"type\":\"ColumnDataSource\"},\"glyph\":{\"id\":\"6654\",\"type\":\"Scatter\"},\"hover_glyph\":null,\"muted_glyph\":null,\"nonselection_glyph\":{\"id\":\"6655\",\"type\":\"Scatter\"},\"selection_glyph\":null,\"view\":{\"id\":\"6657\",\"type\":\"CDSView\"}},\"id\":\"6656\",\"type\":\"GlyphRenderer\"},{\"attributes\":{\"plot\":{\"id\":\"6618\",\"subtype\":\"Figure\",\"type\":\"Plot\"},\"ticker\":{\"id\":\"6629\",\"type\":\"BasicTicker\"}},\"id\":\"6632\",\"type\":\"Grid\"},{\"attributes\":{},\"id\":\"6643\",\"type\":\"HelpTool\"},{\"attributes\":{},\"id\":\"6638\",\"type\":\"PanTool\"},{\"attributes\":{},\"id\":\"6639\",\"type\":\"WheelZoomTool\"},{\"attributes\":{\"axis_label\":\"Normalized light intensity\",\"formatter\":{\"id\":\"6952\",\"type\":\"BasicTickFormatter\"},\"plot\":{\"id\":\"6618\",\"subtype\":\"Figure\",\"type\":\"Plot\"},\"ticker\":{\"id\":\"6634\",\"type\":\"BasicTicker\"}},\"id\":\"6633\",\"type\":\"LinearAxis\"},{\"attributes\":{},\"id\":\"6624\",\"type\":\"LinearScale\"},{\"attributes\":{\"fill_color\":{\"value\":\"blue\"},\"line_color\":{\"value\":\"blue\"},\"x\":{\"field\":\"x\"},\"y\":{\"field\":\"y\"}},\"id\":\"6654\",\"type\":\"Scatter\"}],\"root_ids\":[\"6618\"]},\"title\":\"Bokeh Application\",\"version\":\"1.0.4\"}};\n",
       "  var render_items = [{\"docid\":\"9ed548c6-3607-438a-931b-e197028ae0c5\",\"roots\":{\"6618\":\"4993478a-7606-4c73-9a17-fa370e6f843f\"}}];\n",
       "  root.Bokeh.embed.embed_items_notebook(docs_json, render_items);\n",
       "\n",
       "  }\n",
       "  if (root.Bokeh !== undefined) {\n",
       "    embed_document(root);\n",
       "  } else {\n",
       "    var attempts = 0;\n",
       "    var timer = setInterval(function(root) {\n",
       "      if (root.Bokeh !== undefined) {\n",
       "        embed_document(root);\n",
       "        clearInterval(timer);\n",
       "      }\n",
       "      attempts++;\n",
       "      if (attempts > 100) {\n",
       "        console.log(\"Bokeh: ERROR: Unable to run BokehJS code because BokehJS library is missing\");\n",
       "        clearInterval(timer);\n",
       "      }\n",
       "    }, 10, root)\n",
       "  }\n",
       "})(window);"
      ],
      "application/vnd.bokehjs_exec.v0+json": ""
     },
     "metadata": {
      "application/vnd.bokehjs_exec.v0+json": {
       "id": "6618"
      },
      "tags": []
     },
     "output_type": "display_data"
    },
    {
     "data": {
      "text/html": [
       "\n",
       "\n",
       "\n",
       "\n",
       "\n",
       "\n",
       "  <div class=\"bk-root\" id=\"a2becd09-e535-4059-aba4-67b9e789948b\" data-root-id=\"6659\"></div>\n"
      ]
     },
     "metadata": {
      "tags": []
     },
     "output_type": "display_data"
    },
    {
     "data": {
      "application/javascript": [
       "(function(root) {\n",
       "  function embed_document(root) {\n",
       "    \n",
       "  var docs_json = {\"a609c432-8acc-4fd8-b50d-c29f50802fd1\":{\"roots\":{\"references\":[{\"attributes\":{\"below\":[{\"id\":\"6669\",\"type\":\"LinearAxis\"}],\"left\":[{\"id\":\"6674\",\"type\":\"LinearAxis\"}],\"plot_height\":350,\"plot_width\":800,\"renderers\":[{\"id\":\"6669\",\"type\":\"LinearAxis\"},{\"id\":\"6673\",\"type\":\"Grid\"},{\"id\":\"6674\",\"type\":\"LinearAxis\"},{\"id\":\"6678\",\"type\":\"Grid\"},{\"id\":\"6687\",\"type\":\"BoxAnnotation\"},{\"id\":\"6697\",\"type\":\"GlyphRenderer\"}],\"title\":{\"id\":\"6658\",\"type\":\"Title\"},\"toolbar\":{\"id\":\"6685\",\"type\":\"Toolbar\"},\"x_range\":{\"id\":\"6661\",\"type\":\"DataRange1d\"},\"x_scale\":{\"id\":\"6665\",\"type\":\"LinearScale\"},\"y_range\":{\"id\":\"6663\",\"type\":\"DataRange1d\"},\"y_scale\":{\"id\":\"6667\",\"type\":\"LinearScale\"}},\"id\":\"6659\",\"subtype\":\"Figure\",\"type\":\"Plot\"},{\"attributes\":{},\"id\":\"7263\",\"type\":\"BasicTickFormatter\"},{\"attributes\":{},\"id\":\"6665\",\"type\":\"LinearScale\"},{\"attributes\":{},\"id\":\"7265\",\"type\":\"BasicTickFormatter\"},{\"attributes\":{},\"id\":\"6684\",\"type\":\"HelpTool\"},{\"attributes\":{},\"id\":\"7267\",\"type\":\"Selection\"},{\"attributes\":{},\"id\":\"7266\",\"type\":\"UnionRenderers\"},{\"attributes\":{\"callback\":null},\"id\":\"6661\",\"type\":\"DataRange1d\"},{\"attributes\":{},\"id\":\"6679\",\"type\":\"PanTool\"},{\"attributes\":{},\"id\":\"6680\",\"type\":\"WheelZoomTool\"},{\"attributes\":{\"dimension\":1,\"plot\":{\"id\":\"6659\",\"subtype\":\"Figure\",\"type\":\"Plot\"},\"ticker\":{\"id\":\"6675\",\"type\":\"BasicTicker\"}},\"id\":\"6678\",\"type\":\"Grid\"},{\"attributes\":{\"bottom_units\":\"screen\",\"fill_alpha\":{\"value\":0.5},\"fill_color\":{\"value\":\"lightgrey\"},\"left_units\":\"screen\",\"level\":\"overlay\",\"line_alpha\":{\"value\":1.0},\"line_color\":{\"value\":\"black\"},\"line_dash\":[4,4],\"line_width\":{\"value\":2},\"plot\":null,\"render_mode\":\"css\",\"right_units\":\"screen\",\"top_units\":\"screen\"},\"id\":\"6687\",\"type\":\"BoxAnnotation\"},{\"attributes\":{},\"id\":\"6683\",\"type\":\"ResetTool\"},{\"attributes\":{\"fill_color\":{\"value\":\"blue\"},\"line_color\":{\"value\":\"blue\"},\"x\":{\"field\":\"x\"},\"y\":{\"field\":\"y\"}},\"id\":\"6695\",\"type\":\"Scatter\"},{\"attributes\":{\"data_source\":{\"id\":\"6694\",\"type\":\"ColumnDataSource\"},\"glyph\":{\"id\":\"6695\",\"type\":\"Scatter\"},\"hover_glyph\":null,\"muted_glyph\":null,\"nonselection_glyph\":{\"id\":\"6696\",\"type\":\"Scatter\"},\"selection_glyph\":null,\"view\":{\"id\":\"6698\",\"type\":\"CDSView\"}},\"id\":\"6697\",\"type\":\"GlyphRenderer\"},{\"attributes\":{},\"id\":\"6675\",\"type\":\"BasicTicker\"},{\"attributes\":{\"callback\":null,\"data\":{\"x\":{\"__ndarray__\":\"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\",\"dtype\":\"float64\",\"shape\":[257]},\"y\":{\"__ndarray__\":\"fwxsPXlY/juhq5q94B1/PuAdfz46Qgc+j7ygPVpvBDyLQxs+wcHZvTdcWT5YhMU9f/3ivWpaH78+FxO+EKM2vDlVIr0p9ok+vURAvSArgrx/PBU9BXILvtQXbj6evrY8IDEhvBA9Xjv2AwQ9BFVXPhCxsDxWFa28fIhzvZMMYz1cdzg+NXQTvR/XZD5P+58+1dCUPgcLCz7clCU+jVifPabgPz7gnyI9o942vvNjjL4InDK98dwTvuxV3Dxq+MW9ZGp1vVCa0D7UVSA8K5GZvG3yzT0fq5E+rJzzPVVkfr6G5Pw9WZzHPdFHoD7u8wo966ybPt2tET4Yy6Q+QsiCPmoXHD4G1Pk+SElVPswuzzyiWRA/wCNIPsSrnb7cK8G90nbMPTwsiL1atjE+RQa/vf85lT4quBw+8GbWvXHzoD1HqIe9ygygPcd0YD4yLYA+qC3cPnQ6Oz684qY+t35dPu7Y4z17Uhs+ZZCUvZLj9LwmVQG+F+u5vaVGLb6M/U+9kjKlvdKtMz7izyg9jpyWvtrLCr4QcDm+mjTIvRx7Dr8JpSu/ify9vjYSrb7BUcq+LaVEv3bfAr8D/fm+r9ZYv9JlIb9W+w2/iKMqv+Or7r4bWHu/mjIEvwh9l763rgu/wLIQv/D0DL8XGBu/650mv5O3Fb+Z+DG/Orc0vyxMCb/bChm/UPltv8cuLr/rSxa/rLMzvzJrXL8RnwK/1ka3vn4CyL4/YNm+AzMGvwAAgL8GJfW+mUurvseGIb/WMB2/Xf7nvj0+Jb/ayoS+BwrdviDiAr9Hj0i/ntEdv2e6zL5LLie/ucdBvp0m6r5inQe/DXJaveBSDL+O7L69+J83vj6yj76xety9iaOEvbx5ub3slFK8RhoVvuEZ+D3DbLY+ESCbPNMdMT7AhZ0+KT6YPPWlQz5BnaE9HDPavUciaz4J6yO9RsR+Ptduuz6tPZc+FA4Lvrwo/TyAbNG8r71+vlajLD6xCDs8hTwRO8+ogz6VF4U9YcErPeoOSz7pUjg8lwYIvUN1AL4EIQi+BsYZvgE+Ej5dkXU+Mr9wvnwhzT2BWbS9LA4GPchy0D1k/eo9WWPpPcO9Cb0j06i+nYozPjerqz1KEZ4+wy+LvEEETj5GmBY9ZMPePvXK1ryxe0m915rbvQPVDTxAGFE+62IiPqjGjD4FMbe8hbAYvDgBED4lBLo9Ef9Nvsa89j3BhEo+nl27PZzMJT7/ZyO906JpPoEhlz0TjEg+fm9Tvsz73ryWbL89ILtDvTAQsj2/6VU+ihCvuxWUoD6Mbgs+159EPmiyBT477ag+c9gwPh12AT+UWiO+jrZbPaG+or0Y+wA+0MMSPnDxRzxVX24+gtsWvQ+FWz4=\",\"dtype\":\"float32\",\"shape\":[257]}},\"selected\":{\"id\":\"7267\",\"type\":\"Selection\"},\"selection_policy\":{\"id\":\"7266\",\"type\":\"UnionRenderers\"}},\"id\":\"6694\",\"type\":\"ColumnDataSource\"},{\"attributes\":{\"fill_alpha\":{\"value\":0.1},\"fill_color\":{\"value\":\"#1f77b4\"},\"line_alpha\":{\"value\":0.1},\"line_color\":{\"value\":\"#1f77b4\"},\"x\":{\"field\":\"x\"},\"y\":{\"field\":\"y\"}},\"id\":\"6696\",\"type\":\"Scatter\"},{\"attributes\":{\"source\":{\"id\":\"6694\",\"type\":\"ColumnDataSource\"}},\"id\":\"6698\",\"type\":\"CDSView\"},{\"attributes\":{\"callback\":null},\"id\":\"6663\",\"type\":\"DataRange1d\"},{\"attributes\":{\"axis_label\":\"Normalized time\",\"formatter\":{\"id\":\"7263\",\"type\":\"BasicTickFormatter\"},\"plot\":{\"id\":\"6659\",\"subtype\":\"Figure\",\"type\":\"Plot\"},\"ticker\":{\"id\":\"6670\",\"type\":\"BasicTicker\"}},\"id\":\"6669\",\"type\":\"LinearAxis\"},{\"attributes\":{\"overlay\":{\"id\":\"6687\",\"type\":\"BoxAnnotation\"}},\"id\":\"6681\",\"type\":\"BoxZoomTool\"},{\"attributes\":{},\"id\":\"6682\",\"type\":\"SaveTool\"},{\"attributes\":{\"axis_label\":\"Normalized light intensity\",\"formatter\":{\"id\":\"7265\",\"type\":\"BasicTickFormatter\"},\"plot\":{\"id\":\"6659\",\"subtype\":\"Figure\",\"type\":\"Plot\"},\"ticker\":{\"id\":\"6675\",\"type\":\"BasicTicker\"}},\"id\":\"6674\",\"type\":\"LinearAxis\"},{\"attributes\":{\"plot\":{\"id\":\"6659\",\"subtype\":\"Figure\",\"type\":\"Plot\"},\"ticker\":{\"id\":\"6670\",\"type\":\"BasicTicker\"}},\"id\":\"6673\",\"type\":\"Grid\"},{\"attributes\":{\"plot\":null,\"text\":\"Local folded lightcurve for planet K00752.01\"},\"id\":\"6658\",\"type\":\"Title\"},{\"attributes\":{\"active_drag\":\"auto\",\"active_inspect\":\"auto\",\"active_multi\":null,\"active_scroll\":\"auto\",\"active_tap\":\"auto\",\"tools\":[{\"id\":\"6679\",\"type\":\"PanTool\"},{\"id\":\"6680\",\"type\":\"WheelZoomTool\"},{\"id\":\"6681\",\"type\":\"BoxZoomTool\"},{\"id\":\"6682\",\"type\":\"SaveTool\"},{\"id\":\"6683\",\"type\":\"ResetTool\"},{\"id\":\"6684\",\"type\":\"HelpTool\"}]},\"id\":\"6685\",\"type\":\"Toolbar\"},{\"attributes\":{},\"id\":\"6670\",\"type\":\"BasicTicker\"},{\"attributes\":{},\"id\":\"6667\",\"type\":\"LinearScale\"}],\"root_ids\":[\"6659\"]},\"title\":\"Bokeh Application\",\"version\":\"1.0.4\"}};\n",
       "  var render_items = [{\"docid\":\"a609c432-8acc-4fd8-b50d-c29f50802fd1\",\"roots\":{\"6659\":\"a2becd09-e535-4059-aba4-67b9e789948b\"}}];\n",
       "  root.Bokeh.embed.embed_items_notebook(docs_json, render_items);\n",
       "\n",
       "  }\n",
       "  if (root.Bokeh !== undefined) {\n",
       "    embed_document(root);\n",
       "  } else {\n",
       "    var attempts = 0;\n",
       "    var timer = setInterval(function(root) {\n",
       "      if (root.Bokeh !== undefined) {\n",
       "        embed_document(root);\n",
       "        clearInterval(timer);\n",
       "      }\n",
       "      attempts++;\n",
       "      if (attempts > 100) {\n",
       "        console.log(\"Bokeh: ERROR: Unable to run BokehJS code because BokehJS library is missing\");\n",
       "        clearInterval(timer);\n",
       "      }\n",
       "    }, 10, root)\n",
       "  }\n",
       "})(window);"
      ],
      "application/vnd.bokehjs_exec.v0+json": ""
     },
     "metadata": {
      "application/vnd.bokehjs_exec.v0+json": {
       "id": "6659"
      },
      "tags": []
     },
     "output_type": "display_data"
    }
   ],
   "source": [
    "plot_lightcurves(X[0], status=labelsnpy[0], object_name=namesnpy[0])"
   ]
  },
  {
   "cell_type": "markdown",
   "metadata": {
    "colab_type": "text",
    "id": "SmZRxBmTbFYt"
   },
   "source": [
    "And now a false positive"
   ]
  },
  {
   "cell_type": "code",
   "execution_count": 222,
   "metadata": {
    "colab": {
     "base_uri": "https://localhost:8080/",
     "height": 717
    },
    "colab_type": "code",
    "id": "U3Bf_Jue3vKg",
    "outputId": "99008b55-ad0f-4d89-a844-b7d3b57b4e69"
   },
   "outputs": [
    {
     "data": {
      "application/javascript": [
       "\n",
       "(function(root) {\n",
       "  function now() {\n",
       "    return new Date();\n",
       "  }\n",
       "\n",
       "  var force = true;\n",
       "\n",
       "  if (typeof (root._bokeh_onload_callbacks) === \"undefined\" || force === true) {\n",
       "    root._bokeh_onload_callbacks = [];\n",
       "    root._bokeh_is_loading = undefined;\n",
       "  }\n",
       "\n",
       "  var JS_MIME_TYPE = 'application/javascript';\n",
       "  var HTML_MIME_TYPE = 'text/html';\n",
       "  var EXEC_MIME_TYPE = 'application/vnd.bokehjs_exec.v0+json';\n",
       "  var CLASS_NAME = 'output_bokeh rendered_html';\n",
       "\n",
       "  /**\n",
       "   * Render data to the DOM node\n",
       "   */\n",
       "  function render(props, node) {\n",
       "    var script = document.createElement(\"script\");\n",
       "    node.appendChild(script);\n",
       "  }\n",
       "\n",
       "  /**\n",
       "   * Handle when an output is cleared or removed\n",
       "   */\n",
       "  function handleClearOutput(event, handle) {\n",
       "    var cell = handle.cell;\n",
       "\n",
       "    var id = cell.output_area._bokeh_element_id;\n",
       "    var server_id = cell.output_area._bokeh_server_id;\n",
       "    // Clean up Bokeh references\n",
       "    if (id != null && id in Bokeh.index) {\n",
       "      Bokeh.index[id].model.document.clear();\n",
       "      delete Bokeh.index[id];\n",
       "    }\n",
       "\n",
       "    if (server_id !== undefined) {\n",
       "      // Clean up Bokeh references\n",
       "      var cmd = \"from bokeh.io.state import curstate; print(curstate().uuid_to_server['\" + server_id + \"'].get_sessions()[0].document.roots[0]._id)\";\n",
       "      cell.notebook.kernel.execute(cmd, {\n",
       "        iopub: {\n",
       "          output: function(msg) {\n",
       "            var id = msg.content.text.trim();\n",
       "            if (id in Bokeh.index) {\n",
       "              Bokeh.index[id].model.document.clear();\n",
       "              delete Bokeh.index[id];\n",
       "            }\n",
       "          }\n",
       "        }\n",
       "      });\n",
       "      // Destroy server and session\n",
       "      var cmd = \"import bokeh.io.notebook as ion; ion.destroy_server('\" + server_id + \"')\";\n",
       "      cell.notebook.kernel.execute(cmd);\n",
       "    }\n",
       "  }\n",
       "\n",
       "  /**\n",
       "   * Handle when a new output is added\n",
       "   */\n",
       "  function handleAddOutput(event, handle) {\n",
       "    var output_area = handle.output_area;\n",
       "    var output = handle.output;\n",
       "\n",
       "    // limit handleAddOutput to display_data with EXEC_MIME_TYPE content only\n",
       "    if ((output.output_type != \"display_data\") || (!output.data.hasOwnProperty(EXEC_MIME_TYPE))) {\n",
       "      return\n",
       "    }\n",
       "\n",
       "    var toinsert = output_area.element.find(\".\" + CLASS_NAME.split(' ')[0]);\n",
       "\n",
       "    if (output.metadata[EXEC_MIME_TYPE][\"id\"] !== undefined) {\n",
       "      toinsert[toinsert.length - 1].firstChild.textContent = output.data[JS_MIME_TYPE];\n",
       "      // store reference to embed id on output_area\n",
       "      output_area._bokeh_element_id = output.metadata[EXEC_MIME_TYPE][\"id\"];\n",
       "    }\n",
       "    if (output.metadata[EXEC_MIME_TYPE][\"server_id\"] !== undefined) {\n",
       "      var bk_div = document.createElement(\"div\");\n",
       "      bk_div.innerHTML = output.data[HTML_MIME_TYPE];\n",
       "      var script_attrs = bk_div.children[0].attributes;\n",
       "      for (var i = 0; i < script_attrs.length; i++) {\n",
       "        toinsert[toinsert.length - 1].firstChild.setAttribute(script_attrs[i].name, script_attrs[i].value);\n",
       "      }\n",
       "      // store reference to server id on output_area\n",
       "      output_area._bokeh_server_id = output.metadata[EXEC_MIME_TYPE][\"server_id\"];\n",
       "    }\n",
       "  }\n",
       "\n",
       "  function register_renderer(events, OutputArea) {\n",
       "\n",
       "    function append_mime(data, metadata, element) {\n",
       "      // create a DOM node to render to\n",
       "      var toinsert = this.create_output_subarea(\n",
       "        metadata,\n",
       "        CLASS_NAME,\n",
       "        EXEC_MIME_TYPE\n",
       "      );\n",
       "      this.keyboard_manager.register_events(toinsert);\n",
       "      // Render to node\n",
       "      var props = {data: data, metadata: metadata[EXEC_MIME_TYPE]};\n",
       "      render(props, toinsert[toinsert.length - 1]);\n",
       "      element.append(toinsert);\n",
       "      return toinsert\n",
       "    }\n",
       "\n",
       "    /* Handle when an output is cleared or removed */\n",
       "    events.on('clear_output.CodeCell', handleClearOutput);\n",
       "    events.on('delete.Cell', handleClearOutput);\n",
       "\n",
       "    /* Handle when a new output is added */\n",
       "    events.on('output_added.OutputArea', handleAddOutput);\n",
       "\n",
       "    /**\n",
       "     * Register the mime type and append_mime function with output_area\n",
       "     */\n",
       "    OutputArea.prototype.register_mime_type(EXEC_MIME_TYPE, append_mime, {\n",
       "      /* Is output safe? */\n",
       "      safe: true,\n",
       "      /* Index of renderer in `output_area.display_order` */\n",
       "      index: 0\n",
       "    });\n",
       "  }\n",
       "\n",
       "  // register the mime type if in Jupyter Notebook environment and previously unregistered\n",
       "  if (root.Jupyter !== undefined) {\n",
       "    var events = require('base/js/events');\n",
       "    var OutputArea = require('notebook/js/outputarea').OutputArea;\n",
       "\n",
       "    if (OutputArea.prototype.mime_types().indexOf(EXEC_MIME_TYPE) == -1) {\n",
       "      register_renderer(events, OutputArea);\n",
       "    }\n",
       "  }\n",
       "\n",
       "  \n",
       "  if (typeof (root._bokeh_timeout) === \"undefined\" || force === true) {\n",
       "    root._bokeh_timeout = Date.now() + 5000;\n",
       "    root._bokeh_failed_load = false;\n",
       "  }\n",
       "\n",
       "  var NB_LOAD_WARNING = {'data': {'text/html':\n",
       "     \"<div style='background-color: #fdd'>\\n\"+\n",
       "     \"<p>\\n\"+\n",
       "     \"BokehJS does not appear to have successfully loaded. If loading BokehJS from CDN, this \\n\"+\n",
       "     \"may be due to a slow or bad network connection. Possible fixes:\\n\"+\n",
       "     \"</p>\\n\"+\n",
       "     \"<ul>\\n\"+\n",
       "     \"<li>re-rerun `output_notebook()` to attempt to load from CDN again, or</li>\\n\"+\n",
       "     \"<li>use INLINE resources instead, as so:</li>\\n\"+\n",
       "     \"</ul>\\n\"+\n",
       "     \"<code>\\n\"+\n",
       "     \"from bokeh.resources import INLINE\\n\"+\n",
       "     \"output_notebook(resources=INLINE)\\n\"+\n",
       "     \"</code>\\n\"+\n",
       "     \"</div>\"}};\n",
       "\n",
       "  function display_loaded() {\n",
       "    var el = document.getElementById(null);\n",
       "    if (el != null) {\n",
       "      el.textContent = \"BokehJS is loading...\";\n",
       "    }\n",
       "    if (root.Bokeh !== undefined) {\n",
       "      if (el != null) {\n",
       "        el.textContent = \"BokehJS \" + root.Bokeh.version + \" successfully loaded.\";\n",
       "      }\n",
       "    } else if (Date.now() < root._bokeh_timeout) {\n",
       "      setTimeout(display_loaded, 100)\n",
       "    }\n",
       "  }\n",
       "\n",
       "\n",
       "  function run_callbacks() {\n",
       "    try {\n",
       "      root._bokeh_onload_callbacks.forEach(function(callback) { callback() });\n",
       "    }\n",
       "    finally {\n",
       "      delete root._bokeh_onload_callbacks\n",
       "    }\n",
       "    console.info(\"Bokeh: all callbacks have finished\");\n",
       "  }\n",
       "\n",
       "  function load_libs(js_urls, callback) {\n",
       "    root._bokeh_onload_callbacks.push(callback);\n",
       "    if (root._bokeh_is_loading > 0) {\n",
       "      console.log(\"Bokeh: BokehJS is being loaded, scheduling callback at\", now());\n",
       "      return null;\n",
       "    }\n",
       "    if (js_urls == null || js_urls.length === 0) {\n",
       "      run_callbacks();\n",
       "      return null;\n",
       "    }\n",
       "    console.log(\"Bokeh: BokehJS not loaded, scheduling load and callback at\", now());\n",
       "    root._bokeh_is_loading = js_urls.length;\n",
       "    for (var i = 0; i < js_urls.length; i++) {\n",
       "      var url = js_urls[i];\n",
       "      var s = document.createElement('script');\n",
       "      s.src = url;\n",
       "      s.async = false;\n",
       "      s.onreadystatechange = s.onload = function() {\n",
       "        root._bokeh_is_loading--;\n",
       "        if (root._bokeh_is_loading === 0) {\n",
       "          console.log(\"Bokeh: all BokehJS libraries loaded\");\n",
       "          run_callbacks()\n",
       "        }\n",
       "      };\n",
       "      s.onerror = function() {\n",
       "        console.warn(\"failed to load library \" + url);\n",
       "      };\n",
       "      console.log(\"Bokeh: injecting script tag for BokehJS library: \", url);\n",
       "      document.getElementsByTagName(\"head\")[0].appendChild(s);\n",
       "    }\n",
       "  };\n",
       "\n",
       "  var js_urls = [\"https://cdn.pydata.org/bokeh/release/bokeh-1.0.4.min.js\", \"https://cdn.pydata.org/bokeh/release/bokeh-widgets-1.0.4.min.js\", \"https://cdn.pydata.org/bokeh/release/bokeh-tables-1.0.4.min.js\", \"https://cdn.pydata.org/bokeh/release/bokeh-gl-1.0.4.min.js\"];\n",
       "\n",
       "  var inline_js = [\n",
       "    function(Bokeh) {\n",
       "      Bokeh.set_log_level(\"info\");\n",
       "    },\n",
       "    \n",
       "    function(Bokeh) {\n",
       "      \n",
       "    },\n",
       "    function(Bokeh) {\n",
       "      console.log(\"Bokeh: injecting CSS: https://cdn.pydata.org/bokeh/release/bokeh-1.0.4.min.css\");\n",
       "      Bokeh.embed.inject_css(\"https://cdn.pydata.org/bokeh/release/bokeh-1.0.4.min.css\");\n",
       "      console.log(\"Bokeh: injecting CSS: https://cdn.pydata.org/bokeh/release/bokeh-widgets-1.0.4.min.css\");\n",
       "      Bokeh.embed.inject_css(\"https://cdn.pydata.org/bokeh/release/bokeh-widgets-1.0.4.min.css\");\n",
       "      console.log(\"Bokeh: injecting CSS: https://cdn.pydata.org/bokeh/release/bokeh-tables-1.0.4.min.css\");\n",
       "      Bokeh.embed.inject_css(\"https://cdn.pydata.org/bokeh/release/bokeh-tables-1.0.4.min.css\");\n",
       "    }\n",
       "  ];\n",
       "\n",
       "  function run_inline_js() {\n",
       "    \n",
       "    if ((root.Bokeh !== undefined) || (force === true)) {\n",
       "      for (var i = 0; i < inline_js.length; i++) {\n",
       "        inline_js[i].call(root, root.Bokeh);\n",
       "      }} else if (Date.now() < root._bokeh_timeout) {\n",
       "      setTimeout(run_inline_js, 100);\n",
       "    } else if (!root._bokeh_failed_load) {\n",
       "      console.log(\"Bokeh: BokehJS failed to load within specified timeout.\");\n",
       "      root._bokeh_failed_load = true;\n",
       "    } else if (force !== true) {\n",
       "      var cell = $(document.getElementById(null)).parents('.cell').data().cell;\n",
       "      cell.output_area.append_execute_result(NB_LOAD_WARNING)\n",
       "    }\n",
       "\n",
       "  }\n",
       "\n",
       "  if (root._bokeh_is_loading === 0) {\n",
       "    console.log(\"Bokeh: BokehJS loaded, going straight to plotting\");\n",
       "    run_inline_js();\n",
       "  } else {\n",
       "    load_libs(js_urls, function() {\n",
       "      console.log(\"Bokeh: BokehJS plotting callback run at\", now());\n",
       "      run_inline_js();\n",
       "    });\n",
       "  }\n",
       "}(window));"
      ],
      "application/vnd.bokehjs_load.v0+json": "\n(function(root) {\n  function now() {\n    return new Date();\n  }\n\n  var force = true;\n\n  if (typeof (root._bokeh_onload_callbacks) === \"undefined\" || force === true) {\n    root._bokeh_onload_callbacks = [];\n    root._bokeh_is_loading = undefined;\n  }\n\n  \n\n  \n  if (typeof (root._bokeh_timeout) === \"undefined\" || force === true) {\n    root._bokeh_timeout = Date.now() + 5000;\n    root._bokeh_failed_load = false;\n  }\n\n  var NB_LOAD_WARNING = {'data': {'text/html':\n     \"<div style='background-color: #fdd'>\\n\"+\n     \"<p>\\n\"+\n     \"BokehJS does not appear to have successfully loaded. If loading BokehJS from CDN, this \\n\"+\n     \"may be due to a slow or bad network connection. Possible fixes:\\n\"+\n     \"</p>\\n\"+\n     \"<ul>\\n\"+\n     \"<li>re-rerun `output_notebook()` to attempt to load from CDN again, or</li>\\n\"+\n     \"<li>use INLINE resources instead, as so:</li>\\n\"+\n     \"</ul>\\n\"+\n     \"<code>\\n\"+\n     \"from bokeh.resources import INLINE\\n\"+\n     \"output_notebook(resources=INLINE)\\n\"+\n     \"</code>\\n\"+\n     \"</div>\"}};\n\n  function display_loaded() {\n    var el = document.getElementById(null);\n    if (el != null) {\n      el.textContent = \"BokehJS is loading...\";\n    }\n    if (root.Bokeh !== undefined) {\n      if (el != null) {\n        el.textContent = \"BokehJS \" + root.Bokeh.version + \" successfully loaded.\";\n      }\n    } else if (Date.now() < root._bokeh_timeout) {\n      setTimeout(display_loaded, 100)\n    }\n  }\n\n\n  function run_callbacks() {\n    try {\n      root._bokeh_onload_callbacks.forEach(function(callback) { callback() });\n    }\n    finally {\n      delete root._bokeh_onload_callbacks\n    }\n    console.info(\"Bokeh: all callbacks have finished\");\n  }\n\n  function load_libs(js_urls, callback) {\n    root._bokeh_onload_callbacks.push(callback);\n    if (root._bokeh_is_loading > 0) {\n      console.log(\"Bokeh: BokehJS is being loaded, scheduling callback at\", now());\n      return null;\n    }\n    if (js_urls == null || js_urls.length === 0) {\n      run_callbacks();\n      return null;\n    }\n    console.log(\"Bokeh: BokehJS not loaded, scheduling load and callback at\", now());\n    root._bokeh_is_loading = js_urls.length;\n    for (var i = 0; i < js_urls.length; i++) {\n      var url = js_urls[i];\n      var s = document.createElement('script');\n      s.src = url;\n      s.async = false;\n      s.onreadystatechange = s.onload = function() {\n        root._bokeh_is_loading--;\n        if (root._bokeh_is_loading === 0) {\n          console.log(\"Bokeh: all BokehJS libraries loaded\");\n          run_callbacks()\n        }\n      };\n      s.onerror = function() {\n        console.warn(\"failed to load library \" + url);\n      };\n      console.log(\"Bokeh: injecting script tag for BokehJS library: \", url);\n      document.getElementsByTagName(\"head\")[0].appendChild(s);\n    }\n  };\n\n  var js_urls = [\"https://cdn.pydata.org/bokeh/release/bokeh-1.0.4.min.js\", \"https://cdn.pydata.org/bokeh/release/bokeh-widgets-1.0.4.min.js\", \"https://cdn.pydata.org/bokeh/release/bokeh-tables-1.0.4.min.js\", \"https://cdn.pydata.org/bokeh/release/bokeh-gl-1.0.4.min.js\"];\n\n  var inline_js = [\n    function(Bokeh) {\n      Bokeh.set_log_level(\"info\");\n    },\n    \n    function(Bokeh) {\n      \n    },\n    function(Bokeh) {\n      console.log(\"Bokeh: injecting CSS: https://cdn.pydata.org/bokeh/release/bokeh-1.0.4.min.css\");\n      Bokeh.embed.inject_css(\"https://cdn.pydata.org/bokeh/release/bokeh-1.0.4.min.css\");\n      console.log(\"Bokeh: injecting CSS: https://cdn.pydata.org/bokeh/release/bokeh-widgets-1.0.4.min.css\");\n      Bokeh.embed.inject_css(\"https://cdn.pydata.org/bokeh/release/bokeh-widgets-1.0.4.min.css\");\n      console.log(\"Bokeh: injecting CSS: https://cdn.pydata.org/bokeh/release/bokeh-tables-1.0.4.min.css\");\n      Bokeh.embed.inject_css(\"https://cdn.pydata.org/bokeh/release/bokeh-tables-1.0.4.min.css\");\n    }\n  ];\n\n  function run_inline_js() {\n    \n    if ((root.Bokeh !== undefined) || (force === true)) {\n      for (var i = 0; i < inline_js.length; i++) {\n        inline_js[i].call(root, root.Bokeh);\n      }} else if (Date.now() < root._bokeh_timeout) {\n      setTimeout(run_inline_js, 100);\n    } else if (!root._bokeh_failed_load) {\n      console.log(\"Bokeh: BokehJS failed to load within specified timeout.\");\n      root._bokeh_failed_load = true;\n    } else if (force !== true) {\n      var cell = $(document.getElementById(null)).parents('.cell').data().cell;\n      cell.output_area.append_execute_result(NB_LOAD_WARNING)\n    }\n\n  }\n\n  if (root._bokeh_is_loading === 0) {\n    console.log(\"Bokeh: BokehJS loaded, going straight to plotting\");\n    run_inline_js();\n  } else {\n    load_libs(js_urls, function() {\n      console.log(\"Bokeh: BokehJS plotting callback run at\", now());\n      run_inline_js();\n    });\n  }\n}(window));"
     },
     "metadata": {
      "tags": []
     },
     "output_type": "display_data"
    },
    {
     "data": {
      "text/html": [
       "\n",
       "\n",
       "\n",
       "\n",
       "\n",
       "\n",
       "  <div class=\"bk-root\" id=\"5d0b85f1-1c3f-4e5b-aa21-74af15291a35\" data-root-id=\"7318\"></div>\n"
      ]
     },
     "metadata": {
      "tags": []
     },
     "output_type": "display_data"
    },
    {
     "data": {
      "application/javascript": [
       "(function(root) {\n",
       "  function embed_document(root) {\n",
       "    \n",
       "  var docs_json = {\"7d5ca879-11d1-47cb-9b3a-de4c0190ba91\":{\"roots\":{\"references\":[{\"attributes\":{\"below\":[{\"id\":\"7328\",\"type\":\"LinearAxis\"}],\"left\":[{\"id\":\"7333\",\"type\":\"LinearAxis\"}],\"plot_height\":350,\"plot_width\":800,\"renderers\":[{\"id\":\"7328\",\"type\":\"LinearAxis\"},{\"id\":\"7332\",\"type\":\"Grid\"},{\"id\":\"7333\",\"type\":\"LinearAxis\"},{\"id\":\"7337\",\"type\":\"Grid\"},{\"id\":\"7346\",\"type\":\"BoxAnnotation\"},{\"id\":\"7356\",\"type\":\"GlyphRenderer\"}],\"title\":{\"id\":\"7317\",\"type\":\"Title\"},\"toolbar\":{\"id\":\"7344\",\"type\":\"Toolbar\"},\"x_range\":{\"id\":\"7320\",\"type\":\"DataRange1d\"},\"x_scale\":{\"id\":\"7324\",\"type\":\"LinearScale\"},\"y_range\":{\"id\":\"7322\",\"type\":\"DataRange1d\"},\"y_scale\":{\"id\":\"7326\",\"type\":\"LinearScale\"}},\"id\":\"7318\",\"subtype\":\"Figure\",\"type\":\"Plot\"},{\"attributes\":{},\"id\":\"7670\",\"type\":\"Selection\"},{\"attributes\":{},\"id\":\"7329\",\"type\":\"BasicTicker\"},{\"attributes\":{\"fill_alpha\":{\"value\":0.1},\"fill_color\":{\"value\":\"#1f77b4\"},\"line_alpha\":{\"value\":0.1},\"line_color\":{\"value\":\"#1f77b4\"},\"x\":{\"field\":\"x\"},\"y\":{\"field\":\"y\"}},\"id\":\"7355\",\"type\":\"Scatter\"},{\"attributes\":{\"callback\":null},\"id\":\"7320\",\"type\":\"DataRange1d\"},{\"attributes\":{\"bottom_units\":\"screen\",\"fill_alpha\":{\"value\":0.5},\"fill_color\":{\"value\":\"lightgrey\"},\"left_units\":\"screen\",\"level\":\"overlay\",\"line_alpha\":{\"value\":1.0},\"line_color\":{\"value\":\"black\"},\"line_dash\":[4,4],\"line_width\":{\"value\":2},\"plot\":null,\"render_mode\":\"css\",\"right_units\":\"screen\",\"top_units\":\"screen\"},\"id\":\"7346\",\"type\":\"BoxAnnotation\"},{\"attributes\":{},\"id\":\"7338\",\"type\":\"PanTool\"},{\"attributes\":{\"axis_label\":\"Normalized time\",\"formatter\":{\"id\":\"7666\",\"type\":\"BasicTickFormatter\"},\"plot\":{\"id\":\"7318\",\"subtype\":\"Figure\",\"type\":\"Plot\"},\"ticker\":{\"id\":\"7329\",\"type\":\"BasicTicker\"}},\"id\":\"7328\",\"type\":\"LinearAxis\"},{\"attributes\":{\"callback\":null},\"id\":\"7322\",\"type\":\"DataRange1d\"},{\"attributes\":{\"plot\":null,\"text\":\"Global folded lightcurve for false positive K00754.01\"},\"id\":\"7317\",\"type\":\"Title\"},{\"attributes\":{\"callback\":null,\"data\":{\"x\":{\"__ndarray__\":\"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\",\"dtype\":\"float64\",\"shape\":[2049]},\"y\":{\"__ndarray__\":\"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\",\"dtype\":\"float32\",\"shape\":[2049]}},\"selected\":{\"id\":\"7670\",\"type\":\"Selection\"},\"selection_policy\":{\"id\":\"7669\",\"type\":\"UnionRenderers\"}},\"id\":\"7353\",\"type\":\"ColumnDataSource\"},{\"attributes\":{\"fill_color\":{\"value\":\"red\"},\"line_color\":{\"value\":\"red\"},\"x\":{\"field\":\"x\"},\"y\":{\"field\":\"y\"}},\"id\":\"7354\",\"type\":\"Scatter\"},{\"attributes\":{},\"id\":\"7334\",\"type\":\"BasicTicker\"},{\"attributes\":{},\"id\":\"7326\",\"type\":\"LinearScale\"},{\"attributes\":{},\"id\":\"7666\",\"type\":\"BasicTickFormatter\"},{\"attributes\":{\"active_drag\":\"auto\",\"active_inspect\":\"auto\",\"active_multi\":null,\"active_scroll\":\"auto\",\"active_tap\":\"auto\",\"tools\":[{\"id\":\"7338\",\"type\":\"PanTool\"},{\"id\":\"7339\",\"type\":\"WheelZoomTool\"},{\"id\":\"7340\",\"type\":\"BoxZoomTool\"},{\"id\":\"7341\",\"type\":\"SaveTool\"},{\"id\":\"7342\",\"type\":\"ResetTool\"},{\"id\":\"7343\",\"type\":\"HelpTool\"}]},\"id\":\"7344\",\"type\":\"Toolbar\"},{\"attributes\":{\"source\":{\"id\":\"7353\",\"type\":\"ColumnDataSource\"}},\"id\":\"7357\",\"type\":\"CDSView\"},{\"attributes\":{},\"id\":\"7343\",\"type\":\"HelpTool\"},{\"attributes\":{},\"id\":\"7324\",\"type\":\"LinearScale\"},{\"attributes\":{\"overlay\":{\"id\":\"7346\",\"type\":\"BoxAnnotation\"}},\"id\":\"7340\",\"type\":\"BoxZoomTool\"},{\"attributes\":{},\"id\":\"7339\",\"type\":\"WheelZoomTool\"},{\"attributes\":{},\"id\":\"7341\",\"type\":\"SaveTool\"},{\"attributes\":{\"axis_label\":\"Normalized light intensity\",\"formatter\":{\"id\":\"7668\",\"type\":\"BasicTickFormatter\"},\"plot\":{\"id\":\"7318\",\"subtype\":\"Figure\",\"type\":\"Plot\"},\"ticker\":{\"id\":\"7334\",\"type\":\"BasicTicker\"}},\"id\":\"7333\",\"type\":\"LinearAxis\"},{\"attributes\":{},\"id\":\"7342\",\"type\":\"ResetTool\"},{\"attributes\":{\"dimension\":1,\"plot\":{\"id\":\"7318\",\"subtype\":\"Figure\",\"type\":\"Plot\"},\"ticker\":{\"id\":\"7334\",\"type\":\"BasicTicker\"}},\"id\":\"7337\",\"type\":\"Grid\"},{\"attributes\":{\"data_source\":{\"id\":\"7353\",\"type\":\"ColumnDataSource\"},\"glyph\":{\"id\":\"7354\",\"type\":\"Scatter\"},\"hover_glyph\":null,\"muted_glyph\":null,\"nonselection_glyph\":{\"id\":\"7355\",\"type\":\"Scatter\"},\"selection_glyph\":null,\"view\":{\"id\":\"7357\",\"type\":\"CDSView\"}},\"id\":\"7356\",\"type\":\"GlyphRenderer\"},{\"attributes\":{},\"id\":\"7668\",\"type\":\"BasicTickFormatter\"},{\"attributes\":{\"plot\":{\"id\":\"7318\",\"subtype\":\"Figure\",\"type\":\"Plot\"},\"ticker\":{\"id\":\"7329\",\"type\":\"BasicTicker\"}},\"id\":\"7332\",\"type\":\"Grid\"},{\"attributes\":{},\"id\":\"7669\",\"type\":\"UnionRenderers\"}],\"root_ids\":[\"7318\"]},\"title\":\"Bokeh Application\",\"version\":\"1.0.4\"}};\n",
       "  var render_items = [{\"docid\":\"7d5ca879-11d1-47cb-9b3a-de4c0190ba91\",\"roots\":{\"7318\":\"5d0b85f1-1c3f-4e5b-aa21-74af15291a35\"}}];\n",
       "  root.Bokeh.embed.embed_items_notebook(docs_json, render_items);\n",
       "\n",
       "  }\n",
       "  if (root.Bokeh !== undefined) {\n",
       "    embed_document(root);\n",
       "  } else {\n",
       "    var attempts = 0;\n",
       "    var timer = setInterval(function(root) {\n",
       "      if (root.Bokeh !== undefined) {\n",
       "        embed_document(root);\n",
       "        clearInterval(timer);\n",
       "      }\n",
       "      attempts++;\n",
       "      if (attempts > 100) {\n",
       "        console.log(\"Bokeh: ERROR: Unable to run BokehJS code because BokehJS library is missing\");\n",
       "        clearInterval(timer);\n",
       "      }\n",
       "    }, 10, root)\n",
       "  }\n",
       "})(window);"
      ],
      "application/vnd.bokehjs_exec.v0+json": ""
     },
     "metadata": {
      "application/vnd.bokehjs_exec.v0+json": {
       "id": "7318"
      },
      "tags": []
     },
     "output_type": "display_data"
    },
    {
     "data": {
      "text/html": [
       "\n",
       "\n",
       "\n",
       "\n",
       "\n",
       "\n",
       "  <div class=\"bk-root\" id=\"0b2488da-69ad-4a6a-b4bb-9964c8544cd4\" data-root-id=\"7359\"></div>\n"
      ]
     },
     "metadata": {
      "tags": []
     },
     "output_type": "display_data"
    },
    {
     "data": {
      "application/javascript": [
       "(function(root) {\n",
       "  function embed_document(root) {\n",
       "    \n",
       "  var docs_json = {\"154f33cc-70d2-4a58-b63e-51820ea96fac\":{\"roots\":{\"references\":[{\"attributes\":{\"below\":[{\"id\":\"7369\",\"type\":\"LinearAxis\"}],\"left\":[{\"id\":\"7374\",\"type\":\"LinearAxis\"}],\"plot_height\":350,\"plot_width\":800,\"renderers\":[{\"id\":\"7369\",\"type\":\"LinearAxis\"},{\"id\":\"7373\",\"type\":\"Grid\"},{\"id\":\"7374\",\"type\":\"LinearAxis\"},{\"id\":\"7378\",\"type\":\"Grid\"},{\"id\":\"7387\",\"type\":\"BoxAnnotation\"},{\"id\":\"7397\",\"type\":\"GlyphRenderer\"}],\"title\":{\"id\":\"7358\",\"type\":\"Title\"},\"toolbar\":{\"id\":\"7385\",\"type\":\"Toolbar\"},\"x_range\":{\"id\":\"7361\",\"type\":\"DataRange1d\"},\"x_scale\":{\"id\":\"7365\",\"type\":\"LinearScale\"},\"y_range\":{\"id\":\"7363\",\"type\":\"DataRange1d\"},\"y_scale\":{\"id\":\"7367\",\"type\":\"LinearScale\"}},\"id\":\"7359\",\"subtype\":\"Figure\",\"type\":\"Plot\"},{\"attributes\":{\"callback\":null,\"data\":{\"x\":{\"__ndarray__\":\"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\",\"dtype\":\"float64\",\"shape\":[257]},\"y\":{\"__ndarray__\":\"irhjO9CG8rsPfGS8HCXtvNxFQrxD8pi7Qn/XvPpgRL1pNRU8aMOjOn8QZLsgljq8XcQHPJnlrjypPlu8OzWJvIocP7smnT28UyiouGAIuzx0XDs9S2hkvLofnzxe7dS8msyjuvLfqbt+8X28ElZ4vA4URLwGeDS8X8HUOrnNebrXXAm9O2mHvbdWxrijOrU6HhXpvAXOGTyBrIK6sF95vM6i1TqJqOC7o9Q+vHjK9zoNzcm7NpeevJRdBb39IDS68wg/O/N2tzv14sg8T96tPOubojohFJM7QdgeO16ThLxe/C282L9UO5yQiLya3BW9lyMlPOqufbvY8bO7OXqcO8f9NzxtVbK7DNkkvMZpVLwZbDI4RxgqvKU5V7uVJw07aMT4Oy2dQLybBKC6uJcsvAFOLTwDRDU8kvcEvPQu/Lszaa68BR3Ru9UsZ7zoBT88+sYjvbenu73MDlW8uzKNPOolkrvg8ta7gpWEvDH1vrx42JG8IVYLvXeuE71O0CS96ZtSvdCqhb2rB6K9j6Hlva4CBb5N5zC+XWNMvgyrX76OM42+JZKgvpyUt779scO+Z9Tavmt6377wFAO/qmwWv+GNHb/cmxq/RKEkv3CLNb/n5EK/rPNIv8+mT7+eOVu/Ftlgv9jDar/7lWa/I8FgvxIAdL8IpH2/t8Z1vy7pdr+HXn6/AACAv0Hje7/fInu/Ayt+v4I5fb/jam6/SS5nv8Pxab/kUF6/BLBSv7WqQr/iBju/5eQxv1NFJ7/zZSO/6/MYv1/DD7+nfge/s/v1viwY275/0MW+Y8Kwvka0m76QKpG+KmJ/vgyNQL6K4zC+OpUNvhOJ/L1+gNe9Yx+yvXNeer0ikkm9O0OKvYifWb2ZuB69PlWLvPSO7LsJRxG8g1pNvEkzuLwXOH0865qSuxxpjbtXSQm8YbJ2vFm0jL22Qsq8+UuePKrBDTtCsIS7OovRO+btPzywyhW8lZsJvNHMvrv5zgW8JsdMu8e9zLv2Pg09JIT+O9k7m7zzmwk8S0uKvBE8O7wVTSA7tqUCPP4/HbwOsOY60NcePLy0l7mP1sS7Xu8AvEhQPbwzsXm85icfulLDgTzQqJK7WabNu3XELbzRi5I7N7aOPHKsqrkgJhq70jFJvF3H8TsYrl28+A8NvYvklTwDEx88FTjLu1d/8rnOEHW7JqxhvOfTJ7xAK7e46hsYuTgLCLxaaBu6LlMRvOt3jLz8EEe83bqDvAsZ4rtqSpY7rOHePE/cprmts4Y88MmLvE1kWTwILIq6EOJNPLppZDxk8Xo8TAS4O86DhLxjTkY8xMVlOy7FpLvbGS28WGr6u2ToFTwX0rK8BxMTOyn2Ujt/vDw8ul2iPAb3FTw=\",\"dtype\":\"float32\",\"shape\":[257]}},\"selected\":{\"id\":\"7999\",\"type\":\"Selection\"},\"selection_policy\":{\"id\":\"7998\",\"type\":\"UnionRenderers\"}},\"id\":\"7394\",\"type\":\"ColumnDataSource\"},{\"attributes\":{},\"id\":\"7370\",\"type\":\"BasicTicker\"},{\"attributes\":{\"plot\":{\"id\":\"7359\",\"subtype\":\"Figure\",\"type\":\"Plot\"},\"ticker\":{\"id\":\"7370\",\"type\":\"BasicTicker\"}},\"id\":\"7373\",\"type\":\"Grid\"},{\"attributes\":{\"axis_label\":\"Normalized light intensity\",\"formatter\":{\"id\":\"7997\",\"type\":\"BasicTickFormatter\"},\"plot\":{\"id\":\"7359\",\"subtype\":\"Figure\",\"type\":\"Plot\"},\"ticker\":{\"id\":\"7375\",\"type\":\"BasicTicker\"}},\"id\":\"7374\",\"type\":\"LinearAxis\"},{\"attributes\":{},\"id\":\"7998\",\"type\":\"UnionRenderers\"},{\"attributes\":{},\"id\":\"7375\",\"type\":\"BasicTicker\"},{\"attributes\":{\"dimension\":1,\"plot\":{\"id\":\"7359\",\"subtype\":\"Figure\",\"type\":\"Plot\"},\"ticker\":{\"id\":\"7375\",\"type\":\"BasicTicker\"}},\"id\":\"7378\",\"type\":\"Grid\"},{\"attributes\":{},\"id\":\"7380\",\"type\":\"WheelZoomTool\"},{\"attributes\":{},\"id\":\"7999\",\"type\":\"Selection\"},{\"attributes\":{},\"id\":\"7997\",\"type\":\"BasicTickFormatter\"},{\"attributes\":{\"source\":{\"id\":\"7394\",\"type\":\"ColumnDataSource\"}},\"id\":\"7398\",\"type\":\"CDSView\"},{\"attributes\":{\"data_source\":{\"id\":\"7394\",\"type\":\"ColumnDataSource\"},\"glyph\":{\"id\":\"7395\",\"type\":\"Scatter\"},\"hover_glyph\":null,\"muted_glyph\":null,\"nonselection_glyph\":{\"id\":\"7396\",\"type\":\"Scatter\"},\"selection_glyph\":null,\"view\":{\"id\":\"7398\",\"type\":\"CDSView\"}},\"id\":\"7397\",\"type\":\"GlyphRenderer\"},{\"attributes\":{\"active_drag\":\"auto\",\"active_inspect\":\"auto\",\"active_multi\":null,\"active_scroll\":\"auto\",\"active_tap\":\"auto\",\"tools\":[{\"id\":\"7379\",\"type\":\"PanTool\"},{\"id\":\"7380\",\"type\":\"WheelZoomTool\"},{\"id\":\"7381\",\"type\":\"BoxZoomTool\"},{\"id\":\"7382\",\"type\":\"SaveTool\"},{\"id\":\"7383\",\"type\":\"ResetTool\"},{\"id\":\"7384\",\"type\":\"HelpTool\"}]},\"id\":\"7385\",\"type\":\"Toolbar\"},{\"attributes\":{\"plot\":null,\"text\":\"Local folded lightcurve for false positive K00754.01\"},\"id\":\"7358\",\"type\":\"Title\"},{\"attributes\":{},\"id\":\"7379\",\"type\":\"PanTool\"},{\"attributes\":{\"fill_color\":{\"value\":\"red\"},\"line_color\":{\"value\":\"red\"},\"x\":{\"field\":\"x\"},\"y\":{\"field\":\"y\"}},\"id\":\"7395\",\"type\":\"Scatter\"},{\"attributes\":{\"overlay\":{\"id\":\"7387\",\"type\":\"BoxAnnotation\"}},\"id\":\"7381\",\"type\":\"BoxZoomTool\"},{\"attributes\":{},\"id\":\"7995\",\"type\":\"BasicTickFormatter\"},{\"attributes\":{},\"id\":\"7383\",\"type\":\"ResetTool\"},{\"attributes\":{},\"id\":\"7382\",\"type\":\"SaveTool\"},{\"attributes\":{},\"id\":\"7367\",\"type\":\"LinearScale\"},{\"attributes\":{\"fill_alpha\":{\"value\":0.1},\"fill_color\":{\"value\":\"#1f77b4\"},\"line_alpha\":{\"value\":0.1},\"line_color\":{\"value\":\"#1f77b4\"},\"x\":{\"field\":\"x\"},\"y\":{\"field\":\"y\"}},\"id\":\"7396\",\"type\":\"Scatter\"},{\"attributes\":{},\"id\":\"7384\",\"type\":\"HelpTool\"},{\"attributes\":{\"callback\":null},\"id\":\"7363\",\"type\":\"DataRange1d\"},{\"attributes\":{},\"id\":\"7365\",\"type\":\"LinearScale\"},{\"attributes\":{\"axis_label\":\"Normalized time\",\"formatter\":{\"id\":\"7995\",\"type\":\"BasicTickFormatter\"},\"plot\":{\"id\":\"7359\",\"subtype\":\"Figure\",\"type\":\"Plot\"},\"ticker\":{\"id\":\"7370\",\"type\":\"BasicTicker\"}},\"id\":\"7369\",\"type\":\"LinearAxis\"},{\"attributes\":{\"bottom_units\":\"screen\",\"fill_alpha\":{\"value\":0.5},\"fill_color\":{\"value\":\"lightgrey\"},\"left_units\":\"screen\",\"level\":\"overlay\",\"line_alpha\":{\"value\":1.0},\"line_color\":{\"value\":\"black\"},\"line_dash\":[4,4],\"line_width\":{\"value\":2},\"plot\":null,\"render_mode\":\"css\",\"right_units\":\"screen\",\"top_units\":\"screen\"},\"id\":\"7387\",\"type\":\"BoxAnnotation\"},{\"attributes\":{\"callback\":null},\"id\":\"7361\",\"type\":\"DataRange1d\"}],\"root_ids\":[\"7359\"]},\"title\":\"Bokeh Application\",\"version\":\"1.0.4\"}};\n",
       "  var render_items = [{\"docid\":\"154f33cc-70d2-4a58-b63e-51820ea96fac\",\"roots\":{\"7359\":\"0b2488da-69ad-4a6a-b4bb-9964c8544cd4\"}}];\n",
       "  root.Bokeh.embed.embed_items_notebook(docs_json, render_items);\n",
       "\n",
       "  }\n",
       "  if (root.Bokeh !== undefined) {\n",
       "    embed_document(root);\n",
       "  } else {\n",
       "    var attempts = 0;\n",
       "    var timer = setInterval(function(root) {\n",
       "      if (root.Bokeh !== undefined) {\n",
       "        embed_document(root);\n",
       "        clearInterval(timer);\n",
       "      }\n",
       "      attempts++;\n",
       "      if (attempts > 100) {\n",
       "        console.log(\"Bokeh: ERROR: Unable to run BokehJS code because BokehJS library is missing\");\n",
       "        clearInterval(timer);\n",
       "      }\n",
       "    }, 10, root)\n",
       "  }\n",
       "})(window);"
      ],
      "application/vnd.bokehjs_exec.v0+json": ""
     },
     "metadata": {
      "application/vnd.bokehjs_exec.v0+json": {
       "id": "7359"
      },
      "tags": []
     },
     "output_type": "display_data"
    }
   ],
   "source": [
    "plot_lightcurves(X[2], status=labelsnpy[2], object_name=namesnpy[2], color=\"red\")"
   ]
  },
  {
   "cell_type": "code",
   "execution_count": 0,
   "metadata": {
    "colab": {},
    "colab_type": "code",
    "id": "Nh3vIFW4ho4J"
   },
   "outputs": [],
   "source": [
    "# Create an iterable dataset from the input and label tensors\n",
    "dataset = TensorDataset(X, y)"
   ]
  },
  {
   "cell_type": "code",
   "execution_count": 0,
   "metadata": {
    "colab": {},
    "colab_type": "code",
    "id": "X1ycTdUjho4L"
   },
   "outputs": [],
   "source": [
    "# Perform the train/test/validation split\n",
    "train_size = int(0.7 * len(y))\n",
    "test_size  = int(0.2 * len(y))\n",
    "val_size = len(y) - train_size - test_size\n",
    "train_dataset, test_dataset, val_dataset = torch.utils.data.random_split(\n",
    "                                             dataset, \n",
    "                                             [train_size, test_size, val_size])"
   ]
  },
  {
   "cell_type": "code",
   "execution_count": 0,
   "metadata": {
    "colab": {},
    "colab_type": "code",
    "id": "K0PAM_P_ho4O"
   },
   "outputs": [],
   "source": [
    "# Choose a batch size and create a data loader from the dataset\n",
    "\n",
    "bs = 50  # Batch size\n",
    "train_dl = DataLoader(train_dataset, batch_size=bs, shuffle=True)  # Needs shuffling to prevent correlation between batches\n",
    "test_dl  = DataLoader(test_dataset,  batch_size=bs * 2)  # Test can use higher batch size because it needs less memory\n",
    "valid_dl = DataLoader(val_dataset, batch_size=bs * 2)  # Validation can use higher batch size because it needs less memory"
   ]
  },
  {
   "cell_type": "code",
   "execution_count": 0,
   "metadata": {
    "colab": {},
    "colab_type": "code",
    "id": "IsenkTmLho4X"
   },
   "outputs": [],
   "source": [
    "class Test_CNN(nn.Module):\n",
    "    def __init__(self):\n",
    "        super().__init__()\n",
    "        self.conv1 = nn.Conv1d(1, 8, kernel_size=3, stride=1, padding=1)\n",
    "        self.conv2 = nn.Conv1d(8, 8, kernel_size=3, stride=1, padding=1)\n",
    "        self.conv3 = nn.Conv1d(8, 4, kernel_size=3, stride=1, padding=1)\n",
    "        self.fc1   = nn.Linear(int((len_global_lightcurves+len_local_lightcurves )/4)*4, 50)\n",
    "        self.fc2   = nn.Linear(50, 2)\n",
    "        \n",
    "        \n",
    "    def forward(self, xb):  # xb is of size (1, L)\n",
    "        \n",
    "        # Convolutions and pooling\n",
    "        xb = F.relu(self.conv1(xb))  # Size (8, L)\n",
    "        xb = F.relu(self.conv2(xb))  # Size (8, L)\n",
    "        xb = F.relu(self.conv3(xb))  # Size (4, L)\n",
    "        xb = F.max_pool1d(xb, 4)     # Size (4, floor(L/4))\n",
    "        \n",
    "        # Reshape to input the linear layer\n",
    "        # -1 infers the necessary dimesion from the rest\n",
    "        xb = xb.view(-1, int(int((len_global_lightcurves+len_local_lightcurves )/4)*4))\n",
    "\n",
    "        # Apply fully connected layers\n",
    "        xb = F.relu(self.fc1(xb))    # Size (1, 50)\n",
    "        xb = self.fc2(xb)            # Size (1, 2)\n",
    "        \n",
    "        return xb"
   ]
  },
  {
   "cell_type": "code",
   "execution_count": 0,
   "metadata": {
    "colab": {},
    "colab_type": "code",
    "id": "ebKMIjaJCVOB"
   },
   "outputs": [],
   "source": [
    "class Fully_Connected(nn.Module):\n",
    "    def __init__(self, \n",
    "                 len_global_lightcurves = 2049, \n",
    "                 len_local_lightcurves = 257, \n",
    "                 len_secondary_lightcurves = 0, \n",
    "                 len_extra_parameters = 0,\n",
    "                 len_fully_connected = 512,\n",
    "                 input_channels = 1, \n",
    "                 output_classes = 2,\n",
    "                 dropout = 0.05,\n",
    "                 batchnorm = False,\n",
    "                 pooling_type='max'):\n",
    "        super().__init__()\n",
    "\n",
    "        self.len_global_lightcurves = len_global_lightcurves\n",
    "        self.len_local_lightcurves = len_local_lightcurves\n",
    "        self.total_input = len_local_lightcurves + len_global_lightcurves\n",
    "        \n",
    "        self.batchnorm = batchnorm\n",
    "\n",
    "        self.fc_1 = nn.Linear(len_global_lightcurves + len_local_lightcurves, 1024)\n",
    "        self.fc_2 = nn.Linear(1024, 1024)\n",
    "        self.fc_3 = nn.Linear(1024, 512)\n",
    "        self.fc_4 = nn.Linear(512, 512)\n",
    "        self.fc_e = nn.Linear(512, 2)\n",
    "        self.drop = nn.Dropout(dropout)\n",
    "        self.bn_512 = nn.BatchNorm1d(512)\n",
    "\n",
    "\n",
    "        \n",
    "    def forward(self, xb):  # xb is of size (1, L)\n",
    "        \n",
    "        # Reshape to input the linear layer\n",
    "        # -1 infers the necessary dimesion from the rest\n",
    "        xb = xb.view(-1, self.total_input)\n",
    "\n",
    "        # Apply fully connected layers\n",
    "        xb = F.relu(self.fc_1(xb)) \n",
    "        xb = self.drop(xb)\n",
    "        xb = F.relu(self.fc_2(xb))\n",
    "        xb = self.drop(xb)\n",
    "        xb = F.relu(self.fc_3(xb))  \n",
    "        if self.batchnorm: xb = self.bn_512(xb)\n",
    "        xb = self.drop(xb)\n",
    "        xb = F.relu(self.fc_4(xb)) \n",
    "        if self.batchnorm: xb = self.bn_512(xb)\n",
    "        xb = self.drop(xb)\n",
    "        \n",
    "        xb = self.fc_e(xb)\n",
    "        \n",
    "        return xb"
   ]
  },
  {
   "cell_type": "code",
   "execution_count": 0,
   "metadata": {
    "colab": {},
    "colab_type": "code",
    "id": "ibViLdyF3vKr"
   },
   "outputs": [],
   "source": [
    "class AstroNET_v1(nn.Module):\n",
    "    def __init__(self, \n",
    "                 len_global_lightcurves = 2049, \n",
    "                 len_local_lightcurves = 257, \n",
    "                 len_extra_parameters = 0,\n",
    "                 len_fully_connected = 512,\n",
    "                 input_channels = 1, \n",
    "                 output_classes = 2,\n",
    "                 pooling_type='max'):\n",
    "        \n",
    "        super().__init__()\n",
    "        \n",
    "        # Pooling dimensional reduction funciton. Order is number of poolings that the\n",
    "        # column uses. Assumes that:   2*padding = kernel_size-1 and stride = 2\n",
    "        def pooling_reduction(input_dim, order):\n",
    "            if order == 1:\n",
    "                output_dim = int(((input_dim - 1)/2 + 1)//1)\n",
    "                return output_dim\n",
    "            else:\n",
    "                next_dim = int(((input_dim - 1)/2 + 1)//1)\n",
    "                return pooling_reduction(next_dim, order-1)\n",
    "        \n",
    "        \n",
    "        # General configuration:\n",
    "        self.input_channels = input_channels\n",
    "        \n",
    "        self.len_global_lightcurves = len_global_lightcurves\n",
    "        self.len_local_lightcurves = len_local_lightcurves\n",
    "        self.len_extra_parameters = len_extra_parameters\n",
    "        \n",
    "        self.len_total_input = (len_global_lightcurves + \n",
    "                                len_local_lightcurves + \n",
    "                                len_extra_parameters)\n",
    "        \n",
    "        self.len_fully_connected = len_fully_connected\n",
    "        self.output_classes = output_classes\n",
    "        \n",
    "                                \n",
    "        # Calculate the length of the vectors after the convolutional columns\n",
    "        self.len_global_col = pooling_reduction(self.len_global_lightcurves, 5) * 256\n",
    "        self.len_local_col  = pooling_reduction(self.len_local_lightcurves, 2) * 32\n",
    "                                \n",
    "        # Calculate the input size for the first fully connected layer\n",
    "        self.len_fc_input = (self.len_global_col + \n",
    "                             self.len_local_col + \n",
    "                             self.len_extra_parameters * self.input_channels)\n",
    "        \n",
    "                                \n",
    "        # Layers for convolutional columns of the model\n",
    "        # Layers with same config must be repeated because they will need different weights\n",
    "        c = self.input_channels\n",
    "        \n",
    "        # Convolutions for global view column\n",
    "        self.conv_5_16_g_a  = nn.Conv1d(  c,  16, kernel_size=5, stride=1, padding=2)\n",
    "        self.conv_5_16_g_b  = nn.Conv1d( 16,  16, kernel_size=5, stride=1, padding=2)\n",
    "        \n",
    "        self.conv_5_32_g_a  = nn.Conv1d( 16,  32, kernel_size=5, stride=1, padding=2)\n",
    "        self.conv_5_32_g_b  = nn.Conv1d( 32,  32, kernel_size=5, stride=1, padding=2)\n",
    "        \n",
    "        self.conv_5_64_g_a  = nn.Conv1d( 32,  64, kernel_size=5, stride=1, padding=2)\n",
    "        self.conv_5_64_g_b  = nn.Conv1d( 64,  64, kernel_size=5, stride=1, padding=2)\n",
    "        \n",
    "        self.conv_5_128_g_a = nn.Conv1d( 64, 128, kernel_size=5, stride=1, padding=2)\n",
    "        self.conv_5_128_g_b = nn.Conv1d(128, 128, kernel_size=5, stride=1, padding=2)\n",
    "        \n",
    "        self.conv_5_256_g_a = nn.Conv1d(128, 256, kernel_size=5, stride=1, padding=2)\n",
    "        self.conv_5_256_g_b = nn.Conv1d(256, 256, kernel_size=5, stride=1, padding=2)\n",
    "                                \n",
    "        # Convolutions for local view column   \n",
    "        self.conv_5_16_l_a  = nn.Conv1d(  c,  16, kernel_size=5, stride=1, padding=2)\n",
    "        self.conv_5_16_l_b  = nn.Conv1d( 16,  16, kernel_size=5, stride=1, padding=2)\n",
    "        \n",
    "        self.conv_5_32_l_a  = nn.Conv1d( 16,  32, kernel_size=5, stride=1, padding=2)\n",
    "        self.conv_5_32_l_b  = nn.Conv1d( 32,  32, kernel_size=5, stride=1, padding=2)\n",
    "        \n",
    "                                \n",
    "        # Pooling layers\n",
    "        # These contain no parameters, so they can be shared\n",
    "        if pooling_type == 'max':\n",
    "            self.pool_5_2     = nn.MaxPool1d(5, stride=2, padding=2)\n",
    "            self.pool_7_2     = nn.MaxPool1d(7, stride=2, padding=3)\n",
    "        elif pooling_type == 'avg':\n",
    "            self.pool_5_2     = nn.AvgPool1d(5, stride=2, padding=2)\n",
    "            self.pool_7_2     = nn.AvgPool1d(7, stride=2, padding=3)\n",
    "        \n",
    "        # Dense layers for classification of extracted features\n",
    "        self.fc_512_a     = nn.Linear(self.len_fc_input, self.len_fully_connected)\n",
    "        self.fc_512_b     = nn.Linear(self.len_fully_connected, self.len_fully_connected)\n",
    "        self.fc_512_c     = nn.Linear(self.len_fully_connected, self.len_fully_connected)\n",
    "        self.fc_512_d     = nn.Linear(self.len_fully_connected, self.len_fully_connected)\n",
    "        \n",
    "        self.fc_out       = nn.Linear(self.len_fully_connected, self.output_classes)\n",
    "        \n",
    "    def forward(self, xb):  # xb is of size (batch_size, input_channels, len_total_input)\n",
    "        \n",
    "        batch_size     = xb.size()[0]\n",
    "        \n",
    "        # Extract input of different columns for whole batch and all channels\n",
    "        gb, lb, eb = torch.split(xb, [self.len_global_lightcurves,\n",
    "                                      self.len_local_lightcurves,\n",
    "                                      self.len_extra_parameters],\n",
    "                                 dim=2)\n",
    "                            \n",
    "        # Convolutions for global view\n",
    "        gb = F.relu(self.conv_5_16_g_a (gb))\n",
    "        gb = F.relu(self.conv_5_16_g_b (gb))\n",
    "        gb = self.pool_5_2(gb)        \n",
    "                                \n",
    "        gb = F.relu(self.conv_5_32_g_a (gb))\n",
    "        gb = F.relu(self.conv_5_32_g_b (gb))\n",
    "        gb = self.pool_5_2(gb)                        \n",
    "                                \n",
    "        gb = F.relu(self.conv_5_64_g_a (gb))\n",
    "        gb = F.relu(self.conv_5_64_g_b (gb))\n",
    "        gb = self.pool_5_2(gb)                        \n",
    "                                \n",
    "        gb = F.relu(self.conv_5_128_g_a(gb))\n",
    "        gb = F.relu(self.conv_5_128_g_b(gb))\n",
    "        gb = self.pool_5_2(gb)                        \n",
    "                                \n",
    "        gb = F.relu(self.conv_5_256_g_a(gb))\n",
    "        gb = F.relu(self.conv_5_256_g_b(gb))\n",
    "        gb = self.pool_5_2(gb)\n",
    "        \n",
    "        gb = torch.flatten(gb, 1, 2)  # Flatten channels and features but NOT batches\n",
    "                                \n",
    "        # Convolutions for local view\n",
    "        lb = F.relu(self.conv_5_16_l_a (lb))\n",
    "        lb = F.relu(self.conv_5_16_l_b (lb))\n",
    "        lb = self.pool_7_2(lb)        \n",
    "                                \n",
    "        lb = F.relu(self.conv_5_32_l_a (lb))\n",
    "        lb = F.relu(self.conv_5_32_l_b (lb))\n",
    "        lb = self.pool_7_2(lb)\n",
    "        \n",
    "        lb = torch.flatten(lb, 1, 2)\n",
    "                                \n",
    "        # Reshape extra features\n",
    "        eb = torch.flatten(eb, 1, 2)\n",
    "                                \n",
    "        # Concatenate results maintaining batch positioning in first dimension\n",
    "        fb = torch.cat((gb, lb, eb), dim=1)\n",
    "\n",
    "        # Apply fully connected layers\n",
    "        fb = F.relu(self.fc_512_a(fb))\n",
    "        fb = F.relu(self.fc_512_b(fb))\n",
    "        fb = F.relu(self.fc_512_c(fb))\n",
    "        fb = F.relu(self.fc_512_d(fb))\n",
    "\n",
    "        # Output layer\n",
    "        fb = self.fc_out(fb)\n",
    "        \n",
    "        return fb"
   ]
  },
  {
   "cell_type": "code",
   "execution_count": 0,
   "metadata": {
    "colab": {},
    "colab_type": "code",
    "id": "-rXz30Lg3vKu"
   },
   "outputs": [],
   "source": [
    "class ExoplaNET_v1(nn.Module):\n",
    "    def __init__(self, \n",
    "                 len_global_lightcurves = 2049, \n",
    "                 len_local_lightcurves = 257, \n",
    "                 len_secondary_lightcurves = 0, \n",
    "                 len_extra_parameters = 0,\n",
    "                 len_fully_connected = 512,\n",
    "                 input_channels = 1, \n",
    "                 output_classes = 2,\n",
    "                 dropout = 0.05,\n",
    "                 batchnorm = False,\n",
    "                 augment = False,\n",
    "                 pooling_type='max'):\n",
    "        \n",
    "        super().__init__()\n",
    "        \n",
    "        # Pooling dimensional reduction funciton. Order is number of poolings that the\n",
    "        # column uses. Assumes that:   2*padding = kernel_size-1 and stride = 2\n",
    "        def pooling_reduction(input_dim, order):\n",
    "            if order == 1:\n",
    "                output_dim = int(((input_dim - 1)/2 + 1)//1)\n",
    "                return output_dim\n",
    "            else:\n",
    "                next_dim = int(((input_dim - 1)/2 + 1)//1)\n",
    "                return pooling_reduction(next_dim, order-1)\n",
    "        \n",
    "        \n",
    "        # General configuration:\n",
    "        self.len_global_lightcurves    = len_global_lightcurves\n",
    "        self.len_local_lightcurves     = len_local_lightcurves\n",
    "        self.len_secondary_lightcurves = len_secondary_lightcurves\n",
    "        \n",
    "        self.len_extra_parameters = len_extra_parameters\n",
    "        self.input_channels = input_channels\n",
    "        \n",
    "        self.len_total_input = (len_global_lightcurves + \n",
    "                                len_local_lightcurves + \n",
    "                                len_secondary_lightcurves +\n",
    "                                len_extra_parameters)\n",
    "        \n",
    "        self.len_fully_connected = len_fully_connected\n",
    "        self.output_classes = output_classes\n",
    "        self.augment = augment\n",
    "                                \n",
    "        # Calculate the length of the vectors after the convolutional columns\n",
    "        self.len_global_col     = pooling_reduction(self.len_global_lightcurves,    5) * 256\n",
    "        self.len_local_col      = pooling_reduction(self.len_local_lightcurves,     2) *  32\n",
    "        self.len_secondary_col  = pooling_reduction(self.len_secondary_lightcurves, 2) *  32\n",
    "                                \n",
    "        # Calculate the input size for the first fully connected layer\n",
    "        self.len_fc_input = (self.len_global_col + \n",
    "                             self.len_local_col + \n",
    "                             self.len_secondary_col +\n",
    "                             self.len_extra_parameters * self.input_channels)\n",
    "        \n",
    "                                \n",
    "        # Layers for convolutional columns of the model\n",
    "        # Layers with same config must be repeated because they will need different weights\n",
    "        c = self.input_channels\n",
    "        \n",
    "        # Convolutions for global view column\n",
    "        self.conv_5_16_g_a  = nn.Conv1d(  c,  16, kernel_size=5, stride=1, padding=2)\n",
    "        self.conv_5_16_g_b  = nn.Conv1d( 16,  16, kernel_size=5, stride=1, padding=2)\n",
    "        \n",
    "        self.conv_5_32_g_a  = nn.Conv1d( 16,  32, kernel_size=5, stride=1, padding=2)\n",
    "        self.conv_5_32_g_b  = nn.Conv1d( 32,  32, kernel_size=5, stride=1, padding=2)\n",
    "        \n",
    "        self.conv_5_64_g_a  = nn.Conv1d( 32,  64, kernel_size=5, stride=1, padding=2)\n",
    "        self.conv_5_64_g_b  = nn.Conv1d( 64,  64, kernel_size=5, stride=1, padding=2)\n",
    "        \n",
    "        self.conv_5_128_g_a = nn.Conv1d( 64, 128, kernel_size=5, stride=1, padding=2)\n",
    "        self.conv_5_128_g_b = nn.Conv1d(128, 128, kernel_size=5, stride=1, padding=2)\n",
    "        \n",
    "        self.conv_5_256_g_a = nn.Conv1d(128, 256, kernel_size=5, stride=1, padding=2)\n",
    "        self.conv_5_256_g_b = nn.Conv1d(256, 256, kernel_size=5, stride=1, padding=2)\n",
    "                                \n",
    "        # Convolutions for local view column   \n",
    "        self.conv_5_16_l_a  = nn.Conv1d(  c,  16, kernel_size=5, stride=1, padding=2)\n",
    "        self.conv_5_16_l_b  = nn.Conv1d( 16,  16, kernel_size=5, stride=1, padding=2)\n",
    "        \n",
    "        self.conv_5_32_l_a  = nn.Conv1d( 16,  32, kernel_size=5, stride=1, padding=2)\n",
    "        self.conv_5_32_l_b  = nn.Conv1d( 32,  32, kernel_size=5, stride=1, padding=2)\n",
    "\n",
    "        # Convolutions for secondary view column   \n",
    "        self.conv_5_16_s_a  = nn.Conv1d(  c,  16, kernel_size=5, stride=1, padding=2)\n",
    "        self.conv_5_16_s_b  = nn.Conv1d( 16,  16, kernel_size=5, stride=1, padding=2)\n",
    "        \n",
    "        self.conv_5_32_s_a  = nn.Conv1d( 16,  32, kernel_size=5, stride=1, padding=2)\n",
    "        self.conv_5_32_s_b  = nn.Conv1d( 32,  32, kernel_size=5, stride=1, padding=2)\n",
    "                                \n",
    "        # Pooling layers\n",
    "        # These contain no parameters, so they can be shared\n",
    "        if pooling_type == 'max':\n",
    "            self.pool_5_2     = nn.MaxPool1d(5, stride=2, padding=2)\n",
    "            self.pool_7_2     = nn.MaxPool1d(7, stride=2, padding=3)\n",
    "        elif pooling_type == 'avg':\n",
    "            self.pool_5_2     = nn.AvgPool1d(5, stride=2, padding=2)\n",
    "            self.pool_7_2     = nn.AvgPool1d(7, stride=2, padding=3)\n",
    "        \n",
    "        # Batch normalization layers\n",
    "        self.batchnorm = batchnorm\n",
    "        \n",
    "        self.bn_g = nn.BatchNorm1d(256)\n",
    "        self.bn_l = nn.BatchNorm1d(32)\n",
    "        self.bn_s = nn.BatchNorm1d(32)\n",
    "\n",
    "\n",
    "        # Dropout laters\n",
    "        self.drop = nn.Dropout(dropout)\n",
    "        \n",
    "        # Dense layers for classification of extracted features\n",
    "        self.fc_512_a     = nn.Linear(self.len_fc_input, self.len_fully_connected)\n",
    "        self.fc_512_b     = nn.Linear(self.len_fully_connected, self.len_fully_connected)\n",
    "        self.fc_512_c     = nn.Linear(self.len_fully_connected, self.len_fully_connected)\n",
    "        self.fc_512_d     = nn.Linear(self.len_fully_connected, self.len_fully_connected)\n",
    "        \n",
    "        self.fc_out       = nn.Linear(self.len_fully_connected, self.output_classes)\n",
    "        \n",
    "    def forward(self, xb):  # xb is of size (batch_size, input_channels, len_total_input)\n",
    "        \n",
    "        flip = False\n",
    "        if self.augment:\n",
    "            flip = np.random.choice([True, False])\n",
    "\n",
    "        batch_size     = xb.size()[0]\n",
    "        \n",
    "        # Extract input of different columns for whole batch and all channels\n",
    "        gb, lb, sb, eb = torch.split(xb, [self.len_global_lightcurves,\n",
    "                                          self.len_local_lightcurves,\n",
    "                                          self.len_secondary_lightcurves,\n",
    "                                          self.len_extra_parameters],\n",
    "                                     dim=2)\n",
    "        \n",
    "        if flip:\n",
    "            gb = torch.flip(gb, [2])\n",
    "            lb = torch.flip(lb, [2])\n",
    "            sb = torch.flip(sb, [2])\n",
    "\n",
    "\n",
    "        if min(gb.size()) > 0:  # Only run the column if the input exists\n",
    "            # Convolutions for global view\n",
    "            gb = F.relu(self.conv_5_16_g_a (gb))\n",
    "            gb = F.relu(self.conv_5_16_g_b (gb))\n",
    "            gb = self.pool_5_2(gb)\n",
    "            gb = self.drop(gb)\n",
    "\n",
    "            gb = F.relu(self.conv_5_32_g_a (gb))\n",
    "            gb = F.relu(self.conv_5_32_g_b (gb))\n",
    "            gb = self.pool_5_2(gb)\n",
    "            gb = self.drop(gb)\n",
    "\n",
    "            gb = F.relu(self.conv_5_64_g_a (gb))\n",
    "            gb = F.relu(self.conv_5_64_g_b (gb))\n",
    "            gb = self.pool_5_2(gb)\n",
    "            gb = self.drop(gb)\n",
    "\n",
    "            gb = F.relu(self.conv_5_128_g_a(gb))\n",
    "            gb = F.relu(self.conv_5_128_g_b(gb))\n",
    "            gb = self.pool_5_2(gb)\n",
    "            gb = self.drop(gb)\n",
    "\n",
    "            gb = F.relu(self.conv_5_256_g_a(gb))\n",
    "            gb = F.relu(self.conv_5_256_g_b(gb))\n",
    "            gb = self.pool_5_2(gb)\n",
    "            gb = self.drop(gb)\n",
    "\n",
    "            if self.batchnorm:\n",
    "                gb = self.bn_g(gb)\n",
    "        \n",
    "        gb = torch.flatten(gb, 1, 2)  # Flatten channels and features but NOT batches\n",
    "        \n",
    "        if min(lb.size()) > 0:\n",
    "            # Convolutions for local view\n",
    "            lb = F.relu(self.conv_5_16_l_a (lb))\n",
    "            lb = F.relu(self.conv_5_16_l_b (lb))\n",
    "            lb = self.pool_7_2(lb)    \n",
    "            lb = self.drop(lb)\n",
    "\n",
    "            lb = F.relu(self.conv_5_32_l_a (lb))\n",
    "            lb = F.relu(self.conv_5_32_l_b (lb))\n",
    "            lb = self.pool_7_2(lb)\n",
    "            lb = self.drop(lb)\n",
    "\n",
    "            if self.batchnorm:\n",
    "                lb = self.bn_l(lb)\n",
    "\n",
    "        lb = torch.flatten(lb, 1, 2)\n",
    "            \n",
    "\n",
    "        if min(sb.size()) > 0:\n",
    "            # Convolutions for secondary view\n",
    "            sb = F.relu(self.conv_5_16_s_a (sb))\n",
    "            sb = F.relu(self.conv_5_16_s_b (sb))\n",
    "            sb = self.pool_7_2(sb)\n",
    "            sb = self.drop(sb)\n",
    "\n",
    "            sb = F.relu(self.conv_5_32_l_a (sb))\n",
    "            sb = F.relu(self.conv_5_32_l_b (sb))\n",
    "            sb = self.pool_7_2(sb)\n",
    "            sb = self.drop(sb)\n",
    "\n",
    "            if self.batchnorm:\n",
    "                sb = self.bn_s(sb)\n",
    "        \n",
    "        sb = torch.flatten(sb, 1, 2)\n",
    "                                \n",
    "        # Reshape extra features\n",
    "        eb = torch.flatten(eb, 1, 2)\n",
    "                                \n",
    "        # Concatenate results maintaining batch positioning in first dimension\n",
    "        fb = torch.cat((gb, lb, sb, eb), dim=1)\n",
    "\n",
    "        # Apply fully connected layers\n",
    "        fb = F.relu(self.fc_512_a(fb))\n",
    "        fb = self.drop(fb)\n",
    "        fb = F.relu(self.fc_512_b(fb))\n",
    "        fb = self.drop(fb)\n",
    "        fb = F.relu(self.fc_512_c(fb))\n",
    "        fb = self.drop(fb)\n",
    "        fb = F.relu(self.fc_512_d(fb))\n",
    "\n",
    "        # Output layer\n",
    "        fb = self.fc_out(fb)\n",
    "        \n",
    "        return fb"
   ]
  },
  {
   "cell_type": "code",
   "execution_count": 0,
   "metadata": {
    "colab": {},
    "colab_type": "code",
    "id": "Z9kWIGMHI5s8"
   },
   "outputs": [],
   "source": []
  },
  {
   "cell_type": "code",
   "execution_count": 0,
   "metadata": {
    "colab": {},
    "colab_type": "code",
    "id": "V37jyhrTI6np"
   },
   "outputs": [],
   "source": [
    "class ExoplaNET_v2(nn.Module):\n",
    "    def __init__(self, \n",
    "                 len_global_lightcurves = 2049,\n",
    "                 len_local_lightcurves = 257,\n",
    "                 len_secondary_lightcurves = 0,\n",
    "                 len_extra_parameters = 0,\n",
    "                 len_fully_connected = 512,\n",
    "                 input_channels = 1, \n",
    "                 output_classes = 2,\n",
    "                 dropout = 0.05,\n",
    "                 batchnorm = False,\n",
    "                 pooling_type='max'):\n",
    "        \n",
    "        super().__init__()\n",
    "        \n",
    "        # Pooling dimensional reduction funciton. Order is number of poolings that the\n",
    "        # column uses. Assumes that:   2*padding = kernel_size-1 and stride = 2\n",
    "        def pooling_reduction(input_dim, order):\n",
    "            if order == 1:\n",
    "                output_dim = int(((input_dim - 1)/2 + 1)//1)\n",
    "                return output_dim\n",
    "            else:\n",
    "                next_dim = int(((input_dim - 1)/2 + 1)//1)\n",
    "                return pooling_reduction(next_dim, order-1)\n",
    "        \n",
    "        \n",
    "        # General configuration:\n",
    "        self.len_global_lightcurves    = len_global_lightcurves\n",
    "        self.len_local_lightcurves     = len_local_lightcurves\n",
    "        self.len_secondary_lightcurves = len_secondary_lightcurves\n",
    "        \n",
    "        self.len_extra_parameters = len_extra_parameters\n",
    "        self.input_channels = input_channels\n",
    "        \n",
    "        self.len_total_input = (len_global_lightcurves + \n",
    "                                len_local_lightcurves + \n",
    "                                len_secondary_lightcurves +\n",
    "                                len_extra_parameters)\n",
    "        \n",
    "        self.len_fully_connected = len_fully_connected\n",
    "        self.output_classes = output_classes\n",
    "        \n",
    "                                \n",
    "        # Calculate the length of the vectors after the convolutional columns\n",
    "        self.len_global_col     = pooling_reduction(self.len_global_lightcurves,    5) * 256\n",
    "        self.len_local_col      = pooling_reduction(self.len_local_lightcurves,     3) *  64\n",
    "        self.len_secondary_col  = pooling_reduction(self.len_secondary_lightcurves, 3) *  64\n",
    "                                \n",
    "        # Calculate the input size for the first fully connected layer\n",
    "        self.len_fc_input = (self.len_global_col + \n",
    "                             self.len_local_col + \n",
    "                             self.len_secondary_col +\n",
    "                             self.len_extra_parameters * self.input_channels)\n",
    "        \n",
    "                                \n",
    "        # Layers for convolutional columns of the model\n",
    "        # Layers with same config must be repeated because they will need different weights\n",
    "        c = self.input_channels\n",
    "        \n",
    "        # Convolutions for global view column\n",
    "        self.conv_5_16_g_a  = nn.Conv1d(  c,  16, kernel_size=5, stride=1, padding=2)\n",
    "        self.conv_5_16_g_b  = nn.Conv1d( 16,  16, kernel_size=5, stride=1, padding=2)\n",
    "        \n",
    "        self.conv_5_32_g_a  = nn.Conv1d( 16,  32, kernel_size=5, stride=1, padding=2)\n",
    "        self.conv_5_32_g_b  = nn.Conv1d( 32,  32, kernel_size=5, stride=1, padding=2)\n",
    "        \n",
    "        self.conv_5_64_g_a  = nn.Conv1d( 32,  64, kernel_size=5, stride=1, padding=2)\n",
    "        self.conv_5_64_g_b  = nn.Conv1d( 64,  64, kernel_size=5, stride=1, padding=2)\n",
    "        \n",
    "        self.conv_5_128_g_a = nn.Conv1d( 64, 128, kernel_size=5, stride=1, padding=2)\n",
    "        self.conv_5_128_g_b = nn.Conv1d(128, 128, kernel_size=5, stride=1, padding=2)\n",
    "        \n",
    "        self.conv_5_256_g_a = nn.Conv1d(128, 256, kernel_size=5, stride=1, padding=2)\n",
    "        self.conv_5_256_g_b = nn.Conv1d(256, 256, kernel_size=5, stride=1, padding=2)\n",
    "                                \n",
    "        # Convolutions for local view column   \n",
    "        self.conv_5_16_l_a  = nn.Conv1d(  c,  16, kernel_size=5, stride=1, padding=2)\n",
    "        self.conv_5_16_l_b  = nn.Conv1d( 16,  16, kernel_size=5, stride=1, padding=2)\n",
    "        \n",
    "        self.conv_5_32_l_a  = nn.Conv1d( 16,  32, kernel_size=5, stride=1, padding=2)\n",
    "        self.conv_5_32_l_b  = nn.Conv1d( 32,  32, kernel_size=5, stride=1, padding=2)\n",
    "        \n",
    "        self.conv_5_64_l_a  = nn.Conv1d( 32,  64, kernel_size=5, stride=1, padding=2)\n",
    "        self.conv_5_64_l_b  = nn.Conv1d( 64,  64, kernel_size=5, stride=1, padding=2)\n",
    "\n",
    "        # Convolutions for secondary view column   \n",
    "        self.conv_5_16_s_a  = nn.Conv1d(  c,  16, kernel_size=5, stride=1, padding=2)\n",
    "        self.conv_5_16_s_b  = nn.Conv1d( 16,  16, kernel_size=5, stride=1, padding=2)\n",
    "        \n",
    "        self.conv_5_32_s_a  = nn.Conv1d( 16,  32, kernel_size=5, stride=1, padding=2)\n",
    "        self.conv_5_32_s_b  = nn.Conv1d( 32,  32, kernel_size=5, stride=1, padding=2)\n",
    "        \n",
    "        self.conv_5_64_s_a  = nn.Conv1d( 32,  64, kernel_size=5, stride=1, padding=2)\n",
    "        self.conv_5_64_s_b  = nn.Conv1d( 64,  64, kernel_size=5, stride=1, padding=2)\n",
    "                                \n",
    "        # Pooling layers\n",
    "        # These contain no parameters, so they can be shared\n",
    "        if pooling_type == 'max':\n",
    "            self.pool_5_2     = nn.MaxPool1d(5, stride=2, padding=2)\n",
    "            self.pool_7_2     = nn.MaxPool1d(7, stride=2, padding=3)\n",
    "        elif pooling_type == 'avg':\n",
    "            self.pool_5_2     = nn.AvgPool1d(5, stride=2, padding=2)\n",
    "            self.pool_7_2     = nn.AvgPool1d(7, stride=2, padding=3)\n",
    "        \n",
    "        # Batch normalization layers\n",
    "        self.batchnorm = batchnorm\n",
    "        \n",
    "        self.bn_g = nn.BatchNorm1d(256)\n",
    "        self.bn_l = nn.BatchNorm1d(64)\n",
    "        self.bn_s = nn.BatchNorm1d(64)\n",
    "\n",
    "\n",
    "        # Dropout laters\n",
    "        self.drop = nn.Dropout(dropout)\n",
    "        \n",
    "        # Dense layers for classification of extracted features\n",
    "        self.fc_512_a     = nn.Linear(self.len_fc_input, self.len_fully_connected)\n",
    "        self.fc_512_b     = nn.Linear(self.len_fully_connected, self.len_fully_connected)\n",
    "        self.fc_512_c     = nn.Linear(self.len_fully_connected, self.len_fully_connected)\n",
    "        self.fc_512_d     = nn.Linear(self.len_fully_connected, self.len_fully_connected)\n",
    "        \n",
    "        self.fc_out       = nn.Linear(self.len_fully_connected, self.output_classes)\n",
    "        \n",
    "    def forward(self, xb):  # xb is of size (batch_size, input_channels, len_total_input)\n",
    "        \n",
    "        batch_size     = xb.size()[0]\n",
    "        \n",
    "        # Extract input of different columns for whole batch and all channels\n",
    "        gb, lb, sb, eb = torch.split(xb, [self.len_global_lightcurves,\n",
    "                                          self.len_local_lightcurves,\n",
    "                                          self.len_secondary_lightcurves,\n",
    "                                          self.len_extra_parameters],\n",
    "                                     dim=2)\n",
    "        \n",
    "        if min(gb.size()) > 0:  # Only run the column if the input exists\n",
    "            # Convolutions for global view\n",
    "            gb = F.relu(self.conv_5_16_g_a (gb))\n",
    "            gb = F.relu(self.conv_5_16_g_b (gb))\n",
    "            gb = self.pool_5_2(gb)\n",
    "            gb = self.drop(gb)\n",
    "\n",
    "            gb = F.relu(self.conv_5_32_g_a (gb))\n",
    "            gb = F.relu(self.conv_5_32_g_b (gb))\n",
    "            gb = self.pool_5_2(gb)\n",
    "            gb = self.drop(gb)\n",
    "\n",
    "            gb = F.relu(self.conv_5_64_g_a (gb))\n",
    "            gb = F.relu(self.conv_5_64_g_b (gb))\n",
    "            gb = self.pool_5_2(gb)\n",
    "            gb = self.drop(gb)\n",
    "\n",
    "            gb = F.relu(self.conv_5_128_g_a(gb))\n",
    "            gb = F.relu(self.conv_5_128_g_b(gb))\n",
    "            gb = self.pool_5_2(gb)\n",
    "            gb = self.drop(gb)\n",
    "\n",
    "            gb = F.relu(self.conv_5_256_g_a(gb))\n",
    "            gb = F.relu(self.conv_5_256_g_b(gb))\n",
    "            gb = self.pool_5_2(gb)\n",
    "            gb = self.drop(gb)\n",
    "\n",
    "            if self.batchnorm:\n",
    "                gb = self.bn_g(gb)\n",
    "        \n",
    "        gb = torch.flatten(gb, 1, 2)  # Flatten channels and features but NOT batches\n",
    "        \n",
    "        if min(lb.size()) > 0:\n",
    "            # Convolutions for local view\n",
    "            lb = F.relu(self.conv_5_16_l_a (lb))\n",
    "            lb = F.relu(self.conv_5_16_l_b (lb))\n",
    "            lb = self.pool_7_2(lb)    \n",
    "            lb = self.drop(lb)\n",
    "\n",
    "            lb = F.relu(self.conv_5_32_l_a (lb))\n",
    "            lb = F.relu(self.conv_5_32_l_b (lb))\n",
    "            lb = self.pool_7_2(lb)\n",
    "            lb = self.drop(lb)\n",
    "\n",
    "            lb = F.relu(self.conv_5_64_l_a (lb))\n",
    "            lb = F.relu(self.conv_5_64_l_b (lb))\n",
    "            lb = self.pool_7_2(lb)\n",
    "            lb = self.drop(lb)\n",
    "\n",
    "            if self.batchnorm:\n",
    "                lb = self.bn_l(lb)\n",
    "\n",
    "        lb = torch.flatten(lb, 1, 2)\n",
    "            \n",
    "\n",
    "        if min(sb.size()) > 0:\n",
    "            # Convolutions for secondary view\n",
    "            sb = F.relu(self.conv_5_16_s_a (sb))\n",
    "            sb = F.relu(self.conv_5_16_s_b (sb))\n",
    "            sb = self.pool_7_2(sb)\n",
    "            sb = self.drop(sb)\n",
    "\n",
    "            sb = F.relu(self.conv_5_32_l_a (sb))\n",
    "            sb = F.relu(self.conv_5_32_l_b (sb))\n",
    "            sb = self.pool_7_2(sb)\n",
    "            sb = self.drop(sb)\n",
    "\n",
    "            sb = F.relu(self.conv_5_64_l_a (sb))\n",
    "            sb = F.relu(self.conv_5_64_l_b (sb))\n",
    "            sb = self.pool_7_2(sb)\n",
    "            sb = self.drop(sb)\n",
    "\n",
    "            if self.batchnorm:\n",
    "                sb = self.bn_s(sb)\n",
    "        \n",
    "        sb = torch.flatten(sb, 1, 2)\n",
    "                                \n",
    "        # Reshape extra features\n",
    "        eb = torch.flatten(eb, 1, 2)\n",
    "                                \n",
    "        # Concatenate results maintaining batch positioning in first dimension\n",
    "        fb = torch.cat((gb, lb, sb, eb), dim=1)\n",
    "\n",
    "        # Apply fully connected layers\n",
    "        fb = F.relu(self.fc_512_a(fb))\n",
    "        fb = self.drop(fb)\n",
    "        fb = F.relu(self.fc_512_b(fb))\n",
    "        fb = self.drop(fb)\n",
    "        fb = F.relu(self.fc_512_c(fb))\n",
    "        fb = self.drop(fb)\n",
    "        fb = F.relu(self.fc_512_d(fb))\n",
    "\n",
    "        # Output layer\n",
    "        fb = self.fc_out(fb)\n",
    "        \n",
    "        return fb"
   ]
  },
  {
   "cell_type": "markdown",
   "metadata": {
    "colab_type": "text",
    "id": "ize05wMMI5Tw"
   },
   "source": []
  },
  {
   "cell_type": "code",
   "execution_count": 0,
   "metadata": {
    "colab": {},
    "colab_type": "code",
    "id": "v71cMm4xho4Z"
   },
   "outputs": [],
   "source": [
    "def get_model():\n",
    "    model = Test_CNN()\n",
    "    return model, optim.SGD(model.parameters(), lr=lr)"
   ]
  },
  {
   "cell_type": "code",
   "execution_count": 0,
   "metadata": {
    "colab": {},
    "colab_type": "code",
    "id": "Yan04-NLho4b"
   },
   "outputs": [],
   "source": [
    "def loss_batch(model, loss_func, xb, yb, opt=None):\n",
    "    loss = loss_func(model(xb), yb)\n",
    "\n",
    "    # If an optimizer is used, then run as if trianing, otherwise as if testing\n",
    "    if opt is not None:\n",
    "        loss.backward()\n",
    "        opt.step()\n",
    "        opt.zero_grad()\n",
    "\n",
    "    return loss.item(), len(xb)"
   ]
  },
  {
   "cell_type": "code",
   "execution_count": 0,
   "metadata": {
    "colab": {},
    "colab_type": "code",
    "id": "3L4mWUpR3vK1"
   },
   "outputs": [],
   "source": [
    "def acc_batch(model, xb, yb):\n",
    "    max_vals, max_indices = torch.max(model(xb), 1)  # Maximum along output dimension (0 is batch dimension)\n",
    "    accuracy = float((max_indices == yb).sum().float()/len(yb))\n",
    "    return accuracy, len(yb)"
   ]
  },
  {
   "cell_type": "code",
   "execution_count": 0,
   "metadata": {
    "colab": {},
    "colab_type": "code",
    "id": "lRQCYVerho4d"
   },
   "outputs": [],
   "source": [
    "def fit(epochs, model, loss_func, opt, train_dl, test_dl, verbose=True):\n",
    "    # Initialize the lists were progress will be recorded\n",
    "    epoch_record, train_loss_record, test_loss_record, test_acc_record = [], [], [], []\n",
    "    \n",
    "    # For each epoch, train the model over the whole dataset in batches\n",
    "    for epoch in range(epochs):\n",
    "        \n",
    "        # Training\n",
    "        model.train()  # Sets the model to training mode\n",
    "        train_losses, nums = zip(  \n",
    "            *[loss_batch(model, loss_func, xb, yb, opt) for xb, yb in train_dl]\n",
    "            )  # Evaluates the cross entropy for each batch and performs backpropagation and step\n",
    "        train_loss = np.sum(np.multiply(train_losses, nums)) / np.sum(nums)  # Average the individual losses of batches\n",
    "\n",
    "        # Evaluation\n",
    "        model.eval()  # Sets the model to evaluation mode (would activate dropout and batchnorm)\n",
    "        with torch.no_grad():  # This will deactivate the autograd engine and save memory\n",
    "            test_losses, n_loss = zip(\n",
    "                *[loss_batch(model, loss_func, xb, yb) for xb, yb in test_dl]\n",
    "                )  # Evaluates the cross entropy for each test batch, but does not backpropagate\n",
    "            test_accs, n_acc = zip(*[acc_batch(model, xb, yb) for xb, yb in test_dl])  # Calculates accuracy as well\n",
    "            \n",
    "        test_loss = np.sum(np.multiply(test_losses, n_loss)) / np.sum(n_loss)  # Average the individual losses in the batch\n",
    "        test_acc  = np.sum(np.multiply(test_accs,    n_acc)) / np.sum(n_acc )  # Average the individual accuracies in the batch\n",
    "        \n",
    "        # Record results for this epoch\n",
    "        epoch_record.append(epoch)\n",
    "        train_loss_record.append(train_loss)\n",
    "        test_loss_record.append(test_loss)\n",
    "        test_acc_record.append(test_acc)\n",
    "        \n",
    "        # Print results for this epoch\n",
    "        if verbose:\n",
    "            print(f\"Epoch: {(epoch+1):3}    Train loss: {train_loss:7.5f}    Test loss: {test_loss:7.5f}    Test accuracy: {test_acc: 5.3f}\")\n",
    "    \n",
    "    return epoch_record, train_loss_record, test_loss_record, test_acc_record"
   ]
  },
  {
   "cell_type": "code",
   "execution_count": 0,
   "metadata": {
    "colab": {},
    "colab_type": "code",
    "id": "VYBtFnZDho4f"
   },
   "outputs": [],
   "source": [
    "learning_rate = 0.05\n",
    "momentum      = 0.1\n",
    "epochs        = 20\n",
    "dropout       = 0.1\n",
    "batchnorm     = True\n",
    "\n",
    "loss_func = F.cross_entropy\n",
    "#model = AstroNET_v1().to(device)\n",
    "model = ExoplaNET_v1(dropout = dropout,\n",
    "                     batchnorm = batchnorm,\n",
    "                     augment = True\n",
    "                    ).to(device)\n",
    "optimizer = torch.optim.SGD(model.parameters(), lr=learning_rate, momentum=momentum)"
   ]
  },
  {
   "cell_type": "code",
   "execution_count": 266,
   "metadata": {
    "colab": {
     "base_uri": "https://localhost:8080/",
     "height": 357
    },
    "colab_type": "code",
    "id": "YmvVXJh7ho4i",
    "outputId": "e96e5578-a982-4bf1-c355-78025b8c72b3"
   },
   "outputs": [
    {
     "name": "stdout",
     "output_type": "stream",
     "text": [
      "Epoch:   1    Train loss: 0.60215    Test loss: 0.61681    Test accuracy:  0.817\n",
      "Epoch:   2    Train loss: 0.43697    Test loss: 0.32477    Test accuracy:  0.892\n",
      "Epoch:   3    Train loss: 0.31382    Test loss: 0.56552    Test accuracy:  0.761\n",
      "Epoch:   4    Train loss: 0.29257    Test loss: 0.39601    Test accuracy:  0.824\n",
      "Epoch:   5    Train loss: 0.26229    Test loss: 0.31689    Test accuracy:  0.855\n",
      "Epoch:   6    Train loss: 0.23887    Test loss: 0.20789    Test accuracy:  0.929\n",
      "Epoch:   7    Train loss: 0.22842    Test loss: 0.33233    Test accuracy:  0.859\n",
      "Epoch:   8    Train loss: 0.22266    Test loss: 0.20210    Test accuracy:  0.921\n",
      "Epoch:   9    Train loss: 0.21467    Test loss: 0.19428    Test accuracy:  0.924\n",
      "Epoch:  10    Train loss: 0.20585    Test loss: 0.18295    Test accuracy:  0.930\n",
      "Epoch:  11    Train loss: 0.20626    Test loss: 0.21127    Test accuracy:  0.921\n",
      "Epoch:  12    Train loss: 0.20403    Test loss: 0.19393    Test accuracy:  0.932\n",
      "Epoch:  13    Train loss: 0.19629    Test loss: 0.16984    Test accuracy:  0.938\n",
      "Epoch:  14    Train loss: 0.19279    Test loss: 0.18422    Test accuracy:  0.929\n",
      "Epoch:  15    Train loss: 0.19402    Test loss: 0.17595    Test accuracy:  0.930\n",
      "Epoch:  16    Train loss: 0.19419    Test loss: 0.16886    Test accuracy:  0.937\n",
      "Epoch:  17    Train loss: 0.18716    Test loss: 0.16296    Test accuracy:  0.938\n",
      "Epoch:  18    Train loss: 0.18409    Test loss: 0.26428    Test accuracy:  0.892\n",
      "Epoch:  19    Train loss: 0.18647    Test loss: 0.15497    Test accuracy:  0.940\n",
      "Epoch:  20    Train loss: 0.18624    Test loss: 0.16774    Test accuracy:  0.938\n"
     ]
    }
   ],
   "source": [
    "# Train the model and record the progress at each epoch\n",
    "epoch_record, train_loss_record, test_loss_record, test_acc_record = fit(\n",
    "    epochs, model, loss_func, optimizer, train_dl, test_dl)"
   ]
  },
  {
   "cell_type": "code",
   "execution_count": 267,
   "metadata": {
    "colab": {
     "base_uri": "https://localhost:8080/",
     "height": 367
    },
    "colab_type": "code",
    "id": "Klsj100t3vK-",
    "outputId": "ed18902e-8839-4b0d-cc0c-e9107b803591"
   },
   "outputs": [
    {
     "data": {
      "application/javascript": [
       "\n",
       "(function(root) {\n",
       "  function now() {\n",
       "    return new Date();\n",
       "  }\n",
       "\n",
       "  var force = true;\n",
       "\n",
       "  if (typeof (root._bokeh_onload_callbacks) === \"undefined\" || force === true) {\n",
       "    root._bokeh_onload_callbacks = [];\n",
       "    root._bokeh_is_loading = undefined;\n",
       "  }\n",
       "\n",
       "  var JS_MIME_TYPE = 'application/javascript';\n",
       "  var HTML_MIME_TYPE = 'text/html';\n",
       "  var EXEC_MIME_TYPE = 'application/vnd.bokehjs_exec.v0+json';\n",
       "  var CLASS_NAME = 'output_bokeh rendered_html';\n",
       "\n",
       "  /**\n",
       "   * Render data to the DOM node\n",
       "   */\n",
       "  function render(props, node) {\n",
       "    var script = document.createElement(\"script\");\n",
       "    node.appendChild(script);\n",
       "  }\n",
       "\n",
       "  /**\n",
       "   * Handle when an output is cleared or removed\n",
       "   */\n",
       "  function handleClearOutput(event, handle) {\n",
       "    var cell = handle.cell;\n",
       "\n",
       "    var id = cell.output_area._bokeh_element_id;\n",
       "    var server_id = cell.output_area._bokeh_server_id;\n",
       "    // Clean up Bokeh references\n",
       "    if (id != null && id in Bokeh.index) {\n",
       "      Bokeh.index[id].model.document.clear();\n",
       "      delete Bokeh.index[id];\n",
       "    }\n",
       "\n",
       "    if (server_id !== undefined) {\n",
       "      // Clean up Bokeh references\n",
       "      var cmd = \"from bokeh.io.state import curstate; print(curstate().uuid_to_server['\" + server_id + \"'].get_sessions()[0].document.roots[0]._id)\";\n",
       "      cell.notebook.kernel.execute(cmd, {\n",
       "        iopub: {\n",
       "          output: function(msg) {\n",
       "            var id = msg.content.text.trim();\n",
       "            if (id in Bokeh.index) {\n",
       "              Bokeh.index[id].model.document.clear();\n",
       "              delete Bokeh.index[id];\n",
       "            }\n",
       "          }\n",
       "        }\n",
       "      });\n",
       "      // Destroy server and session\n",
       "      var cmd = \"import bokeh.io.notebook as ion; ion.destroy_server('\" + server_id + \"')\";\n",
       "      cell.notebook.kernel.execute(cmd);\n",
       "    }\n",
       "  }\n",
       "\n",
       "  /**\n",
       "   * Handle when a new output is added\n",
       "   */\n",
       "  function handleAddOutput(event, handle) {\n",
       "    var output_area = handle.output_area;\n",
       "    var output = handle.output;\n",
       "\n",
       "    // limit handleAddOutput to display_data with EXEC_MIME_TYPE content only\n",
       "    if ((output.output_type != \"display_data\") || (!output.data.hasOwnProperty(EXEC_MIME_TYPE))) {\n",
       "      return\n",
       "    }\n",
       "\n",
       "    var toinsert = output_area.element.find(\".\" + CLASS_NAME.split(' ')[0]);\n",
       "\n",
       "    if (output.metadata[EXEC_MIME_TYPE][\"id\"] !== undefined) {\n",
       "      toinsert[toinsert.length - 1].firstChild.textContent = output.data[JS_MIME_TYPE];\n",
       "      // store reference to embed id on output_area\n",
       "      output_area._bokeh_element_id = output.metadata[EXEC_MIME_TYPE][\"id\"];\n",
       "    }\n",
       "    if (output.metadata[EXEC_MIME_TYPE][\"server_id\"] !== undefined) {\n",
       "      var bk_div = document.createElement(\"div\");\n",
       "      bk_div.innerHTML = output.data[HTML_MIME_TYPE];\n",
       "      var script_attrs = bk_div.children[0].attributes;\n",
       "      for (var i = 0; i < script_attrs.length; i++) {\n",
       "        toinsert[toinsert.length - 1].firstChild.setAttribute(script_attrs[i].name, script_attrs[i].value);\n",
       "      }\n",
       "      // store reference to server id on output_area\n",
       "      output_area._bokeh_server_id = output.metadata[EXEC_MIME_TYPE][\"server_id\"];\n",
       "    }\n",
       "  }\n",
       "\n",
       "  function register_renderer(events, OutputArea) {\n",
       "\n",
       "    function append_mime(data, metadata, element) {\n",
       "      // create a DOM node to render to\n",
       "      var toinsert = this.create_output_subarea(\n",
       "        metadata,\n",
       "        CLASS_NAME,\n",
       "        EXEC_MIME_TYPE\n",
       "      );\n",
       "      this.keyboard_manager.register_events(toinsert);\n",
       "      // Render to node\n",
       "      var props = {data: data, metadata: metadata[EXEC_MIME_TYPE]};\n",
       "      render(props, toinsert[toinsert.length - 1]);\n",
       "      element.append(toinsert);\n",
       "      return toinsert\n",
       "    }\n",
       "\n",
       "    /* Handle when an output is cleared or removed */\n",
       "    events.on('clear_output.CodeCell', handleClearOutput);\n",
       "    events.on('delete.Cell', handleClearOutput);\n",
       "\n",
       "    /* Handle when a new output is added */\n",
       "    events.on('output_added.OutputArea', handleAddOutput);\n",
       "\n",
       "    /**\n",
       "     * Register the mime type and append_mime function with output_area\n",
       "     */\n",
       "    OutputArea.prototype.register_mime_type(EXEC_MIME_TYPE, append_mime, {\n",
       "      /* Is output safe? */\n",
       "      safe: true,\n",
       "      /* Index of renderer in `output_area.display_order` */\n",
       "      index: 0\n",
       "    });\n",
       "  }\n",
       "\n",
       "  // register the mime type if in Jupyter Notebook environment and previously unregistered\n",
       "  if (root.Jupyter !== undefined) {\n",
       "    var events = require('base/js/events');\n",
       "    var OutputArea = require('notebook/js/outputarea').OutputArea;\n",
       "\n",
       "    if (OutputArea.prototype.mime_types().indexOf(EXEC_MIME_TYPE) == -1) {\n",
       "      register_renderer(events, OutputArea);\n",
       "    }\n",
       "  }\n",
       "\n",
       "  \n",
       "  if (typeof (root._bokeh_timeout) === \"undefined\" || force === true) {\n",
       "    root._bokeh_timeout = Date.now() + 5000;\n",
       "    root._bokeh_failed_load = false;\n",
       "  }\n",
       "\n",
       "  var NB_LOAD_WARNING = {'data': {'text/html':\n",
       "     \"<div style='background-color: #fdd'>\\n\"+\n",
       "     \"<p>\\n\"+\n",
       "     \"BokehJS does not appear to have successfully loaded. If loading BokehJS from CDN, this \\n\"+\n",
       "     \"may be due to a slow or bad network connection. Possible fixes:\\n\"+\n",
       "     \"</p>\\n\"+\n",
       "     \"<ul>\\n\"+\n",
       "     \"<li>re-rerun `output_notebook()` to attempt to load from CDN again, or</li>\\n\"+\n",
       "     \"<li>use INLINE resources instead, as so:</li>\\n\"+\n",
       "     \"</ul>\\n\"+\n",
       "     \"<code>\\n\"+\n",
       "     \"from bokeh.resources import INLINE\\n\"+\n",
       "     \"output_notebook(resources=INLINE)\\n\"+\n",
       "     \"</code>\\n\"+\n",
       "     \"</div>\"}};\n",
       "\n",
       "  function display_loaded() {\n",
       "    var el = document.getElementById(null);\n",
       "    if (el != null) {\n",
       "      el.textContent = \"BokehJS is loading...\";\n",
       "    }\n",
       "    if (root.Bokeh !== undefined) {\n",
       "      if (el != null) {\n",
       "        el.textContent = \"BokehJS \" + root.Bokeh.version + \" successfully loaded.\";\n",
       "      }\n",
       "    } else if (Date.now() < root._bokeh_timeout) {\n",
       "      setTimeout(display_loaded, 100)\n",
       "    }\n",
       "  }\n",
       "\n",
       "\n",
       "  function run_callbacks() {\n",
       "    try {\n",
       "      root._bokeh_onload_callbacks.forEach(function(callback) { callback() });\n",
       "    }\n",
       "    finally {\n",
       "      delete root._bokeh_onload_callbacks\n",
       "    }\n",
       "    console.info(\"Bokeh: all callbacks have finished\");\n",
       "  }\n",
       "\n",
       "  function load_libs(js_urls, callback) {\n",
       "    root._bokeh_onload_callbacks.push(callback);\n",
       "    if (root._bokeh_is_loading > 0) {\n",
       "      console.log(\"Bokeh: BokehJS is being loaded, scheduling callback at\", now());\n",
       "      return null;\n",
       "    }\n",
       "    if (js_urls == null || js_urls.length === 0) {\n",
       "      run_callbacks();\n",
       "      return null;\n",
       "    }\n",
       "    console.log(\"Bokeh: BokehJS not loaded, scheduling load and callback at\", now());\n",
       "    root._bokeh_is_loading = js_urls.length;\n",
       "    for (var i = 0; i < js_urls.length; i++) {\n",
       "      var url = js_urls[i];\n",
       "      var s = document.createElement('script');\n",
       "      s.src = url;\n",
       "      s.async = false;\n",
       "      s.onreadystatechange = s.onload = function() {\n",
       "        root._bokeh_is_loading--;\n",
       "        if (root._bokeh_is_loading === 0) {\n",
       "          console.log(\"Bokeh: all BokehJS libraries loaded\");\n",
       "          run_callbacks()\n",
       "        }\n",
       "      };\n",
       "      s.onerror = function() {\n",
       "        console.warn(\"failed to load library \" + url);\n",
       "      };\n",
       "      console.log(\"Bokeh: injecting script tag for BokehJS library: \", url);\n",
       "      document.getElementsByTagName(\"head\")[0].appendChild(s);\n",
       "    }\n",
       "  };\n",
       "\n",
       "  var js_urls = [\"https://cdn.pydata.org/bokeh/release/bokeh-1.0.4.min.js\", \"https://cdn.pydata.org/bokeh/release/bokeh-widgets-1.0.4.min.js\", \"https://cdn.pydata.org/bokeh/release/bokeh-tables-1.0.4.min.js\", \"https://cdn.pydata.org/bokeh/release/bokeh-gl-1.0.4.min.js\"];\n",
       "\n",
       "  var inline_js = [\n",
       "    function(Bokeh) {\n",
       "      Bokeh.set_log_level(\"info\");\n",
       "    },\n",
       "    \n",
       "    function(Bokeh) {\n",
       "      \n",
       "    },\n",
       "    function(Bokeh) {\n",
       "      console.log(\"Bokeh: injecting CSS: https://cdn.pydata.org/bokeh/release/bokeh-1.0.4.min.css\");\n",
       "      Bokeh.embed.inject_css(\"https://cdn.pydata.org/bokeh/release/bokeh-1.0.4.min.css\");\n",
       "      console.log(\"Bokeh: injecting CSS: https://cdn.pydata.org/bokeh/release/bokeh-widgets-1.0.4.min.css\");\n",
       "      Bokeh.embed.inject_css(\"https://cdn.pydata.org/bokeh/release/bokeh-widgets-1.0.4.min.css\");\n",
       "      console.log(\"Bokeh: injecting CSS: https://cdn.pydata.org/bokeh/release/bokeh-tables-1.0.4.min.css\");\n",
       "      Bokeh.embed.inject_css(\"https://cdn.pydata.org/bokeh/release/bokeh-tables-1.0.4.min.css\");\n",
       "    }\n",
       "  ];\n",
       "\n",
       "  function run_inline_js() {\n",
       "    \n",
       "    if ((root.Bokeh !== undefined) || (force === true)) {\n",
       "      for (var i = 0; i < inline_js.length; i++) {\n",
       "        inline_js[i].call(root, root.Bokeh);\n",
       "      }} else if (Date.now() < root._bokeh_timeout) {\n",
       "      setTimeout(run_inline_js, 100);\n",
       "    } else if (!root._bokeh_failed_load) {\n",
       "      console.log(\"Bokeh: BokehJS failed to load within specified timeout.\");\n",
       "      root._bokeh_failed_load = true;\n",
       "    } else if (force !== true) {\n",
       "      var cell = $(document.getElementById(null)).parents('.cell').data().cell;\n",
       "      cell.output_area.append_execute_result(NB_LOAD_WARNING)\n",
       "    }\n",
       "\n",
       "  }\n",
       "\n",
       "  if (root._bokeh_is_loading === 0) {\n",
       "    console.log(\"Bokeh: BokehJS loaded, going straight to plotting\");\n",
       "    run_inline_js();\n",
       "  } else {\n",
       "    load_libs(js_urls, function() {\n",
       "      console.log(\"Bokeh: BokehJS plotting callback run at\", now());\n",
       "      run_inline_js();\n",
       "    });\n",
       "  }\n",
       "}(window));"
      ],
      "application/vnd.bokehjs_load.v0+json": "\n(function(root) {\n  function now() {\n    return new Date();\n  }\n\n  var force = true;\n\n  if (typeof (root._bokeh_onload_callbacks) === \"undefined\" || force === true) {\n    root._bokeh_onload_callbacks = [];\n    root._bokeh_is_loading = undefined;\n  }\n\n  \n\n  \n  if (typeof (root._bokeh_timeout) === \"undefined\" || force === true) {\n    root._bokeh_timeout = Date.now() + 5000;\n    root._bokeh_failed_load = false;\n  }\n\n  var NB_LOAD_WARNING = {'data': {'text/html':\n     \"<div style='background-color: #fdd'>\\n\"+\n     \"<p>\\n\"+\n     \"BokehJS does not appear to have successfully loaded. If loading BokehJS from CDN, this \\n\"+\n     \"may be due to a slow or bad network connection. Possible fixes:\\n\"+\n     \"</p>\\n\"+\n     \"<ul>\\n\"+\n     \"<li>re-rerun `output_notebook()` to attempt to load from CDN again, or</li>\\n\"+\n     \"<li>use INLINE resources instead, as so:</li>\\n\"+\n     \"</ul>\\n\"+\n     \"<code>\\n\"+\n     \"from bokeh.resources import INLINE\\n\"+\n     \"output_notebook(resources=INLINE)\\n\"+\n     \"</code>\\n\"+\n     \"</div>\"}};\n\n  function display_loaded() {\n    var el = document.getElementById(null);\n    if (el != null) {\n      el.textContent = \"BokehJS is loading...\";\n    }\n    if (root.Bokeh !== undefined) {\n      if (el != null) {\n        el.textContent = \"BokehJS \" + root.Bokeh.version + \" successfully loaded.\";\n      }\n    } else if (Date.now() < root._bokeh_timeout) {\n      setTimeout(display_loaded, 100)\n    }\n  }\n\n\n  function run_callbacks() {\n    try {\n      root._bokeh_onload_callbacks.forEach(function(callback) { callback() });\n    }\n    finally {\n      delete root._bokeh_onload_callbacks\n    }\n    console.info(\"Bokeh: all callbacks have finished\");\n  }\n\n  function load_libs(js_urls, callback) {\n    root._bokeh_onload_callbacks.push(callback);\n    if (root._bokeh_is_loading > 0) {\n      console.log(\"Bokeh: BokehJS is being loaded, scheduling callback at\", now());\n      return null;\n    }\n    if (js_urls == null || js_urls.length === 0) {\n      run_callbacks();\n      return null;\n    }\n    console.log(\"Bokeh: BokehJS not loaded, scheduling load and callback at\", now());\n    root._bokeh_is_loading = js_urls.length;\n    for (var i = 0; i < js_urls.length; i++) {\n      var url = js_urls[i];\n      var s = document.createElement('script');\n      s.src = url;\n      s.async = false;\n      s.onreadystatechange = s.onload = function() {\n        root._bokeh_is_loading--;\n        if (root._bokeh_is_loading === 0) {\n          console.log(\"Bokeh: all BokehJS libraries loaded\");\n          run_callbacks()\n        }\n      };\n      s.onerror = function() {\n        console.warn(\"failed to load library \" + url);\n      };\n      console.log(\"Bokeh: injecting script tag for BokehJS library: \", url);\n      document.getElementsByTagName(\"head\")[0].appendChild(s);\n    }\n  };\n\n  var js_urls = [\"https://cdn.pydata.org/bokeh/release/bokeh-1.0.4.min.js\", \"https://cdn.pydata.org/bokeh/release/bokeh-widgets-1.0.4.min.js\", \"https://cdn.pydata.org/bokeh/release/bokeh-tables-1.0.4.min.js\", \"https://cdn.pydata.org/bokeh/release/bokeh-gl-1.0.4.min.js\"];\n\n  var inline_js = [\n    function(Bokeh) {\n      Bokeh.set_log_level(\"info\");\n    },\n    \n    function(Bokeh) {\n      \n    },\n    function(Bokeh) {\n      console.log(\"Bokeh: injecting CSS: https://cdn.pydata.org/bokeh/release/bokeh-1.0.4.min.css\");\n      Bokeh.embed.inject_css(\"https://cdn.pydata.org/bokeh/release/bokeh-1.0.4.min.css\");\n      console.log(\"Bokeh: injecting CSS: https://cdn.pydata.org/bokeh/release/bokeh-widgets-1.0.4.min.css\");\n      Bokeh.embed.inject_css(\"https://cdn.pydata.org/bokeh/release/bokeh-widgets-1.0.4.min.css\");\n      console.log(\"Bokeh: injecting CSS: https://cdn.pydata.org/bokeh/release/bokeh-tables-1.0.4.min.css\");\n      Bokeh.embed.inject_css(\"https://cdn.pydata.org/bokeh/release/bokeh-tables-1.0.4.min.css\");\n    }\n  ];\n\n  function run_inline_js() {\n    \n    if ((root.Bokeh !== undefined) || (force === true)) {\n      for (var i = 0; i < inline_js.length; i++) {\n        inline_js[i].call(root, root.Bokeh);\n      }} else if (Date.now() < root._bokeh_timeout) {\n      setTimeout(run_inline_js, 100);\n    } else if (!root._bokeh_failed_load) {\n      console.log(\"Bokeh: BokehJS failed to load within specified timeout.\");\n      root._bokeh_failed_load = true;\n    } else if (force !== true) {\n      var cell = $(document.getElementById(null)).parents('.cell').data().cell;\n      cell.output_area.append_execute_result(NB_LOAD_WARNING)\n    }\n\n  }\n\n  if (root._bokeh_is_loading === 0) {\n    console.log(\"Bokeh: BokehJS loaded, going straight to plotting\");\n    run_inline_js();\n  } else {\n    load_libs(js_urls, function() {\n      console.log(\"Bokeh: BokehJS plotting callback run at\", now());\n      run_inline_js();\n    });\n  }\n}(window));"
     },
     "metadata": {
      "tags": []
     },
     "output_type": "display_data"
    },
    {
     "data": {
      "text/html": [
       "\n",
       "\n",
       "\n",
       "\n",
       "\n",
       "\n",
       "  <div class=\"bk-root\" id=\"73763c28-20ae-4d6d-bf07-02e7b8e44da9\" data-root-id=\"8904\"></div>\n"
      ]
     },
     "metadata": {
      "tags": []
     },
     "output_type": "display_data"
    },
    {
     "data": {
      "application/javascript": [
       "(function(root) {\n",
       "  function embed_document(root) {\n",
       "    \n",
       "  var docs_json = {\"2167199a-9611-4c46-bf36-bc9cbde11337\":{\"roots\":{\"references\":[{\"attributes\":{\"below\":[{\"id\":\"8913\",\"type\":\"LinearAxis\"}],\"left\":[{\"id\":\"8918\",\"type\":\"LinearAxis\"}],\"plot_height\":350,\"plot_width\":800,\"renderers\":[{\"id\":\"8913\",\"type\":\"LinearAxis\"},{\"id\":\"8917\",\"type\":\"Grid\"},{\"id\":\"8918\",\"type\":\"LinearAxis\"},{\"id\":\"8922\",\"type\":\"Grid\"},{\"id\":\"8931\",\"type\":\"BoxAnnotation\"},{\"id\":\"8941\",\"type\":\"GlyphRenderer\"},{\"id\":\"8946\",\"type\":\"GlyphRenderer\"},{\"id\":\"8951\",\"type\":\"GlyphRenderer\"}],\"title\":{\"id\":\"9260\",\"type\":\"Title\"},\"toolbar\":{\"id\":\"8929\",\"type\":\"Toolbar\"},\"x_range\":{\"id\":\"8905\",\"type\":\"DataRange1d\"},\"x_scale\":{\"id\":\"8909\",\"type\":\"LinearScale\"},\"y_range\":{\"id\":\"8907\",\"type\":\"DataRange1d\"},\"y_scale\":{\"id\":\"8911\",\"type\":\"LinearScale\"}},\"id\":\"8904\",\"subtype\":\"Figure\",\"type\":\"Plot\"},{\"attributes\":{},\"id\":\"9266\",\"type\":\"UnionRenderers\"},{\"attributes\":{\"callback\":null},\"id\":\"8905\",\"type\":\"DataRange1d\"},{\"attributes\":{},\"id\":\"8928\",\"type\":\"HelpTool\"},{\"attributes\":{},\"id\":\"9267\",\"type\":\"Selection\"},{\"attributes\":{\"axis_label\":\"Epoch\",\"formatter\":{\"id\":\"9263\",\"type\":\"BasicTickFormatter\"},\"plot\":{\"id\":\"8904\",\"subtype\":\"Figure\",\"type\":\"Plot\"},\"ticker\":{\"id\":\"8914\",\"type\":\"BasicTicker\"}},\"id\":\"8913\",\"type\":\"LinearAxis\"},{\"attributes\":{},\"id\":\"8927\",\"type\":\"ResetTool\"},{\"attributes\":{},\"id\":\"9268\",\"type\":\"UnionRenderers\"},{\"attributes\":{\"bottom_units\":\"screen\",\"fill_alpha\":{\"value\":0.5},\"fill_color\":{\"value\":\"lightgrey\"},\"left_units\":\"screen\",\"level\":\"overlay\",\"line_alpha\":{\"value\":1.0},\"line_color\":{\"value\":\"black\"},\"line_dash\":[4,4],\"line_width\":{\"value\":2},\"plot\":null,\"render_mode\":\"css\",\"right_units\":\"screen\",\"top_units\":\"screen\"},\"id\":\"8931\",\"type\":\"BoxAnnotation\"},{\"attributes\":{},\"id\":\"8911\",\"type\":\"LinearScale\"},{\"attributes\":{\"line_alpha\":0.8,\"line_color\":\"green\",\"line_width\":2,\"x\":{\"field\":\"x\"},\"y\":{\"field\":\"y\"}},\"id\":\"8949\",\"type\":\"Line\"},{\"attributes\":{},\"id\":\"9269\",\"type\":\"Selection\"},{\"attributes\":{\"callback\":null},\"id\":\"8907\",\"type\":\"DataRange1d\"},{\"attributes\":{\"source\":{\"id\":\"8938\",\"type\":\"ColumnDataSource\"}},\"id\":\"8942\",\"type\":\"CDSView\"},{\"attributes\":{},\"id\":\"8909\",\"type\":\"LinearScale\"},{\"attributes\":{},\"id\":\"9270\",\"type\":\"UnionRenderers\"},{\"attributes\":{},\"id\":\"9271\",\"type\":\"Selection\"},{\"attributes\":{\"axis_label\":\"Cross-entropy loss\",\"formatter\":{\"id\":\"9265\",\"type\":\"BasicTickFormatter\"},\"plot\":{\"id\":\"8904\",\"subtype\":\"Figure\",\"type\":\"Plot\"},\"ticker\":{\"id\":\"8919\",\"type\":\"BasicTicker\"}},\"id\":\"8918\",\"type\":\"LinearAxis\"},{\"attributes\":{\"line_alpha\":0.8,\"line_color\":\"orange\",\"line_width\":2,\"x\":{\"field\":\"x\"},\"y\":{\"field\":\"y\"}},\"id\":\"8944\",\"type\":\"Line\"},{\"attributes\":{\"plot\":{\"id\":\"8904\",\"subtype\":\"Figure\",\"type\":\"Plot\"},\"ticker\":{\"id\":\"8914\",\"type\":\"BasicTicker\"}},\"id\":\"8917\",\"type\":\"Grid\"},{\"attributes\":{\"source\":{\"id\":\"8943\",\"type\":\"ColumnDataSource\"}},\"id\":\"8947\",\"type\":\"CDSView\"},{\"attributes\":{\"callback\":null,\"data\":{\"x\":[0,1,2,3,4,5,6,7,8,9,10,11,12,13,14,15,16,17,18,19],\"y\":[0.8172874027209975,0.8924806541903959,0.7610681415944559,0.8236120744482028,0.8552353977319311,0.9290231780442904,0.8594518393089632,0.9205902889423276,0.924103988532189,0.930428657076012,0.9212930284581885,0.9318341423069517,0.9381588029760922,0.9290231765363725,0.9304286528873511,0.9374560624549528,0.9381587977821527,0.8924806536877565,0.9395642903851357,0.9381588061594746]},\"selected\":{\"id\":\"9271\",\"type\":\"Selection\"},\"selection_policy\":{\"id\":\"9270\",\"type\":\"UnionRenderers\"}},\"id\":\"8948\",\"type\":\"ColumnDataSource\"},{\"attributes\":{\"data_source\":{\"id\":\"8943\",\"type\":\"ColumnDataSource\"},\"glyph\":{\"id\":\"8944\",\"type\":\"Line\"},\"hover_glyph\":null,\"muted_glyph\":null,\"name\":\"Training Loss\",\"nonselection_glyph\":{\"id\":\"8945\",\"type\":\"Line\"},\"selection_glyph\":null,\"view\":{\"id\":\"8947\",\"type\":\"CDSView\"}},\"id\":\"8946\",\"type\":\"GlyphRenderer\"},{\"attributes\":{\"callback\":null,\"data\":{\"x\":[0,1,2,3,4,5,6,7,8,9,10,11,12,13,14,15,16,17,18,19],\"y\":[0.602151179229878,0.43697143815846806,0.313821172738171,0.2925701599762622,0.2622940319938114,0.23887084243467535,0.228423905839403,0.22266096393596455,0.21466812075500985,0.20585273708923754,0.20626467476079025,0.20403054210705213,0.19628817487852163,0.19278902658467073,0.19402426852279878,0.19418512748546868,0.18715659176639046,0.18408857094475542,0.18647294430189343,0.18623789897315712]},\"selected\":{\"id\":\"9269\",\"type\":\"Selection\"},\"selection_policy\":{\"id\":\"9268\",\"type\":\"UnionRenderers\"}},\"id\":\"8943\",\"type\":\"ColumnDataSource\"},{\"attributes\":{\"line_alpha\":0.1,\"line_color\":\"#1f77b4\",\"line_width\":2,\"x\":{\"field\":\"x\"},\"y\":{\"field\":\"y\"}},\"id\":\"8945\",\"type\":\"Line\"},{\"attributes\":{},\"id\":\"8919\",\"type\":\"BasicTicker\"},{\"attributes\":{\"plot\":null,\"text\":\"\"},\"id\":\"9260\",\"type\":\"Title\"},{\"attributes\":{},\"id\":\"8914\",\"type\":\"BasicTicker\"},{\"attributes\":{\"line_alpha\":0.8,\"line_color\":\"blue\",\"line_width\":2,\"x\":{\"field\":\"x\"},\"y\":{\"field\":\"y\"}},\"id\":\"8939\",\"type\":\"Line\"},{\"attributes\":{\"data_source\":{\"id\":\"8948\",\"type\":\"ColumnDataSource\"},\"glyph\":{\"id\":\"8949\",\"type\":\"Line\"},\"hover_glyph\":null,\"muted_glyph\":null,\"name\":\"Accuracy\",\"nonselection_glyph\":{\"id\":\"8950\",\"type\":\"Line\"},\"selection_glyph\":null,\"view\":{\"id\":\"8952\",\"type\":\"CDSView\"}},\"id\":\"8951\",\"type\":\"GlyphRenderer\"},{\"attributes\":{\"line_alpha\":0.1,\"line_color\":\"#1f77b4\",\"line_width\":2,\"x\":{\"field\":\"x\"},\"y\":{\"field\":\"y\"}},\"id\":\"8940\",\"type\":\"Line\"},{\"attributes\":{\"line_alpha\":0.1,\"line_color\":\"#1f77b4\",\"line_width\":2,\"x\":{\"field\":\"x\"},\"y\":{\"field\":\"y\"}},\"id\":\"8950\",\"type\":\"Line\"},{\"attributes\":{\"dimension\":1,\"plot\":{\"id\":\"8904\",\"subtype\":\"Figure\",\"type\":\"Plot\"},\"ticker\":{\"id\":\"8919\",\"type\":\"BasicTicker\"}},\"id\":\"8922\",\"type\":\"Grid\"},{\"attributes\":{\"source\":{\"id\":\"8948\",\"type\":\"ColumnDataSource\"}},\"id\":\"8952\",\"type\":\"CDSView\"},{\"attributes\":{\"active_drag\":\"auto\",\"active_inspect\":\"auto\",\"active_multi\":null,\"active_scroll\":\"auto\",\"active_tap\":\"auto\",\"tools\":[{\"id\":\"8923\",\"type\":\"PanTool\"},{\"id\":\"8924\",\"type\":\"WheelZoomTool\"},{\"id\":\"8925\",\"type\":\"BoxZoomTool\"},{\"id\":\"8926\",\"type\":\"SaveTool\"},{\"id\":\"8927\",\"type\":\"ResetTool\"},{\"id\":\"8928\",\"type\":\"HelpTool\"}]},\"id\":\"8929\",\"type\":\"Toolbar\"},{\"attributes\":{\"overlay\":{\"id\":\"8931\",\"type\":\"BoxAnnotation\"}},\"id\":\"8925\",\"type\":\"BoxZoomTool\"},{\"attributes\":{\"callback\":null,\"data\":{\"x\":[0,1,2,3,4,5,6,7,8,9,10,11,12,13,14,15,16,17,18,19],\"y\":[0.6168123801996066,0.3247656673507128,0.5655220523319526,0.3960131452440462,0.3168870624906147,0.20789006042463715,0.3323318965193761,0.20210373896950998,0.19428250742310466,0.18294654074514408,0.21127337211047942,0.1939348863072573,0.16984387079302224,0.1842193567493141,0.17595384310268636,0.16886113710748588,0.1629566696543804,0.26428251882631515,0.15496788235173123,0.16774293363555082]},\"selected\":{\"id\":\"9267\",\"type\":\"Selection\"},\"selection_policy\":{\"id\":\"9266\",\"type\":\"UnionRenderers\"}},\"id\":\"8938\",\"type\":\"ColumnDataSource\"},{\"attributes\":{},\"id\":\"8923\",\"type\":\"PanTool\"},{\"attributes\":{},\"id\":\"8924\",\"type\":\"WheelZoomTool\"},{\"attributes\":{},\"id\":\"9263\",\"type\":\"BasicTickFormatter\"},{\"attributes\":{\"data_source\":{\"id\":\"8938\",\"type\":\"ColumnDataSource\"},\"glyph\":{\"id\":\"8939\",\"type\":\"Line\"},\"hover_glyph\":null,\"muted_glyph\":null,\"name\":\"Test Loss\",\"nonselection_glyph\":{\"id\":\"8940\",\"type\":\"Line\"},\"selection_glyph\":null,\"view\":{\"id\":\"8942\",\"type\":\"CDSView\"}},\"id\":\"8941\",\"type\":\"GlyphRenderer\"},{\"attributes\":{},\"id\":\"9265\",\"type\":\"BasicTickFormatter\"},{\"attributes\":{},\"id\":\"8926\",\"type\":\"SaveTool\"}],\"root_ids\":[\"8904\"]},\"title\":\"Bokeh Application\",\"version\":\"1.0.4\"}};\n",
       "  var render_items = [{\"docid\":\"2167199a-9611-4c46-bf36-bc9cbde11337\",\"roots\":{\"8904\":\"73763c28-20ae-4d6d-bf07-02e7b8e44da9\"}}];\n",
       "  root.Bokeh.embed.embed_items_notebook(docs_json, render_items);\n",
       "\n",
       "  }\n",
       "  if (root.Bokeh !== undefined) {\n",
       "    embed_document(root);\n",
       "  } else {\n",
       "    var attempts = 0;\n",
       "    var timer = setInterval(function(root) {\n",
       "      if (root.Bokeh !== undefined) {\n",
       "        embed_document(root);\n",
       "        clearInterval(timer);\n",
       "      }\n",
       "      attempts++;\n",
       "      if (attempts > 100) {\n",
       "        console.log(\"Bokeh: ERROR: Unable to run BokehJS code because BokehJS library is missing\");\n",
       "        clearInterval(timer);\n",
       "      }\n",
       "    }, 10, root)\n",
       "  }\n",
       "})(window);"
      ],
      "application/vnd.bokehjs_exec.v0+json": ""
     },
     "metadata": {
      "application/vnd.bokehjs_exec.v0+json": {
       "id": "8904"
      },
      "tags": []
     },
     "output_type": "display_data"
    }
   ],
   "source": [
    "output_notebook()\n",
    "loss_plot = figure(x_axis_label=(\"Epoch\"), \n",
    "                   y_axis_label=(\"Cross-entropy loss\"), \n",
    "                   plot_width=800, plot_height=350)\n",
    "loss_plot.line(\n",
    "    x=epoch_record, \n",
    "    y=test_loss_record,\n",
    "    color=\"blue\",\n",
    "    line_width=2, alpha=0.8, name=\"Test Loss\"\n",
    "               )\n",
    "loss_plot.line(\n",
    "    x=epoch_record, \n",
    "    y=list(train_loss_record),\n",
    "    color=\"orange\",\n",
    "    line_width=2, alpha=0.8, name=\"Training Loss\"\n",
    "               )\n",
    "\n",
    "loss_plot.line(\n",
    "    x=epoch_record, \n",
    "    y=list(test_acc_record),\n",
    "    color=\"green\",\n",
    "    line_width=2, alpha=0.8, name=\"Accuracy\"\n",
    "               )\n",
    "\n",
    "show(loss_plot)"
   ]
  },
  {
   "cell_type": "code",
   "execution_count": 268,
   "metadata": {
    "colab": {
     "base_uri": "https://localhost:8080/",
     "height": 51
    },
    "colab_type": "code",
    "id": "CQeiRiQL3vLB",
    "outputId": "e66af7b1-1591-4085-89f1-fb92b4bec2ba"
   },
   "outputs": [
    {
     "name": "stdout",
     "output_type": "stream",
     "text": [
      "Validation cross entropy loss: 0.16045028616984686\n",
      "Validation accuracy: 0.9386666417121887\n"
     ]
    }
   ],
   "source": [
    "valid_dl = DataLoader(val_dataset, batch_size=50)\n",
    "\n",
    "val_losses = [loss_batch(model, loss_func, xb, yb, opt=None)[0] for xb, yb in valid_dl]\n",
    "val_accurs = [acc_batch(model, xb, yb)[0] for xb, yb in valid_dl]\n",
    "print(f\"Validation cross entropy loss: {sum(val_losses)/len(val_losses)}\")\n",
    "print(f\"Validation accuracy: {sum(val_accurs)/len(val_accurs)}\")"
   ]
  },
  {
   "cell_type": "code",
   "execution_count": 0,
   "metadata": {
    "colab": {},
    "colab_type": "code",
    "id": "JBPsS8fk3vLG"
   },
   "outputs": [],
   "source": [
    "from scipy.special import softmax\n",
    "\n",
    "valid_dl = DataLoader(val_dataset, batch_size=1)\n",
    "val_results, val_labes = [], []\n",
    "for xb, yb in valid_dl:\n",
    "    val_results.append(softmax(model(xb).cpu().detach().numpy()))\n",
    "    val_labes.append(yb.cpu().detach().numpy())\n",
    "val_results = np.concatenate(val_results)[:, 1]\n",
    "val_labels   = np.concatenate(val_labes)\n",
    "\n",
    "val_asig = np.stack([val_results, val_labels], axis=1)"
   ]
  },
  {
   "cell_type": "code",
   "execution_count": 0,
   "metadata": {
    "colab": {},
    "colab_type": "code",
    "id": "vuVWmJNQ3vLK"
   },
   "outputs": [],
   "source": [
    "val_diff = np.abs(val_asig[:, 0] - val_asig[:, 1])"
   ]
  },
  {
   "cell_type": "code",
   "execution_count": 271,
   "metadata": {
    "colab": {
     "base_uri": "https://localhost:8080/",
     "height": 350
    },
    "colab_type": "code",
    "id": "q5Co71Km3vLM",
    "outputId": "78129f8c-9d05-4945-86ca-e4dbf1ecdaab"
   },
   "outputs": [
    {
     "data": {
      "text/plain": [
       "(array([525.,  65.,  33.,  29.,  11.,  15.,   9.,   7.,  10.,   8.]),\n",
       " array([3.78350585e-44, 9.57029581e-02, 1.91405916e-01, 2.87108874e-01,\n",
       "        3.82811832e-01, 4.78514791e-01, 5.74217749e-01, 6.69920707e-01,\n",
       "        7.65623665e-01, 8.61326623e-01, 9.57029581e-01]),\n",
       " <a list of 10 Patch objects>)"
      ]
     },
     "execution_count": 271,
     "metadata": {
      "tags": []
     },
     "output_type": "execute_result"
    },
    {
     "data": {
      "image/png": "[encoded data removed]",
      "text/plain": [
       "<Figure size 432x288 with 1 Axes>"
      ]
     },
     "metadata": {
      "tags": []
     },
     "output_type": "display_data"
    }
   ],
   "source": [
    "import matplotlib.pyplot as plt\n",
    "plt.hist(val_diff)"
   ]
  },
  {
   "cell_type": "code",
   "execution_count": 0,
   "metadata": {
    "colab": {},
    "colab_type": "code",
    "id": "q9jYQQ0U3vLP"
   },
   "outputs": [],
   "source": [
    "precision = []\n",
    "recall = []\n",
    "truths = val_asig[:, 1] == 1.\n",
    "num_truths = truths.sum()\n",
    "for threshold in np.linspace(0, 1, 100001)[:-1]:\n",
    "    assignations = val_asig[:, 0] > threshold\n",
    "    num_positives = assignations.sum()\n",
    "    true_positives = (assignations & truths)\n",
    "    num_true_positives = true_positives.sum()\n",
    "    \n",
    "    precision.append(num_true_positives / num_positives if num_positives > 0 else 1)\n",
    "    recall.append(num_true_positives / num_truths if num_truths > 0 else 1)\n",
    "    "
   ]
  },
  {
   "cell_type": "code",
   "execution_count": 273,
   "metadata": {
    "colab": {
     "base_uri": "https://localhost:8080/",
     "height": 282
    },
    "colab_type": "code",
    "id": "-9FreNuW3vLR",
    "outputId": "bac90e95-f811-4f7c-8392-553fcde0e825"
   },
   "outputs": [
    {
     "data": {
      "text/plain": [
       "[<matplotlib.lines.Line2D at 0x7fcc40d08d30>]"
      ]
     },
     "execution_count": 273,
     "metadata": {
      "tags": []
     },
     "output_type": "execute_result"
    },
    {
     "data": {
      "image/png": "[encoded data removed]",
      "text/plain": [
       "<Figure size 432x288 with 1 Axes>"
      ]
     },
     "metadata": {
      "tags": []
     },
     "output_type": "display_data"
    }
   ],
   "source": [
    "plt.plot(recall, precision)"
   ]
  },
  {
   "cell_type": "code",
   "execution_count": 0,
   "metadata": {
    "colab": {},
    "colab_type": "code",
    "id": "l6Q_3GBw3vLT"
   },
   "outputs": [],
   "source": [
    "def auc_calculator(assignations, samples = 1e5):\n",
    "    \"\"\"Calculates the probability that a randomly chosen\n",
    "    planet scores higher in the model than a randomly \n",
    "    chosen false positive.\n",
    "    \"\"\"\n",
    "    trues = assignations[:,0][assignations[:,1] == 1]\n",
    "    falses = assignations[:,0][assignations[:,1] == 0]\n",
    "    successes = 0\n",
    "    for sample in range(int(samples)):\n",
    "        true_sample = np.random.choice(trues)\n",
    "        false_sample = np.random.choice(falses)\n",
    "        if true_sample > false_sample:\n",
    "            successes += 1\n",
    "    return successes / samples"
   ]
  },
  {
   "cell_type": "code",
   "execution_count": 275,
   "metadata": {
    "colab": {
     "base_uri": "https://localhost:8080/",
     "height": 34
    },
    "colab_type": "code",
    "id": "ILMsDf6N3vLV",
    "outputId": "df5ca664-4316-4f39-dd94-680f988a1a47"
   },
   "outputs": [
    {
     "data": {
      "text/plain": [
       "0.98479"
      ]
     },
     "execution_count": 275,
     "metadata": {
      "tags": []
     },
     "output_type": "execute_result"
    }
   ],
   "source": [
    "auc_calculator(val_asig)"
   ]
  },
  {
   "cell_type": "code",
   "execution_count": 0,
   "metadata": {
    "colab": {},
    "colab_type": "code",
    "id": "MX_7uZPM3vLX"
   },
   "outputs": [],
   "source": [
    "models_folder = project_folder/\"models\"\n",
    "\n",
    "torch.save(model.state_dict(), models_folder/\"EXOPLANETv1_985.pt\")\n",
    "torch.save(optimizer.state_dict(), models_folder/\"EXOPLANETv1_985.opt\")"
   ]
  },
  {
   "cell_type": "code",
   "execution_count": 277,
   "metadata": {
    "colab": {
     "base_uri": "https://localhost:8080/",
     "height": 187
    },
    "colab_type": "code",
    "id": "ixf-AJAU3vLZ",
    "outputId": "1834014f-1400-4c55-c442-0db42ba7334d"
   },
   "outputs": [
    {
     "name": "stdout",
     "output_type": "stream",
     "text": [
      "0.98378\n",
      "0.98363\n",
      "0.98151\n",
      "0.97693\n",
      "0.97698\n",
      "0.97936\n",
      "0.98519\n",
      "0.97706\n",
      "0.97477\n",
      "0.98289\n"
     ]
    }
   ],
   "source": [
    "# Model averaging\n",
    "nof_models = 10\n",
    "\n",
    "learning_rate = 0.05\n",
    "momentum      = 0.1\n",
    "epochs        = 20\n",
    "dropout       = 0.1\n",
    "batchnorm     = True\n",
    "augment       = True\n",
    "loss_func = F.cross_entropy\n",
    "\n",
    "valid_dl = DataLoader(val_dataset, batch_size=1)\n",
    "\n",
    "model_list = []\n",
    "for i in range(nof_models):\n",
    "    n_model = ExoplaNET_v1(dropout = dropout,\n",
    "                     batchnorm = batchnorm,\n",
    "                     augment = augment\n",
    "                    ).to(device)\n",
    "    n_optimizer = torch.optim.SGD(n_model.parameters(), \n",
    "                                  lr=learning_rate, \n",
    "                                  momentum=momentum)\n",
    "    epoch_record, train_loss_record, test_loss_record, test_acc_record = fit(\n",
    "        epochs, n_model, loss_func, n_optimizer, train_dl, test_dl, verbose=False)\n",
    "    \n",
    "    val_results, val_labes = [], []\n",
    "    for xb, yb in valid_dl:\n",
    "        val_results.append(softmax(n_model(xb).cpu().detach().numpy()))\n",
    "        val_labes.append(yb.cpu().detach().numpy())\n",
    "    \n",
    "    val_results = np.concatenate(val_results)[:, 1]\n",
    "    val_labels   = np.concatenate(val_labes)\n",
    "\n",
    "    val_asig = np.stack([val_results, val_labels], axis=1)\n",
    "    print(auc_calculator(val_asig))\n",
    "\n",
    "    model_list.append(n_model)\n"
   ]
  },
  {
   "cell_type": "code",
   "execution_count": 278,
   "metadata": {
    "colab": {
     "base_uri": "https://localhost:8080/",
     "height": 51
    },
    "colab_type": "code",
    "id": "zdLEkZyZ1qs5",
    "outputId": "3df6a631-11a8-4af1-be8b-95327ac61401"
   },
   "outputs": [
    {
     "data": {
      "text/plain": [
       "tensor([[[-0.0065, -0.0039,  0.0021,  ...,  0.0103,  0.0153,  0.0203]]],\n",
       "       device='cuda:0')"
      ]
     },
     "execution_count": 278,
     "metadata": {
      "tags": []
     },
     "output_type": "execute_result"
    }
   ],
   "source": []
  },
  {
   "cell_type": "code",
   "execution_count": 279,
   "metadata": {
    "colab": {
     "base_uri": "https://localhost:8080/",
     "height": 34
    },
    "colab_type": "code",
    "id": "ofvA-6HF1U0H",
    "outputId": "a0f895b2-33b1-45ab-8e73-efb78b4a31a7"
   },
   "outputs": [
    {
     "data": {
      "text/plain": [
       "tensor([[ 1.2225, -1.4098]], device='cuda:0', grad_fn=<AddmmBackward>)"
      ]
     },
     "execution_count": 279,
     "metadata": {
      "tags": []
     },
     "output_type": "execute_result"
    }
   ],
   "source": [
    "\n",
    "\n",
    "model_list[0](xb)"
   ]
  },
  {
   "cell_type": "code",
   "execution_count": 0,
   "metadata": {
    "colab": {},
    "colab_type": "code",
    "id": "nuMkzYxNvODv"
   },
   "outputs": [],
   "source": [
    "from scipy.special import softmax\n",
    "\n",
    "def averaged_model(model_list, xb):\n",
    "    results = 0\n",
    "    for n_model in model_list:\n",
    "        results += n_model(xb)\n",
    "    return softmax(results.cpu().detach().numpy())\n",
    "\n",
    "av_model = lambda x: averaged_model(model_list, x)"
   ]
  },
  {
   "cell_type": "code",
   "execution_count": 286,
   "metadata": {
    "colab": {
     "base_uri": "https://localhost:8080/",
     "height": 34
    },
    "colab_type": "code",
    "id": "on6tGwH-2RQ9",
    "outputId": "6f0ce1e6-e2b6-48cd-c751-3d51ea6ff00b"
   },
   "outputs": [
    {
     "data": {
      "text/plain": [
       "array([[1.000000e+00, 8.979084e-09]], dtype=float32)"
      ]
     },
     "execution_count": 286,
     "metadata": {
      "tags": []
     },
     "output_type": "execute_result"
    }
   ],
   "source": [
    "av_model(xb)"
   ]
  },
  {
   "cell_type": "code",
   "execution_count": 0,
   "metadata": {
    "colab": {},
    "colab_type": "code",
    "id": "KU21Oy-M2Sp0"
   },
   "outputs": [],
   "source": [
    "from scipy.special import softmax\n",
    "\n",
    "valid_dl = DataLoader(val_dataset, batch_size=1)\n",
    "val_results, val_labes = [], []\n",
    "for xb, yb in valid_dl:\n",
    "    val_results.append(av_model(xb))\n",
    "    val_labes.append(yb.cpu().detach().numpy())\n",
    "val_results = np.concatenate(val_results)[:, 1]\n",
    "val_labels   = np.concatenate(val_labes)\n",
    "\n",
    "val_asig = np.stack([val_results, val_labels], axis=1)"
   ]
  },
  {
   "cell_type": "code",
   "execution_count": 288,
   "metadata": {
    "colab": {
     "base_uri": "https://localhost:8080/",
     "height": 316
    },
    "colab_type": "code",
    "id": "uGO8FPD328mp",
    "outputId": "d82d1d07-ec78-481c-b362-dcc11921b380"
   },
   "outputs": [
    {
     "data": {
      "text/plain": [
       "(array([666.,   4.,   1.,   1.,   3.,   0.,   1.,   4.,   2.,  30.]),\n",
       " array([0. , 0.1, 0.2, 0.3, 0.4, 0.5, 0.6, 0.7, 0.8, 0.9, 1. ]),\n",
       " <a list of 10 Patch objects>)"
      ]
     },
     "execution_count": 288,
     "metadata": {
      "tags": []
     },
     "output_type": "execute_result"
    },
    {
     "data": {
      "image/png": "[encoded data removed]",
      "text/plain": [
       "<Figure size 432x288 with 1 Axes>"
      ]
     },
     "metadata": {
      "tags": []
     },
     "output_type": "display_data"
    }
   ],
   "source": [
    "val_diff = np.abs(val_asig[:, 0] - val_asig[:, 1])\n",
    "plt.hist(val_diff)"
   ]
  },
  {
   "cell_type": "code",
   "execution_count": 0,
   "metadata": {
    "colab": {},
    "colab_type": "code",
    "id": "sOZr4Wmv3EvI"
   },
   "outputs": [],
   "source": [
    "precision = []\n",
    "recall = []\n",
    "truths = val_asig[:, 1] == 1.\n",
    "num_truths = truths.sum()\n",
    "for threshold in np.linspace(0, 1, 100001)[:-1]:\n",
    "    assignations = val_asig[:, 0] > threshold\n",
    "    num_positives = assignations.sum()\n",
    "    true_positives = (assignations & truths)\n",
    "    num_true_positives = true_positives.sum()\n",
    "    \n",
    "    precision.append(num_true_positives / num_positives if num_positives > 0 else 1)\n",
    "    recall.append(num_true_positives / num_truths if num_truths > 0 else 1)\n",
    "    "
   ]
  },
  {
   "cell_type": "code",
   "execution_count": 290,
   "metadata": {
    "colab": {
     "base_uri": "https://localhost:8080/",
     "height": 282
    },
    "colab_type": "code",
    "id": "WoW9uUFJ3J-G",
    "outputId": "ecc94d47-3f1d-4543-ec5b-2cce3c3c909d"
   },
   "outputs": [
    {
     "data": {
      "text/plain": [
       "[<matplotlib.lines.Line2D at 0x7fcc40b05550>]"
      ]
     },
     "execution_count": 290,
     "metadata": {
      "tags": []
     },
     "output_type": "execute_result"
    },
    {
     "data": {
      "image/png": "[encoded data removed]",
      "text/plain": [
       "<Figure size 432x288 with 1 Axes>"
      ]
     },
     "metadata": {
      "tags": []
     },
     "output_type": "display_data"
    }
   ],
   "source": [
    "plt.plot(recall, precision)"
   ]
  },
  {
   "cell_type": "code",
   "execution_count": 291,
   "metadata": {
    "colab": {
     "base_uri": "https://localhost:8080/",
     "height": 34
    },
    "colab_type": "code",
    "id": "7PJ1PbZI3Mce",
    "outputId": "1b7ca1b1-cab8-48c2-91eb-5efb977bb7fa"
   },
   "outputs": [
    {
     "data": {
      "text/plain": [
       "0.9704"
      ]
     },
     "execution_count": 291,
     "metadata": {
      "tags": []
     },
     "output_type": "execute_result"
    }
   ],
   "source": [
    "auc_calculator(val_asig)"
   ]
  },
  {
   "cell_type": "code",
   "execution_count": 0,
   "metadata": {
    "colab": {},
    "colab_type": "code",
    "id": "ZuqVZ_k23PvQ"
   },
   "outputs": [],
   "source": []
  }
 ],
 "metadata": {
  "accelerator": "GPU",
  "colab": {
   "collapsed_sections": [],
   "name": "model_test.ipynb",
   "provenance": [],
   "toc_visible": true
  },
  "kernelspec": {
   "display_name": "Python 3",
   "language": "python",
   "name": "python3"
  },
  "language_info": {
   "codemirror_mode": {
    "name": "ipython",
    "version": 3
   },
   "file_extension": ".py",
   "mimetype": "text/x-python",
   "name": "python",
   "nbconvert_exporter": "python",
   "pygments_lexer": "ipython3",
   "version": "3.7.5"
  }
 },
 "nbformat": 4,
 "nbformat_minor": 1
}
