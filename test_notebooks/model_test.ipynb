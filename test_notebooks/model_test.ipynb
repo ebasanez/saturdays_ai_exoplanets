{
 "cells": [
  {
   "cell_type": "markdown",
   "metadata": {},
   "source": [
    "# Test for the CNN Model"
   ]
  },
  {
   "cell_type": "markdown",
   "metadata": {},
   "source": [
    "This notebook will be used to create and train a dummy version of the model that will be used for classifying the transit light curves."
   ]
  },
  {
   "cell_type": "code",
   "execution_count": 20,
   "metadata": {},
   "outputs": [],
   "source": [
    "# Imports\n",
    "import numpy as np\n",
    "import matplotlib.pyplot as plt\n",
    "from sklearn.model_selection import train_test_split\n",
    "\n",
    "import torch\n",
    "import torch.nn.functional as F\n",
    "from torch.utils.data import TensorDataset\n",
    "from torch.utils.data import DataLoader\n",
    "from torch import nn"
   ]
  },
  {
   "cell_type": "code",
   "execution_count": 21,
   "metadata": {},
   "outputs": [
    {
     "name": "stdout",
     "output_type": "stream",
     "text": [
      "Using cuda\n"
     ]
    }
   ],
   "source": [
    "# Check whether GPU is available and choose a device to run the model on\n",
    "gpu_available = torch.cuda.is_available()\n",
    "device_name = \"cuda\" if gpu_available else \"cpu\"\n",
    "device = torch.device(device_name)\n",
    "\n",
    "print(f\"Using {device_name}\")"
   ]
  },
  {
   "cell_type": "code",
   "execution_count": 22,
   "metadata": {},
   "outputs": [],
   "source": [
    "# Create dummy tensors for input\n",
    "\n",
    "N = 5000   # Number of samples per type of input\n",
    "L = 1000  # Length of input array\n",
    "\n",
    "f1 = -5  # Bias of sine wave for the type 1 inputs\n",
    "f2 = 5   # Bias of sine wave for the type 2 inputs\n",
    "\n",
    "def normal(avg, std, dimensions):\n",
    "    \"\"\"Torch tensor of samples from a normal distribution, with given shape.\"\"\"\n",
    "    return torch.from_numpy(std * np.random.randn(*dimensions) + avg)\n",
    "\n",
    "def uniform(mini, maxi, dimensions):\n",
    "    \"\"\"Torch tensor of samples from an uniform distribution between two numbers, with given shape.\"\"\"\n",
    "    return torch.from_numpy(np.random.random(dimensions)*(maxi-mini) - mini)\n",
    "\n",
    "def create_sine_tensor(b, N, L):\n",
    "    \"\"\"Creates a series of sine wave vectors, with given bias and random phase, amplitude and frequency.\"\"\"\n",
    "    tensor = (normal(1., 0.1, [N, 1, 1]) * \n",
    "              torch.sin(normal(0, 10, [N, 1, 1]) * torch.arange(L).view(1, 1, L) + uniform(0, 2*np.pi, [N, 1, 1])) + \n",
    "              b + normal(0, 0., [N, 1, L]))\n",
    "    return tensor\n",
    "\n",
    "# Labels will be a categorical variable directly\n",
    "type_1, label_1 = create_sine_tensor(f1, N, L), torch.zeros(N)\n",
    "type_2, label_2 = create_sine_tensor(f2, N, L), torch.ones(N)"
   ]
  },
  {
   "cell_type": "code",
   "execution_count": 23,
   "metadata": {},
   "outputs": [],
   "source": [
    "# Concatenate tensors from both types and store them in GPU if available\n",
    "X, y = [torch.cat((type_1, type_2)).to(device, dtype=torch.float), \n",
    "         torch.cat((label_1, label_2)).to(device, dtype=torch.long)]\n",
    "\n",
    "# Create an iterable dataset from the input and label tensors\n",
    "dataset = TensorDataset(X, y)"
   ]
  },
  {
   "cell_type": "code",
   "execution_count": 24,
   "metadata": {},
   "outputs": [],
   "source": [
    "# Perform the train/test/validation split\n",
    "train_size = int(0.7 * len(y))\n",
    "test_size  = int(0.2 * len(y))\n",
    "valid_size = len(y) - train_size - test_size\n",
    "train_dataset, test_dataset, valid_dataset = torch.utils.data.random_split(dataset, [train_size, test_size, valid_size])"
   ]
  },
  {
   "cell_type": "code",
   "execution_count": 25,
   "metadata": {},
   "outputs": [],
   "source": [
    "# Choose a batch size and create a data loader from the dataset\n",
    "\n",
    "bs = 100  # Batch size\n",
    "train_dl = DataLoader(train_dataset, batch_size=bs, shuffle=True)  # Needs shuffling to prevent correlation between batches\n",
    "test_dl  = DataLoader(test_dataset,  batch_size=bs * 2)  # Test can use higher batch size because it needs less memory\n",
    "valid_dl = DataLoader(valid_dataset, batch_size=bs * 2)  # Validation can use higher batch size because it needs less memory"
   ]
  },
  {
   "cell_type": "code",
   "execution_count": 26,
   "metadata": {},
   "outputs": [
    {
     "data": {
      "text/plain": [
       "torch.Size([1, 1000])"
      ]
     },
     "execution_count": 26,
     "metadata": {},
     "output_type": "execute_result"
    }
   ],
   "source": [
    "X[0].size()"
   ]
  },
  {
   "cell_type": "code",
   "execution_count": 27,
   "metadata": {},
   "outputs": [],
   "source": [
    "class Test_CNN(nn.Module):\n",
    "    def __init__(self):\n",
    "        super().__init__()\n",
    "        self.conv1 = nn.Conv1d(1, 8, kernel_size=3, stride=1, padding=1)\n",
    "        self.conv2 = nn.Conv1d(8, 8, kernel_size=3, stride=1, padding=1)\n",
    "        self.conv3 = nn.Conv1d(8, 4, kernel_size=3, stride=1, padding=1)\n",
    "        self.fc1   = nn.Linear(1000, 50)\n",
    "        self.fc2   = nn.Linear(50, 2)\n",
    "        \n",
    "    def forward(self, xb):  # xb is of size (1, 1000)\n",
    "        \n",
    "        # Convolutions and pooling\n",
    "        xb = F.relu(self.conv1(xb))  # Size (8, 1000)\n",
    "        xb = F.relu(self.conv2(xb))  # Size (8, 1000)\n",
    "        xb = F.relu(self.conv3(xb))  # Size (4, 1000)\n",
    "        xb = F.avg_pool1d(xb, 4)     # Size (4, 250)\n",
    "        \n",
    "        # Reshape to input the linear layer\n",
    "        xb = xb.view(-1, 1000)  # -1 infers the necessary dimesion from the rest\n",
    "        \n",
    "        # Apply fully connected layers\n",
    "        xb = F.relu(self.fc1(xb))    # Size (1, 50)\n",
    "        xb = self.fc2(xb)            # Size (1, 2)\n",
    "        \n",
    "        return xb"
   ]
  },
  {
   "cell_type": "code",
   "execution_count": 28,
   "metadata": {},
   "outputs": [],
   "source": [
    "def get_model():\n",
    "    model = Test_CNN()\n",
    "    return model, optim.SGD(model.parameters(), lr=lr)"
   ]
  },
  {
   "cell_type": "code",
   "execution_count": 29,
   "metadata": {},
   "outputs": [],
   "source": [
    "def loss_batch(model, loss_func, xb, yb, opt=None):\n",
    "    loss = loss_func(model(xb), yb)\n",
    "\n",
    "    # If an optimizer is used, then run as if trianing\n",
    "    if opt is not None:\n",
    "        loss.backward()\n",
    "        opt.step()\n",
    "        opt.zero_grad()\n",
    "\n",
    "    return loss.item(), len(xb)"
   ]
  },
  {
   "cell_type": "code",
   "execution_count": 30,
   "metadata": {},
   "outputs": [],
   "source": [
    "def fit(epochs, model, loss_func, opt, train_dl, test_dl, verbose=True):\n",
    "    for epoch in range(epochs):\n",
    "        model.train()\n",
    "        for xb, yb in train_dl:\n",
    "            loss_batch(model, loss_func, xb, yb, opt)\n",
    "\n",
    "        model.eval()\n",
    "        with torch.no_grad():\n",
    "            losses, nums = zip(\n",
    "                *[loss_batch(model, loss_func, xb, yb) for xb, yb in test_dl]\n",
    "                )\n",
    "        val_loss = np.sum(np.multiply(losses, nums)) / np.sum(nums)  # Average the individual losses in the batch\n",
    "\n",
    "        if verbose:\n",
    "            print(f\"Epoch: {epoch}; Validation loss: {val_loss}\")"
   ]
  },
  {
   "cell_type": "code",
   "execution_count": 31,
   "metadata": {},
   "outputs": [],
   "source": [
    "learning_rate = 2.\n",
    "momentum      = 0.5\n",
    "epochs        = 20\n",
    "\n",
    "loss_func = F.cross_entropy\n",
    "model = Test_CNN().to(device)\n",
    "optimizer = torch.optim.SGD(model.parameters(), lr=learning_rate, momentum=momentum)"
   ]
  },
  {
   "cell_type": "code",
   "execution_count": 32,
   "metadata": {},
   "outputs": [
    {
     "name": "stdout",
     "output_type": "stream",
     "text": [
      "Epoch: 0; Validation loss: 0.7384360551834106\n",
      "Epoch: 1; Validation loss: 0.6967483282089233\n",
      "Epoch: 2; Validation loss: 0.6932131052017212\n",
      "Epoch: 3; Validation loss: 0.6997573852539063\n",
      "Epoch: 4; Validation loss: 0.6989070534706116\n",
      "Epoch: 5; Validation loss: 0.7006918251514435\n",
      "Epoch: 6; Validation loss: 0.7120021522045136\n",
      "Epoch: 7; Validation loss: 0.7084070861339569\n",
      "Epoch: 8; Validation loss: 0.6955600440502167\n",
      "Epoch: 9; Validation loss: 0.6964947640895843\n",
      "Epoch: 10; Validation loss: 0.6964199125766755\n",
      "Epoch: 11; Validation loss: 0.6936882913112641\n",
      "Epoch: 12; Validation loss: 0.6928821682929993\n",
      "Epoch: 13; Validation loss: 0.69563227891922\n",
      "Epoch: 14; Validation loss: 0.7029002964496612\n",
      "Epoch: 15; Validation loss: 0.7015677750110626\n",
      "Epoch: 16; Validation loss: 0.6991791367530823\n",
      "Epoch: 17; Validation loss: 0.6929540514945984\n",
      "Epoch: 18; Validation loss: 0.6928958833217621\n",
      "Epoch: 19; Validation loss: 0.6935159623622894\n"
     ]
    }
   ],
   "source": [
    "fit(epochs, model, loss_func, optimizer, train_dl, test_dl)"
   ]
  },
  {
   "cell_type": "code",
   "execution_count": 33,
   "metadata": {},
   "outputs": [
    {
     "data": {
      "text/plain": [
       "[<matplotlib.lines.Line2D at 0x22044d9cc08>]"
      ]
     },
     "execution_count": 33,
     "metadata": {},
     "output_type": "execute_result"
    },
    {
     "data": {
      "image/png": "[encoded data removed]",
      "text/plain": [
       "<Figure size 432x288 with 1 Axes>"
      ]
     },
     "metadata": {
      "needs_background": "light"
     },
     "output_type": "display_data"
    }
   ],
   "source": [
    "plt.plot(valid_dataset[5][0].cpu().numpy().flatten())"
   ]
  },
  {
   "cell_type": "code",
   "execution_count": 34,
   "metadata": {},
   "outputs": [
    {
     "data": {
      "text/plain": [
       "tensor(1, device='cuda:0')"
      ]
     },
     "execution_count": 34,
     "metadata": {},
     "output_type": "execute_result"
    }
   ],
   "source": [
    "valid_dataset[5][1]"
   ]
  },
  {
   "cell_type": "code",
   "execution_count": 35,
   "metadata": {},
   "outputs": [
    {
     "data": {
      "text/plain": [
       "tensor(0.7552, device='cuda:0', grad_fn=<NllLossBackward>)"
      ]
     },
     "execution_count": 35,
     "metadata": {},
     "output_type": "execute_result"
    }
   ],
   "source": [
    "F.cross_entropy(model(valid_dataset[5:6][0]), valid_dataset[5:6][1])"
   ]
  },
  {
   "cell_type": "code",
   "execution_count": 36,
   "metadata": {},
   "outputs": [
    {
     "data": {
      "text/plain": [
       "tensor([[0.5301, 0.4699]], device='cuda:0', grad_fn=<SoftmaxBackward>)"
      ]
     },
     "execution_count": 36,
     "metadata": {},
     "output_type": "execute_result"
    }
   ],
   "source": [
    "F.softmax(model(valid_dataset[5:6][0]), dim=1)"
   ]
  },
  {
   "cell_type": "code",
   "execution_count": 37,
   "metadata": {},
   "outputs": [
    {
     "data": {
      "text/plain": [
       "torch.Size([1, 1, 1000])"
      ]
     },
     "execution_count": 37,
     "metadata": {},
     "output_type": "execute_result"
    }
   ],
   "source": [
    "valid_dataset[5:6][0].size()"
   ]
  },
  {
   "cell_type": "code",
   "execution_count": null,
   "metadata": {},
   "outputs": [],
   "source": []
  }
 ],
 "metadata": {
  "kernelspec": {
   "display_name": "Python 3",
   "language": "python",
   "name": "python3"
  },
  "language_info": {
   "codemirror_mode": {
    "name": "ipython",
    "version": 3
   },
   "file_extension": ".py",
   "mimetype": "text/x-python",
   "name": "python",
   "nbconvert_exporter": "python",
   "pygments_lexer": "ipython3",
   "version": "3.7.5"
  }
 },
 "nbformat": 4,
 "nbformat_minor": 4
}
