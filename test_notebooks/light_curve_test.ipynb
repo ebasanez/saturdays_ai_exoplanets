{
 "cells": [
  {
   "cell_type": "code",
   "execution_count": 16,
   "metadata": {},
   "outputs": [],
   "source": [
    "import kplr\n",
    "import matplotlib.pyplot as plt\n",
    "import numpy as np"
   ]
  },
  {
   "cell_type": "code",
   "execution_count": 9,
   "metadata": {},
   "outputs": [
    {
     "name": "stdout",
     "output_type": "stream",
     "text": [
      "5.90127815 7.03e-06 -7.03e-06\n"
     ]
    }
   ],
   "source": [
    "client = kplr.API()\n",
    "\n",
    "# Search info about Kepler Objects of Interest:\n",
    "koi_id = \"952.01\"\n",
    "koi = client.koi(koi_id)\n",
    "print(koi.koi_period, koi.koi_period_err1, koi.koi_period_err2)"
   ]
  },
  {
   "cell_type": "code",
   "execution_count": 24,
   "metadata": {},
   "outputs": [
    {
     "name": "stdout",
     "output_type": "stream",
     "text": [
      "Light curves for star  3911\n",
      "/Users/miguel/.kplr/data/lightcurves/009787239/kplr009787239-2009166043257_llc.fits\n",
      "/Users/miguel/.kplr/data/lightcurves/009787239/kplr009787239-2009259160929_llc.fits\n",
      "/Users/miguel/.kplr/data/lightcurves/009787239/kplr009787239-2009350155506_llc.fits\n",
      "/Users/miguel/.kplr/data/lightcurves/009787239/kplr009787239-2010078095331_llc.fits\n",
      "/Users/miguel/.kplr/data/lightcurves/009787239/kplr009787239-2010174085026_llc.fits\n",
      "/Users/miguel/.kplr/data/lightcurves/009787239/kplr009787239-2010265121752_llc.fits\n",
      "/Users/miguel/.kplr/data/lightcurves/009787239/kplr009787239-2011024051157_slc.fits\n",
      "/Users/miguel/.kplr/data/lightcurves/009787239/kplr009787239-2011053090032_slc.fits\n",
      "/Users/miguel/.kplr/data/lightcurves/009787239/kplr009787239-2011073133259_llc.fits\n",
      "/Users/miguel/.kplr/data/lightcurves/009787239/kplr009787239-2011073133259_slc.fits\n",
      "/Users/miguel/.kplr/data/lightcurves/009787239/kplr009787239-2011116030358_slc.fits\n",
      "/Users/miguel/.kplr/data/lightcurves/009787239/kplr009787239-2011145075126_slc.fits\n",
      "/Users/miguel/.kplr/data/lightcurves/009787239/kplr009787239-2011177032512_llc.fits\n",
      "/Users/miguel/.kplr/data/lightcurves/009787239/kplr009787239-2011177032512_slc.fits\n",
      "/Users/miguel/.kplr/data/lightcurves/009787239/kplr009787239-2011208035123_slc.fits\n",
      "/Users/miguel/.kplr/data/lightcurves/009787239/kplr009787239-2011240104155_slc.fits\n",
      "/Users/miguel/.kplr/data/lightcurves/009787239/kplr009787239-2011271113734_llc.fits\n",
      "/Users/miguel/.kplr/data/lightcurves/009787239/kplr009787239-2011271113734_slc.fits\n",
      "/Users/miguel/.kplr/data/lightcurves/009787239/kplr009787239-2012032013838_slc.fits\n",
      "/Users/miguel/.kplr/data/lightcurves/009787239/kplr009787239-2012060035710_slc.fits\n",
      "/Users/miguel/.kplr/data/lightcurves/009787239/kplr009787239-2012088054726_llc.fits\n",
      "/Users/miguel/.kplr/data/lightcurves/009787239/kplr009787239-2012088054726_slc.fits\n",
      "/Users/miguel/.kplr/data/lightcurves/009787239/kplr009787239-2012121044856_slc.fits\n",
      "/Users/miguel/.kplr/data/lightcurves/009787239/kplr009787239-2012151031540_slc.fits\n",
      "/Users/miguel/.kplr/data/lightcurves/009787239/kplr009787239-2012179063303_llc.fits\n",
      "/Users/miguel/.kplr/data/lightcurves/009787239/kplr009787239-2012179063303_slc.fits\n",
      "/Users/miguel/.kplr/data/lightcurves/009787239/kplr009787239-2012211050319_slc.fits\n",
      "/Users/miguel/.kplr/data/lightcurves/009787239/kplr009787239-2012242122129_slc.fits\n",
      "/Users/miguel/.kplr/data/lightcurves/009787239/kplr009787239-2012277125453_llc.fits\n",
      "/Users/miguel/.kplr/data/lightcurves/009787239/kplr009787239-2012277125453_slc.fits\n",
      "/Users/miguel/.kplr/data/lightcurves/009787239/kplr009787239-2013017113907_slc.fits\n",
      "/Users/miguel/.kplr/data/lightcurves/009787239/kplr009787239-2013065031647_slc.fits\n",
      "/Users/miguel/.kplr/data/lightcurves/009787239/kplr009787239-2013098041711_llc.fits\n",
      "/Users/miguel/.kplr/data/lightcurves/009787239/kplr009787239-2013098041711_slc.fits\n",
      "/Users/miguel/.kplr/data/lightcurves/009787239/kplr009787239-2013121191144_slc.fits\n",
      "/Users/miguel/.kplr/data/lightcurves/009787239/kplr009787239-2013131215648_llc.fits\n",
      "/Users/miguel/.kplr/data/lightcurves/009787239/kplr009787239-2013131215648_slc.fits\n"
     ]
    }
   ],
   "source": [
    "# Search information about stars:\n",
    "#stars = client.stars(kic_teff=\"5700..5800\") # Max 100 per request\n",
    "star = client.star(9787239)\n",
    "print(\"Light curves for star \", star.kic_teff)\n",
    "\n",
    "time, flux, ferr, quality = [], [], [], []\n",
    "\n",
    "light_curves = star.get_light_curves()\n",
    "for light_curve in light_curves:\n",
    "    print(light_curve.filename)\n",
    "    with light_curve.open() as f:\n",
    "        hdu_data = f[1].data\n",
    "        time.append(hdu_data[\"time\"])\n",
    "        flux.append(hdu_data[\"sap_flux\"])\n",
    "        ferr.append(hdu_data[\"sap_flux_err\"])\n",
    "        quality.append(hdu_data[\"sap_quality\"])\n",
    "time = np.concatenate(time)\n",
    "flux = np.concatenate(flux)"
   ]
  },
  {
   "cell_type": "code",
   "execution_count": 25,
   "metadata": {},
   "outputs": [
    {
     "data": {
      "text/plain": [
       "[<matplotlib.lines.Line2D at 0x120169c10>]"
      ]
     },
     "execution_count": 25,
     "metadata": {},
     "output_type": "execute_result"
    },
    {
     "data": {
      "image/png": "[encoded data removed]",
      "text/plain": [
       "<Figure size 432x288 with 1 Axes>"
      ]
     },
     "metadata": {
      "needs_background": "light"
     },
     "output_type": "display_data"
    }
   ],
   "source": [
    "plt.plot(time, flux)"
   ]
  },
  {
   "cell_type": "code",
   "execution_count": 6,
   "metadata": {},
   "outputs": [
    {
     "data": {
      "text/plain": [
       "[<matplotlib.lines.Line2D at 0x10c898710>]"
      ]
     },
     "execution_count": 6,
     "metadata": {},
     "output_type": "execute_result"
    },
    {
     "data": {
      "image/png": "[encoded data removed]",
      "text/plain": [
       "<Figure size 432x288 with 1 Axes>"
      ]
     },
     "metadata": {
      "needs_background": "light"
     },
     "output_type": "display_data"
    }
   ],
   "source": [
    "plt.plot(time[1], flux[1])"
   ]
  },
  {
   "cell_type": "code",
   "execution_count": 12,
   "metadata": {},
   "outputs": [
    {
     "data": {
      "text/plain": [
       "list"
      ]
     },
     "execution_count": 12,
     "metadata": {},
     "output_type": "execute_result"
    }
   ],
   "source": [
    "type(time)"
   ]
  },
  {
   "cell_type": "code",
   "execution_count": 17,
   "metadata": {},
   "outputs": [
    {
     "data": {
      "text/plain": [
       "array([], dtype=float64)"
      ]
     },
     "execution_count": 17,
     "metadata": {},
     "output_type": "execute_result"
    }
   ],
   "source": [
    "np.array([])"
   ]
  },
  {
   "cell_type": "code",
   "execution_count": null,
   "metadata": {},
   "outputs": [],
   "source": []
  }
 ],
 "metadata": {
  "kernelspec": {
   "display_name": "Python 3",
   "language": "python",
   "name": "python3"
  },
  "language_info": {
   "codemirror_mode": {
    "name": "ipython",
    "version": 3
   },
   "file_extension": ".py",
   "mimetype": "text/x-python",
   "name": "python",
   "nbconvert_exporter": "python",
   "pygments_lexer": "ipython3",
   "version": "3.7.5"
  }
 },
 "nbformat": 4,
 "nbformat_minor": 4
}
